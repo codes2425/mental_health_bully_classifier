{
  "metadata": {
    "kernelspec": {
      "name": "python3",
      "display_name": "Python 3"
    },
    "language_info": {
      "name": "python",
      "version": "3.10.12",
      "mimetype": "text/x-python",
      "codemirror_mode": {
        "name": "ipython",
        "version": 3
      },
      "pygments_lexer": "ipython3",
      "nbconvert_exporter": "python",
      "file_extension": ".py"
    },
    "colab": {
      "provenance": [],
      "gpuType": "A100",
      "machine_shape": "hm"
    },
    "accelerator": "GPU",
    "widgets": {
      "application/vnd.jupyter.widget-state+json": {
        "00fb46db6dff485faf69088859351c71": {
          "model_module": "@jupyter-widgets/controls",
          "model_name": "HBoxModel",
          "model_module_version": "1.5.0",
          "state": {
            "_dom_classes": [],
            "_model_module": "@jupyter-widgets/controls",
            "_model_module_version": "1.5.0",
            "_model_name": "HBoxModel",
            "_view_count": null,
            "_view_module": "@jupyter-widgets/controls",
            "_view_module_version": "1.5.0",
            "_view_name": "HBoxView",
            "box_style": "",
            "children": [
              "IPY_MODEL_7c46b6b7e40f44c0b83875d32f2bdcae",
              "IPY_MODEL_3155fdf93226444d95c9d87c3177e465",
              "IPY_MODEL_92694b1bc05c4c498e44ee2663fa3931"
            ],
            "layout": "IPY_MODEL_2cbfdf5b1f454d7db12c4ca6644fe079"
          }
        },
        "7c46b6b7e40f44c0b83875d32f2bdcae": {
          "model_module": "@jupyter-widgets/controls",
          "model_name": "HTMLModel",
          "model_module_version": "1.5.0",
          "state": {
            "_dom_classes": [],
            "_model_module": "@jupyter-widgets/controls",
            "_model_module_version": "1.5.0",
            "_model_name": "HTMLModel",
            "_view_count": null,
            "_view_module": "@jupyter-widgets/controls",
            "_view_module_version": "1.5.0",
            "_view_name": "HTMLView",
            "description": "",
            "description_tooltip": null,
            "layout": "IPY_MODEL_29d98696af68415ea3fe2c658b32d48b",
            "placeholder": "​",
            "style": "IPY_MODEL_c195930490844182b62bda5b29293e1f",
            "value": "tokenizer_config.json: 100%"
          }
        },
        "3155fdf93226444d95c9d87c3177e465": {
          "model_module": "@jupyter-widgets/controls",
          "model_name": "FloatProgressModel",
          "model_module_version": "1.5.0",
          "state": {
            "_dom_classes": [],
            "_model_module": "@jupyter-widgets/controls",
            "_model_module_version": "1.5.0",
            "_model_name": "FloatProgressModel",
            "_view_count": null,
            "_view_module": "@jupyter-widgets/controls",
            "_view_module_version": "1.5.0",
            "_view_name": "ProgressView",
            "bar_style": "success",
            "description": "",
            "description_tooltip": null,
            "layout": "IPY_MODEL_95ab6763136f4bde8a55a5d33ee83aa1",
            "max": 48,
            "min": 0,
            "orientation": "horizontal",
            "style": "IPY_MODEL_da506534f52f41b1bfe26f89e483c20f",
            "value": 48
          }
        },
        "92694b1bc05c4c498e44ee2663fa3931": {
          "model_module": "@jupyter-widgets/controls",
          "model_name": "HTMLModel",
          "model_module_version": "1.5.0",
          "state": {
            "_dom_classes": [],
            "_model_module": "@jupyter-widgets/controls",
            "_model_module_version": "1.5.0",
            "_model_name": "HTMLModel",
            "_view_count": null,
            "_view_module": "@jupyter-widgets/controls",
            "_view_module_version": "1.5.0",
            "_view_name": "HTMLView",
            "description": "",
            "description_tooltip": null,
            "layout": "IPY_MODEL_52f37a4a214b441d939d6f402ce0d3ee",
            "placeholder": "​",
            "style": "IPY_MODEL_a0b45fdf72174d5b93261487923682fd",
            "value": " 48.0/48.0 [00:00&lt;00:00, 4.61kB/s]"
          }
        },
        "2cbfdf5b1f454d7db12c4ca6644fe079": {
          "model_module": "@jupyter-widgets/base",
          "model_name": "LayoutModel",
          "model_module_version": "1.2.0",
          "state": {
            "_model_module": "@jupyter-widgets/base",
            "_model_module_version": "1.2.0",
            "_model_name": "LayoutModel",
            "_view_count": null,
            "_view_module": "@jupyter-widgets/base",
            "_view_module_version": "1.2.0",
            "_view_name": "LayoutView",
            "align_content": null,
            "align_items": null,
            "align_self": null,
            "border": null,
            "bottom": null,
            "display": null,
            "flex": null,
            "flex_flow": null,
            "grid_area": null,
            "grid_auto_columns": null,
            "grid_auto_flow": null,
            "grid_auto_rows": null,
            "grid_column": null,
            "grid_gap": null,
            "grid_row": null,
            "grid_template_areas": null,
            "grid_template_columns": null,
            "grid_template_rows": null,
            "height": null,
            "justify_content": null,
            "justify_items": null,
            "left": null,
            "margin": null,
            "max_height": null,
            "max_width": null,
            "min_height": null,
            "min_width": null,
            "object_fit": null,
            "object_position": null,
            "order": null,
            "overflow": null,
            "overflow_x": null,
            "overflow_y": null,
            "padding": null,
            "right": null,
            "top": null,
            "visibility": null,
            "width": null
          }
        },
        "29d98696af68415ea3fe2c658b32d48b": {
          "model_module": "@jupyter-widgets/base",
          "model_name": "LayoutModel",
          "model_module_version": "1.2.0",
          "state": {
            "_model_module": "@jupyter-widgets/base",
            "_model_module_version": "1.2.0",
            "_model_name": "LayoutModel",
            "_view_count": null,
            "_view_module": "@jupyter-widgets/base",
            "_view_module_version": "1.2.0",
            "_view_name": "LayoutView",
            "align_content": null,
            "align_items": null,
            "align_self": null,
            "border": null,
            "bottom": null,
            "display": null,
            "flex": null,
            "flex_flow": null,
            "grid_area": null,
            "grid_auto_columns": null,
            "grid_auto_flow": null,
            "grid_auto_rows": null,
            "grid_column": null,
            "grid_gap": null,
            "grid_row": null,
            "grid_template_areas": null,
            "grid_template_columns": null,
            "grid_template_rows": null,
            "height": null,
            "justify_content": null,
            "justify_items": null,
            "left": null,
            "margin": null,
            "max_height": null,
            "max_width": null,
            "min_height": null,
            "min_width": null,
            "object_fit": null,
            "object_position": null,
            "order": null,
            "overflow": null,
            "overflow_x": null,
            "overflow_y": null,
            "padding": null,
            "right": null,
            "top": null,
            "visibility": null,
            "width": null
          }
        },
        "c195930490844182b62bda5b29293e1f": {
          "model_module": "@jupyter-widgets/controls",
          "model_name": "DescriptionStyleModel",
          "model_module_version": "1.5.0",
          "state": {
            "_model_module": "@jupyter-widgets/controls",
            "_model_module_version": "1.5.0",
            "_model_name": "DescriptionStyleModel",
            "_view_count": null,
            "_view_module": "@jupyter-widgets/base",
            "_view_module_version": "1.2.0",
            "_view_name": "StyleView",
            "description_width": ""
          }
        },
        "95ab6763136f4bde8a55a5d33ee83aa1": {
          "model_module": "@jupyter-widgets/base",
          "model_name": "LayoutModel",
          "model_module_version": "1.2.0",
          "state": {
            "_model_module": "@jupyter-widgets/base",
            "_model_module_version": "1.2.0",
            "_model_name": "LayoutModel",
            "_view_count": null,
            "_view_module": "@jupyter-widgets/base",
            "_view_module_version": "1.2.0",
            "_view_name": "LayoutView",
            "align_content": null,
            "align_items": null,
            "align_self": null,
            "border": null,
            "bottom": null,
            "display": null,
            "flex": null,
            "flex_flow": null,
            "grid_area": null,
            "grid_auto_columns": null,
            "grid_auto_flow": null,
            "grid_auto_rows": null,
            "grid_column": null,
            "grid_gap": null,
            "grid_row": null,
            "grid_template_areas": null,
            "grid_template_columns": null,
            "grid_template_rows": null,
            "height": null,
            "justify_content": null,
            "justify_items": null,
            "left": null,
            "margin": null,
            "max_height": null,
            "max_width": null,
            "min_height": null,
            "min_width": null,
            "object_fit": null,
            "object_position": null,
            "order": null,
            "overflow": null,
            "overflow_x": null,
            "overflow_y": null,
            "padding": null,
            "right": null,
            "top": null,
            "visibility": null,
            "width": null
          }
        },
        "da506534f52f41b1bfe26f89e483c20f": {
          "model_module": "@jupyter-widgets/controls",
          "model_name": "ProgressStyleModel",
          "model_module_version": "1.5.0",
          "state": {
            "_model_module": "@jupyter-widgets/controls",
            "_model_module_version": "1.5.0",
            "_model_name": "ProgressStyleModel",
            "_view_count": null,
            "_view_module": "@jupyter-widgets/base",
            "_view_module_version": "1.2.0",
            "_view_name": "StyleView",
            "bar_color": null,
            "description_width": ""
          }
        },
        "52f37a4a214b441d939d6f402ce0d3ee": {
          "model_module": "@jupyter-widgets/base",
          "model_name": "LayoutModel",
          "model_module_version": "1.2.0",
          "state": {
            "_model_module": "@jupyter-widgets/base",
            "_model_module_version": "1.2.0",
            "_model_name": "LayoutModel",
            "_view_count": null,
            "_view_module": "@jupyter-widgets/base",
            "_view_module_version": "1.2.0",
            "_view_name": "LayoutView",
            "align_content": null,
            "align_items": null,
            "align_self": null,
            "border": null,
            "bottom": null,
            "display": null,
            "flex": null,
            "flex_flow": null,
            "grid_area": null,
            "grid_auto_columns": null,
            "grid_auto_flow": null,
            "grid_auto_rows": null,
            "grid_column": null,
            "grid_gap": null,
            "grid_row": null,
            "grid_template_areas": null,
            "grid_template_columns": null,
            "grid_template_rows": null,
            "height": null,
            "justify_content": null,
            "justify_items": null,
            "left": null,
            "margin": null,
            "max_height": null,
            "max_width": null,
            "min_height": null,
            "min_width": null,
            "object_fit": null,
            "object_position": null,
            "order": null,
            "overflow": null,
            "overflow_x": null,
            "overflow_y": null,
            "padding": null,
            "right": null,
            "top": null,
            "visibility": null,
            "width": null
          }
        },
        "a0b45fdf72174d5b93261487923682fd": {
          "model_module": "@jupyter-widgets/controls",
          "model_name": "DescriptionStyleModel",
          "model_module_version": "1.5.0",
          "state": {
            "_model_module": "@jupyter-widgets/controls",
            "_model_module_version": "1.5.0",
            "_model_name": "DescriptionStyleModel",
            "_view_count": null,
            "_view_module": "@jupyter-widgets/base",
            "_view_module_version": "1.2.0",
            "_view_name": "StyleView",
            "description_width": ""
          }
        },
        "de2c70786dfe4b36b01b24cccc0c5643": {
          "model_module": "@jupyter-widgets/controls",
          "model_name": "HBoxModel",
          "model_module_version": "1.5.0",
          "state": {
            "_dom_classes": [],
            "_model_module": "@jupyter-widgets/controls",
            "_model_module_version": "1.5.0",
            "_model_name": "HBoxModel",
            "_view_count": null,
            "_view_module": "@jupyter-widgets/controls",
            "_view_module_version": "1.5.0",
            "_view_name": "HBoxView",
            "box_style": "",
            "children": [
              "IPY_MODEL_d433ec528d5e43818c700bb6c34b2737",
              "IPY_MODEL_c4e308d830484c99b0994bf7853e1571",
              "IPY_MODEL_b47e5a7960944d33b0b9207bff6478f3"
            ],
            "layout": "IPY_MODEL_faca5ab404fc4b8b9c67179489164e07"
          }
        },
        "d433ec528d5e43818c700bb6c34b2737": {
          "model_module": "@jupyter-widgets/controls",
          "model_name": "HTMLModel",
          "model_module_version": "1.5.0",
          "state": {
            "_dom_classes": [],
            "_model_module": "@jupyter-widgets/controls",
            "_model_module_version": "1.5.0",
            "_model_name": "HTMLModel",
            "_view_count": null,
            "_view_module": "@jupyter-widgets/controls",
            "_view_module_version": "1.5.0",
            "_view_name": "HTMLView",
            "description": "",
            "description_tooltip": null,
            "layout": "IPY_MODEL_4745c5a81fc7498ba8af2ba95d87aa48",
            "placeholder": "​",
            "style": "IPY_MODEL_6cbcc47f041e4a1a9e3d90dbcccb3a6e",
            "value": "vocab.txt: 100%"
          }
        },
        "c4e308d830484c99b0994bf7853e1571": {
          "model_module": "@jupyter-widgets/controls",
          "model_name": "FloatProgressModel",
          "model_module_version": "1.5.0",
          "state": {
            "_dom_classes": [],
            "_model_module": "@jupyter-widgets/controls",
            "_model_module_version": "1.5.0",
            "_model_name": "FloatProgressModel",
            "_view_count": null,
            "_view_module": "@jupyter-widgets/controls",
            "_view_module_version": "1.5.0",
            "_view_name": "ProgressView",
            "bar_style": "success",
            "description": "",
            "description_tooltip": null,
            "layout": "IPY_MODEL_339a75743a0247458bb57ea197e4dfc9",
            "max": 231508,
            "min": 0,
            "orientation": "horizontal",
            "style": "IPY_MODEL_f8b08fc908f94f5aa0e9e5f9823c0938",
            "value": 231508
          }
        },
        "b47e5a7960944d33b0b9207bff6478f3": {
          "model_module": "@jupyter-widgets/controls",
          "model_name": "HTMLModel",
          "model_module_version": "1.5.0",
          "state": {
            "_dom_classes": [],
            "_model_module": "@jupyter-widgets/controls",
            "_model_module_version": "1.5.0",
            "_model_name": "HTMLModel",
            "_view_count": null,
            "_view_module": "@jupyter-widgets/controls",
            "_view_module_version": "1.5.0",
            "_view_name": "HTMLView",
            "description": "",
            "description_tooltip": null,
            "layout": "IPY_MODEL_2154446f5f884370aa27b98b58390fdf",
            "placeholder": "​",
            "style": "IPY_MODEL_6c1be4a8f4724bc593eb4c1f12ba0c3a",
            "value": " 232k/232k [00:00&lt;00:00, 15.9MB/s]"
          }
        },
        "faca5ab404fc4b8b9c67179489164e07": {
          "model_module": "@jupyter-widgets/base",
          "model_name": "LayoutModel",
          "model_module_version": "1.2.0",
          "state": {
            "_model_module": "@jupyter-widgets/base",
            "_model_module_version": "1.2.0",
            "_model_name": "LayoutModel",
            "_view_count": null,
            "_view_module": "@jupyter-widgets/base",
            "_view_module_version": "1.2.0",
            "_view_name": "LayoutView",
            "align_content": null,
            "align_items": null,
            "align_self": null,
            "border": null,
            "bottom": null,
            "display": null,
            "flex": null,
            "flex_flow": null,
            "grid_area": null,
            "grid_auto_columns": null,
            "grid_auto_flow": null,
            "grid_auto_rows": null,
            "grid_column": null,
            "grid_gap": null,
            "grid_row": null,
            "grid_template_areas": null,
            "grid_template_columns": null,
            "grid_template_rows": null,
            "height": null,
            "justify_content": null,
            "justify_items": null,
            "left": null,
            "margin": null,
            "max_height": null,
            "max_width": null,
            "min_height": null,
            "min_width": null,
            "object_fit": null,
            "object_position": null,
            "order": null,
            "overflow": null,
            "overflow_x": null,
            "overflow_y": null,
            "padding": null,
            "right": null,
            "top": null,
            "visibility": null,
            "width": null
          }
        },
        "4745c5a81fc7498ba8af2ba95d87aa48": {
          "model_module": "@jupyter-widgets/base",
          "model_name": "LayoutModel",
          "model_module_version": "1.2.0",
          "state": {
            "_model_module": "@jupyter-widgets/base",
            "_model_module_version": "1.2.0",
            "_model_name": "LayoutModel",
            "_view_count": null,
            "_view_module": "@jupyter-widgets/base",
            "_view_module_version": "1.2.0",
            "_view_name": "LayoutView",
            "align_content": null,
            "align_items": null,
            "align_self": null,
            "border": null,
            "bottom": null,
            "display": null,
            "flex": null,
            "flex_flow": null,
            "grid_area": null,
            "grid_auto_columns": null,
            "grid_auto_flow": null,
            "grid_auto_rows": null,
            "grid_column": null,
            "grid_gap": null,
            "grid_row": null,
            "grid_template_areas": null,
            "grid_template_columns": null,
            "grid_template_rows": null,
            "height": null,
            "justify_content": null,
            "justify_items": null,
            "left": null,
            "margin": null,
            "max_height": null,
            "max_width": null,
            "min_height": null,
            "min_width": null,
            "object_fit": null,
            "object_position": null,
            "order": null,
            "overflow": null,
            "overflow_x": null,
            "overflow_y": null,
            "padding": null,
            "right": null,
            "top": null,
            "visibility": null,
            "width": null
          }
        },
        "6cbcc47f041e4a1a9e3d90dbcccb3a6e": {
          "model_module": "@jupyter-widgets/controls",
          "model_name": "DescriptionStyleModel",
          "model_module_version": "1.5.0",
          "state": {
            "_model_module": "@jupyter-widgets/controls",
            "_model_module_version": "1.5.0",
            "_model_name": "DescriptionStyleModel",
            "_view_count": null,
            "_view_module": "@jupyter-widgets/base",
            "_view_module_version": "1.2.0",
            "_view_name": "StyleView",
            "description_width": ""
          }
        },
        "339a75743a0247458bb57ea197e4dfc9": {
          "model_module": "@jupyter-widgets/base",
          "model_name": "LayoutModel",
          "model_module_version": "1.2.0",
          "state": {
            "_model_module": "@jupyter-widgets/base",
            "_model_module_version": "1.2.0",
            "_model_name": "LayoutModel",
            "_view_count": null,
            "_view_module": "@jupyter-widgets/base",
            "_view_module_version": "1.2.0",
            "_view_name": "LayoutView",
            "align_content": null,
            "align_items": null,
            "align_self": null,
            "border": null,
            "bottom": null,
            "display": null,
            "flex": null,
            "flex_flow": null,
            "grid_area": null,
            "grid_auto_columns": null,
            "grid_auto_flow": null,
            "grid_auto_rows": null,
            "grid_column": null,
            "grid_gap": null,
            "grid_row": null,
            "grid_template_areas": null,
            "grid_template_columns": null,
            "grid_template_rows": null,
            "height": null,
            "justify_content": null,
            "justify_items": null,
            "left": null,
            "margin": null,
            "max_height": null,
            "max_width": null,
            "min_height": null,
            "min_width": null,
            "object_fit": null,
            "object_position": null,
            "order": null,
            "overflow": null,
            "overflow_x": null,
            "overflow_y": null,
            "padding": null,
            "right": null,
            "top": null,
            "visibility": null,
            "width": null
          }
        },
        "f8b08fc908f94f5aa0e9e5f9823c0938": {
          "model_module": "@jupyter-widgets/controls",
          "model_name": "ProgressStyleModel",
          "model_module_version": "1.5.0",
          "state": {
            "_model_module": "@jupyter-widgets/controls",
            "_model_module_version": "1.5.0",
            "_model_name": "ProgressStyleModel",
            "_view_count": null,
            "_view_module": "@jupyter-widgets/base",
            "_view_module_version": "1.2.0",
            "_view_name": "StyleView",
            "bar_color": null,
            "description_width": ""
          }
        },
        "2154446f5f884370aa27b98b58390fdf": {
          "model_module": "@jupyter-widgets/base",
          "model_name": "LayoutModel",
          "model_module_version": "1.2.0",
          "state": {
            "_model_module": "@jupyter-widgets/base",
            "_model_module_version": "1.2.0",
            "_model_name": "LayoutModel",
            "_view_count": null,
            "_view_module": "@jupyter-widgets/base",
            "_view_module_version": "1.2.0",
            "_view_name": "LayoutView",
            "align_content": null,
            "align_items": null,
            "align_self": null,
            "border": null,
            "bottom": null,
            "display": null,
            "flex": null,
            "flex_flow": null,
            "grid_area": null,
            "grid_auto_columns": null,
            "grid_auto_flow": null,
            "grid_auto_rows": null,
            "grid_column": null,
            "grid_gap": null,
            "grid_row": null,
            "grid_template_areas": null,
            "grid_template_columns": null,
            "grid_template_rows": null,
            "height": null,
            "justify_content": null,
            "justify_items": null,
            "left": null,
            "margin": null,
            "max_height": null,
            "max_width": null,
            "min_height": null,
            "min_width": null,
            "object_fit": null,
            "object_position": null,
            "order": null,
            "overflow": null,
            "overflow_x": null,
            "overflow_y": null,
            "padding": null,
            "right": null,
            "top": null,
            "visibility": null,
            "width": null
          }
        },
        "6c1be4a8f4724bc593eb4c1f12ba0c3a": {
          "model_module": "@jupyter-widgets/controls",
          "model_name": "DescriptionStyleModel",
          "model_module_version": "1.5.0",
          "state": {
            "_model_module": "@jupyter-widgets/controls",
            "_model_module_version": "1.5.0",
            "_model_name": "DescriptionStyleModel",
            "_view_count": null,
            "_view_module": "@jupyter-widgets/base",
            "_view_module_version": "1.2.0",
            "_view_name": "StyleView",
            "description_width": ""
          }
        },
        "dcb65f37a4ba476088db17ffed8cedd0": {
          "model_module": "@jupyter-widgets/controls",
          "model_name": "HBoxModel",
          "model_module_version": "1.5.0",
          "state": {
            "_dom_classes": [],
            "_model_module": "@jupyter-widgets/controls",
            "_model_module_version": "1.5.0",
            "_model_name": "HBoxModel",
            "_view_count": null,
            "_view_module": "@jupyter-widgets/controls",
            "_view_module_version": "1.5.0",
            "_view_name": "HBoxView",
            "box_style": "",
            "children": [
              "IPY_MODEL_a41d91e448794ec2b179dd4c7701451a",
              "IPY_MODEL_5f5c24cc4ce7408fa67944f6a91aadab",
              "IPY_MODEL_5a5506a3b93149e3b8271b4496a3eec9"
            ],
            "layout": "IPY_MODEL_5bcf6f30dfaa44dc8af0dedd11d13827"
          }
        },
        "a41d91e448794ec2b179dd4c7701451a": {
          "model_module": "@jupyter-widgets/controls",
          "model_name": "HTMLModel",
          "model_module_version": "1.5.0",
          "state": {
            "_dom_classes": [],
            "_model_module": "@jupyter-widgets/controls",
            "_model_module_version": "1.5.0",
            "_model_name": "HTMLModel",
            "_view_count": null,
            "_view_module": "@jupyter-widgets/controls",
            "_view_module_version": "1.5.0",
            "_view_name": "HTMLView",
            "description": "",
            "description_tooltip": null,
            "layout": "IPY_MODEL_75decf9fe6604de29983f811ee75d3a5",
            "placeholder": "​",
            "style": "IPY_MODEL_1c0193472ecd4722a386e3f5122179f9",
            "value": "tokenizer.json: 100%"
          }
        },
        "5f5c24cc4ce7408fa67944f6a91aadab": {
          "model_module": "@jupyter-widgets/controls",
          "model_name": "FloatProgressModel",
          "model_module_version": "1.5.0",
          "state": {
            "_dom_classes": [],
            "_model_module": "@jupyter-widgets/controls",
            "_model_module_version": "1.5.0",
            "_model_name": "FloatProgressModel",
            "_view_count": null,
            "_view_module": "@jupyter-widgets/controls",
            "_view_module_version": "1.5.0",
            "_view_name": "ProgressView",
            "bar_style": "success",
            "description": "",
            "description_tooltip": null,
            "layout": "IPY_MODEL_90f740951c8c4b9fac22268398487834",
            "max": 466062,
            "min": 0,
            "orientation": "horizontal",
            "style": "IPY_MODEL_4350636a2f3a4f4da5d7bc9c5623c943",
            "value": 466062
          }
        },
        "5a5506a3b93149e3b8271b4496a3eec9": {
          "model_module": "@jupyter-widgets/controls",
          "model_name": "HTMLModel",
          "model_module_version": "1.5.0",
          "state": {
            "_dom_classes": [],
            "_model_module": "@jupyter-widgets/controls",
            "_model_module_version": "1.5.0",
            "_model_name": "HTMLModel",
            "_view_count": null,
            "_view_module": "@jupyter-widgets/controls",
            "_view_module_version": "1.5.0",
            "_view_name": "HTMLView",
            "description": "",
            "description_tooltip": null,
            "layout": "IPY_MODEL_3da7838f06374373bfeb10e88847e686",
            "placeholder": "​",
            "style": "IPY_MODEL_ae0a2cb3e80b4c788eb2a0d8e9397898",
            "value": " 466k/466k [00:00&lt;00:00, 1.08MB/s]"
          }
        },
        "5bcf6f30dfaa44dc8af0dedd11d13827": {
          "model_module": "@jupyter-widgets/base",
          "model_name": "LayoutModel",
          "model_module_version": "1.2.0",
          "state": {
            "_model_module": "@jupyter-widgets/base",
            "_model_module_version": "1.2.0",
            "_model_name": "LayoutModel",
            "_view_count": null,
            "_view_module": "@jupyter-widgets/base",
            "_view_module_version": "1.2.0",
            "_view_name": "LayoutView",
            "align_content": null,
            "align_items": null,
            "align_self": null,
            "border": null,
            "bottom": null,
            "display": null,
            "flex": null,
            "flex_flow": null,
            "grid_area": null,
            "grid_auto_columns": null,
            "grid_auto_flow": null,
            "grid_auto_rows": null,
            "grid_column": null,
            "grid_gap": null,
            "grid_row": null,
            "grid_template_areas": null,
            "grid_template_columns": null,
            "grid_template_rows": null,
            "height": null,
            "justify_content": null,
            "justify_items": null,
            "left": null,
            "margin": null,
            "max_height": null,
            "max_width": null,
            "min_height": null,
            "min_width": null,
            "object_fit": null,
            "object_position": null,
            "order": null,
            "overflow": null,
            "overflow_x": null,
            "overflow_y": null,
            "padding": null,
            "right": null,
            "top": null,
            "visibility": null,
            "width": null
          }
        },
        "75decf9fe6604de29983f811ee75d3a5": {
          "model_module": "@jupyter-widgets/base",
          "model_name": "LayoutModel",
          "model_module_version": "1.2.0",
          "state": {
            "_model_module": "@jupyter-widgets/base",
            "_model_module_version": "1.2.0",
            "_model_name": "LayoutModel",
            "_view_count": null,
            "_view_module": "@jupyter-widgets/base",
            "_view_module_version": "1.2.0",
            "_view_name": "LayoutView",
            "align_content": null,
            "align_items": null,
            "align_self": null,
            "border": null,
            "bottom": null,
            "display": null,
            "flex": null,
            "flex_flow": null,
            "grid_area": null,
            "grid_auto_columns": null,
            "grid_auto_flow": null,
            "grid_auto_rows": null,
            "grid_column": null,
            "grid_gap": null,
            "grid_row": null,
            "grid_template_areas": null,
            "grid_template_columns": null,
            "grid_template_rows": null,
            "height": null,
            "justify_content": null,
            "justify_items": null,
            "left": null,
            "margin": null,
            "max_height": null,
            "max_width": null,
            "min_height": null,
            "min_width": null,
            "object_fit": null,
            "object_position": null,
            "order": null,
            "overflow": null,
            "overflow_x": null,
            "overflow_y": null,
            "padding": null,
            "right": null,
            "top": null,
            "visibility": null,
            "width": null
          }
        },
        "1c0193472ecd4722a386e3f5122179f9": {
          "model_module": "@jupyter-widgets/controls",
          "model_name": "DescriptionStyleModel",
          "model_module_version": "1.5.0",
          "state": {
            "_model_module": "@jupyter-widgets/controls",
            "_model_module_version": "1.5.0",
            "_model_name": "DescriptionStyleModel",
            "_view_count": null,
            "_view_module": "@jupyter-widgets/base",
            "_view_module_version": "1.2.0",
            "_view_name": "StyleView",
            "description_width": ""
          }
        },
        "90f740951c8c4b9fac22268398487834": {
          "model_module": "@jupyter-widgets/base",
          "model_name": "LayoutModel",
          "model_module_version": "1.2.0",
          "state": {
            "_model_module": "@jupyter-widgets/base",
            "_model_module_version": "1.2.0",
            "_model_name": "LayoutModel",
            "_view_count": null,
            "_view_module": "@jupyter-widgets/base",
            "_view_module_version": "1.2.0",
            "_view_name": "LayoutView",
            "align_content": null,
            "align_items": null,
            "align_self": null,
            "border": null,
            "bottom": null,
            "display": null,
            "flex": null,
            "flex_flow": null,
            "grid_area": null,
            "grid_auto_columns": null,
            "grid_auto_flow": null,
            "grid_auto_rows": null,
            "grid_column": null,
            "grid_gap": null,
            "grid_row": null,
            "grid_template_areas": null,
            "grid_template_columns": null,
            "grid_template_rows": null,
            "height": null,
            "justify_content": null,
            "justify_items": null,
            "left": null,
            "margin": null,
            "max_height": null,
            "max_width": null,
            "min_height": null,
            "min_width": null,
            "object_fit": null,
            "object_position": null,
            "order": null,
            "overflow": null,
            "overflow_x": null,
            "overflow_y": null,
            "padding": null,
            "right": null,
            "top": null,
            "visibility": null,
            "width": null
          }
        },
        "4350636a2f3a4f4da5d7bc9c5623c943": {
          "model_module": "@jupyter-widgets/controls",
          "model_name": "ProgressStyleModel",
          "model_module_version": "1.5.0",
          "state": {
            "_model_module": "@jupyter-widgets/controls",
            "_model_module_version": "1.5.0",
            "_model_name": "ProgressStyleModel",
            "_view_count": null,
            "_view_module": "@jupyter-widgets/base",
            "_view_module_version": "1.2.0",
            "_view_name": "StyleView",
            "bar_color": null,
            "description_width": ""
          }
        },
        "3da7838f06374373bfeb10e88847e686": {
          "model_module": "@jupyter-widgets/base",
          "model_name": "LayoutModel",
          "model_module_version": "1.2.0",
          "state": {
            "_model_module": "@jupyter-widgets/base",
            "_model_module_version": "1.2.0",
            "_model_name": "LayoutModel",
            "_view_count": null,
            "_view_module": "@jupyter-widgets/base",
            "_view_module_version": "1.2.0",
            "_view_name": "LayoutView",
            "align_content": null,
            "align_items": null,
            "align_self": null,
            "border": null,
            "bottom": null,
            "display": null,
            "flex": null,
            "flex_flow": null,
            "grid_area": null,
            "grid_auto_columns": null,
            "grid_auto_flow": null,
            "grid_auto_rows": null,
            "grid_column": null,
            "grid_gap": null,
            "grid_row": null,
            "grid_template_areas": null,
            "grid_template_columns": null,
            "grid_template_rows": null,
            "height": null,
            "justify_content": null,
            "justify_items": null,
            "left": null,
            "margin": null,
            "max_height": null,
            "max_width": null,
            "min_height": null,
            "min_width": null,
            "object_fit": null,
            "object_position": null,
            "order": null,
            "overflow": null,
            "overflow_x": null,
            "overflow_y": null,
            "padding": null,
            "right": null,
            "top": null,
            "visibility": null,
            "width": null
          }
        },
        "ae0a2cb3e80b4c788eb2a0d8e9397898": {
          "model_module": "@jupyter-widgets/controls",
          "model_name": "DescriptionStyleModel",
          "model_module_version": "1.5.0",
          "state": {
            "_model_module": "@jupyter-widgets/controls",
            "_model_module_version": "1.5.0",
            "_model_name": "DescriptionStyleModel",
            "_view_count": null,
            "_view_module": "@jupyter-widgets/base",
            "_view_module_version": "1.2.0",
            "_view_name": "StyleView",
            "description_width": ""
          }
        },
        "8696f1bda02a4ab6a0c54e1ba488ffd6": {
          "model_module": "@jupyter-widgets/controls",
          "model_name": "HBoxModel",
          "model_module_version": "1.5.0",
          "state": {
            "_dom_classes": [],
            "_model_module": "@jupyter-widgets/controls",
            "_model_module_version": "1.5.0",
            "_model_name": "HBoxModel",
            "_view_count": null,
            "_view_module": "@jupyter-widgets/controls",
            "_view_module_version": "1.5.0",
            "_view_name": "HBoxView",
            "box_style": "",
            "children": [
              "IPY_MODEL_4bc1f059a19f4277b3eec3bea28eb6e1",
              "IPY_MODEL_5bca3385e28a4456a0881e30a0819800",
              "IPY_MODEL_d1333fbb35ea42b19f6c26c64d29f87d"
            ],
            "layout": "IPY_MODEL_c167ae33939b4c5aaf7f268276a9b9f2"
          }
        },
        "4bc1f059a19f4277b3eec3bea28eb6e1": {
          "model_module": "@jupyter-widgets/controls",
          "model_name": "HTMLModel",
          "model_module_version": "1.5.0",
          "state": {
            "_dom_classes": [],
            "_model_module": "@jupyter-widgets/controls",
            "_model_module_version": "1.5.0",
            "_model_name": "HTMLModel",
            "_view_count": null,
            "_view_module": "@jupyter-widgets/controls",
            "_view_module_version": "1.5.0",
            "_view_name": "HTMLView",
            "description": "",
            "description_tooltip": null,
            "layout": "IPY_MODEL_f888ec2a024643b0b7d1c5c31f2723bb",
            "placeholder": "​",
            "style": "IPY_MODEL_db88a6c3630f46c6bfd65d2f49f5a54d",
            "value": "config.json: 100%"
          }
        },
        "5bca3385e28a4456a0881e30a0819800": {
          "model_module": "@jupyter-widgets/controls",
          "model_name": "FloatProgressModel",
          "model_module_version": "1.5.0",
          "state": {
            "_dom_classes": [],
            "_model_module": "@jupyter-widgets/controls",
            "_model_module_version": "1.5.0",
            "_model_name": "FloatProgressModel",
            "_view_count": null,
            "_view_module": "@jupyter-widgets/controls",
            "_view_module_version": "1.5.0",
            "_view_name": "ProgressView",
            "bar_style": "success",
            "description": "",
            "description_tooltip": null,
            "layout": "IPY_MODEL_2a62fbe9f14a4ebd8a0483871f9e1aeb",
            "max": 570,
            "min": 0,
            "orientation": "horizontal",
            "style": "IPY_MODEL_3eaf159f079b4be2b513d8d08368e84a",
            "value": 570
          }
        },
        "d1333fbb35ea42b19f6c26c64d29f87d": {
          "model_module": "@jupyter-widgets/controls",
          "model_name": "HTMLModel",
          "model_module_version": "1.5.0",
          "state": {
            "_dom_classes": [],
            "_model_module": "@jupyter-widgets/controls",
            "_model_module_version": "1.5.0",
            "_model_name": "HTMLModel",
            "_view_count": null,
            "_view_module": "@jupyter-widgets/controls",
            "_view_module_version": "1.5.0",
            "_view_name": "HTMLView",
            "description": "",
            "description_tooltip": null,
            "layout": "IPY_MODEL_7b4d8027c78e45d694b3bd63257a277c",
            "placeholder": "​",
            "style": "IPY_MODEL_86a48527423443a984138a8e7767da02",
            "value": " 570/570 [00:00&lt;00:00, 68.7kB/s]"
          }
        },
        "c167ae33939b4c5aaf7f268276a9b9f2": {
          "model_module": "@jupyter-widgets/base",
          "model_name": "LayoutModel",
          "model_module_version": "1.2.0",
          "state": {
            "_model_module": "@jupyter-widgets/base",
            "_model_module_version": "1.2.0",
            "_model_name": "LayoutModel",
            "_view_count": null,
            "_view_module": "@jupyter-widgets/base",
            "_view_module_version": "1.2.0",
            "_view_name": "LayoutView",
            "align_content": null,
            "align_items": null,
            "align_self": null,
            "border": null,
            "bottom": null,
            "display": null,
            "flex": null,
            "flex_flow": null,
            "grid_area": null,
            "grid_auto_columns": null,
            "grid_auto_flow": null,
            "grid_auto_rows": null,
            "grid_column": null,
            "grid_gap": null,
            "grid_row": null,
            "grid_template_areas": null,
            "grid_template_columns": null,
            "grid_template_rows": null,
            "height": null,
            "justify_content": null,
            "justify_items": null,
            "left": null,
            "margin": null,
            "max_height": null,
            "max_width": null,
            "min_height": null,
            "min_width": null,
            "object_fit": null,
            "object_position": null,
            "order": null,
            "overflow": null,
            "overflow_x": null,
            "overflow_y": null,
            "padding": null,
            "right": null,
            "top": null,
            "visibility": null,
            "width": null
          }
        },
        "f888ec2a024643b0b7d1c5c31f2723bb": {
          "model_module": "@jupyter-widgets/base",
          "model_name": "LayoutModel",
          "model_module_version": "1.2.0",
          "state": {
            "_model_module": "@jupyter-widgets/base",
            "_model_module_version": "1.2.0",
            "_model_name": "LayoutModel",
            "_view_count": null,
            "_view_module": "@jupyter-widgets/base",
            "_view_module_version": "1.2.0",
            "_view_name": "LayoutView",
            "align_content": null,
            "align_items": null,
            "align_self": null,
            "border": null,
            "bottom": null,
            "display": null,
            "flex": null,
            "flex_flow": null,
            "grid_area": null,
            "grid_auto_columns": null,
            "grid_auto_flow": null,
            "grid_auto_rows": null,
            "grid_column": null,
            "grid_gap": null,
            "grid_row": null,
            "grid_template_areas": null,
            "grid_template_columns": null,
            "grid_template_rows": null,
            "height": null,
            "justify_content": null,
            "justify_items": null,
            "left": null,
            "margin": null,
            "max_height": null,
            "max_width": null,
            "min_height": null,
            "min_width": null,
            "object_fit": null,
            "object_position": null,
            "order": null,
            "overflow": null,
            "overflow_x": null,
            "overflow_y": null,
            "padding": null,
            "right": null,
            "top": null,
            "visibility": null,
            "width": null
          }
        },
        "db88a6c3630f46c6bfd65d2f49f5a54d": {
          "model_module": "@jupyter-widgets/controls",
          "model_name": "DescriptionStyleModel",
          "model_module_version": "1.5.0",
          "state": {
            "_model_module": "@jupyter-widgets/controls",
            "_model_module_version": "1.5.0",
            "_model_name": "DescriptionStyleModel",
            "_view_count": null,
            "_view_module": "@jupyter-widgets/base",
            "_view_module_version": "1.2.0",
            "_view_name": "StyleView",
            "description_width": ""
          }
        },
        "2a62fbe9f14a4ebd8a0483871f9e1aeb": {
          "model_module": "@jupyter-widgets/base",
          "model_name": "LayoutModel",
          "model_module_version": "1.2.0",
          "state": {
            "_model_module": "@jupyter-widgets/base",
            "_model_module_version": "1.2.0",
            "_model_name": "LayoutModel",
            "_view_count": null,
            "_view_module": "@jupyter-widgets/base",
            "_view_module_version": "1.2.0",
            "_view_name": "LayoutView",
            "align_content": null,
            "align_items": null,
            "align_self": null,
            "border": null,
            "bottom": null,
            "display": null,
            "flex": null,
            "flex_flow": null,
            "grid_area": null,
            "grid_auto_columns": null,
            "grid_auto_flow": null,
            "grid_auto_rows": null,
            "grid_column": null,
            "grid_gap": null,
            "grid_row": null,
            "grid_template_areas": null,
            "grid_template_columns": null,
            "grid_template_rows": null,
            "height": null,
            "justify_content": null,
            "justify_items": null,
            "left": null,
            "margin": null,
            "max_height": null,
            "max_width": null,
            "min_height": null,
            "min_width": null,
            "object_fit": null,
            "object_position": null,
            "order": null,
            "overflow": null,
            "overflow_x": null,
            "overflow_y": null,
            "padding": null,
            "right": null,
            "top": null,
            "visibility": null,
            "width": null
          }
        },
        "3eaf159f079b4be2b513d8d08368e84a": {
          "model_module": "@jupyter-widgets/controls",
          "model_name": "ProgressStyleModel",
          "model_module_version": "1.5.0",
          "state": {
            "_model_module": "@jupyter-widgets/controls",
            "_model_module_version": "1.5.0",
            "_model_name": "ProgressStyleModel",
            "_view_count": null,
            "_view_module": "@jupyter-widgets/base",
            "_view_module_version": "1.2.0",
            "_view_name": "StyleView",
            "bar_color": null,
            "description_width": ""
          }
        },
        "7b4d8027c78e45d694b3bd63257a277c": {
          "model_module": "@jupyter-widgets/base",
          "model_name": "LayoutModel",
          "model_module_version": "1.2.0",
          "state": {
            "_model_module": "@jupyter-widgets/base",
            "_model_module_version": "1.2.0",
            "_model_name": "LayoutModel",
            "_view_count": null,
            "_view_module": "@jupyter-widgets/base",
            "_view_module_version": "1.2.0",
            "_view_name": "LayoutView",
            "align_content": null,
            "align_items": null,
            "align_self": null,
            "border": null,
            "bottom": null,
            "display": null,
            "flex": null,
            "flex_flow": null,
            "grid_area": null,
            "grid_auto_columns": null,
            "grid_auto_flow": null,
            "grid_auto_rows": null,
            "grid_column": null,
            "grid_gap": null,
            "grid_row": null,
            "grid_template_areas": null,
            "grid_template_columns": null,
            "grid_template_rows": null,
            "height": null,
            "justify_content": null,
            "justify_items": null,
            "left": null,
            "margin": null,
            "max_height": null,
            "max_width": null,
            "min_height": null,
            "min_width": null,
            "object_fit": null,
            "object_position": null,
            "order": null,
            "overflow": null,
            "overflow_x": null,
            "overflow_y": null,
            "padding": null,
            "right": null,
            "top": null,
            "visibility": null,
            "width": null
          }
        },
        "86a48527423443a984138a8e7767da02": {
          "model_module": "@jupyter-widgets/controls",
          "model_name": "DescriptionStyleModel",
          "model_module_version": "1.5.0",
          "state": {
            "_model_module": "@jupyter-widgets/controls",
            "_model_module_version": "1.5.0",
            "_model_name": "DescriptionStyleModel",
            "_view_count": null,
            "_view_module": "@jupyter-widgets/base",
            "_view_module_version": "1.2.0",
            "_view_name": "StyleView",
            "description_width": ""
          }
        },
        "067de1e80ce645f083e0dad2743ecb10": {
          "model_module": "@jupyter-widgets/controls",
          "model_name": "HBoxModel",
          "model_module_version": "1.5.0",
          "state": {
            "_dom_classes": [],
            "_model_module": "@jupyter-widgets/controls",
            "_model_module_version": "1.5.0",
            "_model_name": "HBoxModel",
            "_view_count": null,
            "_view_module": "@jupyter-widgets/controls",
            "_view_module_version": "1.5.0",
            "_view_name": "HBoxView",
            "box_style": "",
            "children": [
              "IPY_MODEL_0ec9d85cfa6d497396385cc68258a87b",
              "IPY_MODEL_51f28f1a591a4d74884927c803c5f5f4",
              "IPY_MODEL_59fc486f4639492f8d355f120ed75f16"
            ],
            "layout": "IPY_MODEL_b482766ae4e64c40844df32c3569d964"
          }
        },
        "0ec9d85cfa6d497396385cc68258a87b": {
          "model_module": "@jupyter-widgets/controls",
          "model_name": "HTMLModel",
          "model_module_version": "1.5.0",
          "state": {
            "_dom_classes": [],
            "_model_module": "@jupyter-widgets/controls",
            "_model_module_version": "1.5.0",
            "_model_name": "HTMLModel",
            "_view_count": null,
            "_view_module": "@jupyter-widgets/controls",
            "_view_module_version": "1.5.0",
            "_view_name": "HTMLView",
            "description": "",
            "description_tooltip": null,
            "layout": "IPY_MODEL_be2d2c691bfc4a8db74afb20b9d73bc1",
            "placeholder": "​",
            "style": "IPY_MODEL_edb08e37710f425fb636a356bcad773c",
            "value": "model.safetensors: 100%"
          }
        },
        "51f28f1a591a4d74884927c803c5f5f4": {
          "model_module": "@jupyter-widgets/controls",
          "model_name": "FloatProgressModel",
          "model_module_version": "1.5.0",
          "state": {
            "_dom_classes": [],
            "_model_module": "@jupyter-widgets/controls",
            "_model_module_version": "1.5.0",
            "_model_name": "FloatProgressModel",
            "_view_count": null,
            "_view_module": "@jupyter-widgets/controls",
            "_view_module_version": "1.5.0",
            "_view_name": "ProgressView",
            "bar_style": "success",
            "description": "",
            "description_tooltip": null,
            "layout": "IPY_MODEL_3c4a8401ed554c28bfd02f7692d7198e",
            "max": 440449768,
            "min": 0,
            "orientation": "horizontal",
            "style": "IPY_MODEL_8696b422d7c64b99a82f613f4ded6875",
            "value": 440449768
          }
        },
        "59fc486f4639492f8d355f120ed75f16": {
          "model_module": "@jupyter-widgets/controls",
          "model_name": "HTMLModel",
          "model_module_version": "1.5.0",
          "state": {
            "_dom_classes": [],
            "_model_module": "@jupyter-widgets/controls",
            "_model_module_version": "1.5.0",
            "_model_name": "HTMLModel",
            "_view_count": null,
            "_view_module": "@jupyter-widgets/controls",
            "_view_module_version": "1.5.0",
            "_view_name": "HTMLView",
            "description": "",
            "description_tooltip": null,
            "layout": "IPY_MODEL_fd22ae94f4ea4973918e5cc3cc156027",
            "placeholder": "​",
            "style": "IPY_MODEL_d033ef6d485a414e8994b990a1ad7122",
            "value": " 440M/440M [00:01&lt;00:00, 334MB/s]"
          }
        },
        "b482766ae4e64c40844df32c3569d964": {
          "model_module": "@jupyter-widgets/base",
          "model_name": "LayoutModel",
          "model_module_version": "1.2.0",
          "state": {
            "_model_module": "@jupyter-widgets/base",
            "_model_module_version": "1.2.0",
            "_model_name": "LayoutModel",
            "_view_count": null,
            "_view_module": "@jupyter-widgets/base",
            "_view_module_version": "1.2.0",
            "_view_name": "LayoutView",
            "align_content": null,
            "align_items": null,
            "align_self": null,
            "border": null,
            "bottom": null,
            "display": null,
            "flex": null,
            "flex_flow": null,
            "grid_area": null,
            "grid_auto_columns": null,
            "grid_auto_flow": null,
            "grid_auto_rows": null,
            "grid_column": null,
            "grid_gap": null,
            "grid_row": null,
            "grid_template_areas": null,
            "grid_template_columns": null,
            "grid_template_rows": null,
            "height": null,
            "justify_content": null,
            "justify_items": null,
            "left": null,
            "margin": null,
            "max_height": null,
            "max_width": null,
            "min_height": null,
            "min_width": null,
            "object_fit": null,
            "object_position": null,
            "order": null,
            "overflow": null,
            "overflow_x": null,
            "overflow_y": null,
            "padding": null,
            "right": null,
            "top": null,
            "visibility": null,
            "width": null
          }
        },
        "be2d2c691bfc4a8db74afb20b9d73bc1": {
          "model_module": "@jupyter-widgets/base",
          "model_name": "LayoutModel",
          "model_module_version": "1.2.0",
          "state": {
            "_model_module": "@jupyter-widgets/base",
            "_model_module_version": "1.2.0",
            "_model_name": "LayoutModel",
            "_view_count": null,
            "_view_module": "@jupyter-widgets/base",
            "_view_module_version": "1.2.0",
            "_view_name": "LayoutView",
            "align_content": null,
            "align_items": null,
            "align_self": null,
            "border": null,
            "bottom": null,
            "display": null,
            "flex": null,
            "flex_flow": null,
            "grid_area": null,
            "grid_auto_columns": null,
            "grid_auto_flow": null,
            "grid_auto_rows": null,
            "grid_column": null,
            "grid_gap": null,
            "grid_row": null,
            "grid_template_areas": null,
            "grid_template_columns": null,
            "grid_template_rows": null,
            "height": null,
            "justify_content": null,
            "justify_items": null,
            "left": null,
            "margin": null,
            "max_height": null,
            "max_width": null,
            "min_height": null,
            "min_width": null,
            "object_fit": null,
            "object_position": null,
            "order": null,
            "overflow": null,
            "overflow_x": null,
            "overflow_y": null,
            "padding": null,
            "right": null,
            "top": null,
            "visibility": null,
            "width": null
          }
        },
        "edb08e37710f425fb636a356bcad773c": {
          "model_module": "@jupyter-widgets/controls",
          "model_name": "DescriptionStyleModel",
          "model_module_version": "1.5.0",
          "state": {
            "_model_module": "@jupyter-widgets/controls",
            "_model_module_version": "1.5.0",
            "_model_name": "DescriptionStyleModel",
            "_view_count": null,
            "_view_module": "@jupyter-widgets/base",
            "_view_module_version": "1.2.0",
            "_view_name": "StyleView",
            "description_width": ""
          }
        },
        "3c4a8401ed554c28bfd02f7692d7198e": {
          "model_module": "@jupyter-widgets/base",
          "model_name": "LayoutModel",
          "model_module_version": "1.2.0",
          "state": {
            "_model_module": "@jupyter-widgets/base",
            "_model_module_version": "1.2.0",
            "_model_name": "LayoutModel",
            "_view_count": null,
            "_view_module": "@jupyter-widgets/base",
            "_view_module_version": "1.2.0",
            "_view_name": "LayoutView",
            "align_content": null,
            "align_items": null,
            "align_self": null,
            "border": null,
            "bottom": null,
            "display": null,
            "flex": null,
            "flex_flow": null,
            "grid_area": null,
            "grid_auto_columns": null,
            "grid_auto_flow": null,
            "grid_auto_rows": null,
            "grid_column": null,
            "grid_gap": null,
            "grid_row": null,
            "grid_template_areas": null,
            "grid_template_columns": null,
            "grid_template_rows": null,
            "height": null,
            "justify_content": null,
            "justify_items": null,
            "left": null,
            "margin": null,
            "max_height": null,
            "max_width": null,
            "min_height": null,
            "min_width": null,
            "object_fit": null,
            "object_position": null,
            "order": null,
            "overflow": null,
            "overflow_x": null,
            "overflow_y": null,
            "padding": null,
            "right": null,
            "top": null,
            "visibility": null,
            "width": null
          }
        },
        "8696b422d7c64b99a82f613f4ded6875": {
          "model_module": "@jupyter-widgets/controls",
          "model_name": "ProgressStyleModel",
          "model_module_version": "1.5.0",
          "state": {
            "_model_module": "@jupyter-widgets/controls",
            "_model_module_version": "1.5.0",
            "_model_name": "ProgressStyleModel",
            "_view_count": null,
            "_view_module": "@jupyter-widgets/base",
            "_view_module_version": "1.2.0",
            "_view_name": "StyleView",
            "bar_color": null,
            "description_width": ""
          }
        },
        "fd22ae94f4ea4973918e5cc3cc156027": {
          "model_module": "@jupyter-widgets/base",
          "model_name": "LayoutModel",
          "model_module_version": "1.2.0",
          "state": {
            "_model_module": "@jupyter-widgets/base",
            "_model_module_version": "1.2.0",
            "_model_name": "LayoutModel",
            "_view_count": null,
            "_view_module": "@jupyter-widgets/base",
            "_view_module_version": "1.2.0",
            "_view_name": "LayoutView",
            "align_content": null,
            "align_items": null,
            "align_self": null,
            "border": null,
            "bottom": null,
            "display": null,
            "flex": null,
            "flex_flow": null,
            "grid_area": null,
            "grid_auto_columns": null,
            "grid_auto_flow": null,
            "grid_auto_rows": null,
            "grid_column": null,
            "grid_gap": null,
            "grid_row": null,
            "grid_template_areas": null,
            "grid_template_columns": null,
            "grid_template_rows": null,
            "height": null,
            "justify_content": null,
            "justify_items": null,
            "left": null,
            "margin": null,
            "max_height": null,
            "max_width": null,
            "min_height": null,
            "min_width": null,
            "object_fit": null,
            "object_position": null,
            "order": null,
            "overflow": null,
            "overflow_x": null,
            "overflow_y": null,
            "padding": null,
            "right": null,
            "top": null,
            "visibility": null,
            "width": null
          }
        },
        "d033ef6d485a414e8994b990a1ad7122": {
          "model_module": "@jupyter-widgets/controls",
          "model_name": "DescriptionStyleModel",
          "model_module_version": "1.5.0",
          "state": {
            "_model_module": "@jupyter-widgets/controls",
            "_model_module_version": "1.5.0",
            "_model_name": "DescriptionStyleModel",
            "_view_count": null,
            "_view_module": "@jupyter-widgets/base",
            "_view_module_version": "1.2.0",
            "_view_name": "StyleView",
            "description_width": ""
          }
        }
      }
    },
    "kaggle": {
      "accelerator": "gpu",
      "dataSources": [
        {
          "sourceId": 12537915,
          "sourceType": "datasetVersion",
          "datasetId": 7915364
        }
      ],
      "dockerImageVersionId": 30919,
      "isInternetEnabled": true,
      "language": "python",
      "sourceType": "notebook",
      "isGpuEnabled": true
    }
  },
  "nbformat_minor": 0,
  "nbformat": 4,
  "cells": [
    {
      "cell_type": "markdown",
      "source": [
        "# Project - Joint Mental Health Status and Cyber bullying Detection from Social Media\n"
      ],
      "metadata": {
        "id": "xN7SSfBSm8j9"
      }
    },
    {
      "cell_type": "code",
      "source": [
        "# !pip install kaggle\n",
        "import pandas as pd\n",
        "import warnings\n",
        "warnings.filterwarnings('ignore', category=pd.errors.SettingWithCopyWarning)\n"
      ],
      "metadata": {
        "id": "nGJSI0S3WMfx",
        "trusted": true,
        "execution": {
          "iopub.status.busy": "2025-08-24T10:27:06.885090Z",
          "iopub.execute_input": "2025-08-24T10:27:06.885550Z",
          "iopub.status.idle": "2025-08-24T10:27:06.890056Z",
          "shell.execute_reply.started": "2025-08-24T10:27:06.885520Z",
          "shell.execute_reply": "2025-08-24T10:27:06.888993Z"
        }
      },
      "outputs": [],
      "execution_count": 1
    },
    {
      "cell_type": "markdown",
      "source": [
        "## FOR THE REUSE OF THIS KAGGLE CODE - Uncomment the below code"
      ],
      "metadata": {
        "id": "-srVgzf4Y-FV"
      }
    },
    {
      "cell_type": "code",
      "source": [
        "# from kaggle_secrets import UserSecretsClient\n",
        "# user_secrets = UserSecretsClient()\n",
        "\n",
        "# import os\n",
        "\n",
        "# os.environ['KAGGLE_USERNAME'] = user_secrets.get_secret(\"KAGGLE_KEY\")\n",
        "\n",
        "# os.environ['KAGGLE_KEY'] = user_secrets.get_secret(\"KAGGLE_KEY\")\n",
        "\n",
        "# Allowing Kaggle Downloads\n",
        "import os\n",
        "from google.colab import userdata\n",
        "\n",
        "os.environ['KAGGLE_USERNAME'] = userdata.get('KAGGLE_USERNAME')\n",
        "os.environ['KAGGLE_KEY'] = userdata.get('KAGGLE_KEY')"
      ],
      "metadata": {
        "trusted": true,
        "id": "QeQ9M6ntY-FV"
      },
      "outputs": [],
      "execution_count": 2
    },
    {
      "cell_type": "markdown",
      "source": [
        "### Twitter Depression dataset\n",
        "The dataset is unlabelled (Actually it is categorized but you need to maybe add the labels if you are combining the datasets)\n",
        "\n",
        "The data is not labelled but it is categorized into depression and non-depression datasets"
      ],
      "metadata": {
        "id": "efcd6cu5bRXj"
      }
    },
    {
      "cell_type": "code",
      "source": [
        "!kaggle datasets download -d hyunkic/twitter-depression-dataset --unzip -p ./twitter_depression"
      ],
      "metadata": {
        "id": "ARTjOus4YzKi",
        "outputId": "f1c28119-8afb-4a96-c040-3a7056745d85",
        "trusted": true,
        "execution": {
          "iopub.status.busy": "2025-08-24T10:27:06.891272Z",
          "iopub.execute_input": "2025-08-24T10:27:06.891526Z",
          "iopub.status.idle": "2025-08-24T10:27:08.457998Z",
          "shell.execute_reply.started": "2025-08-24T10:27:06.891492Z",
          "shell.execute_reply": "2025-08-24T10:27:08.456797Z"
        },
        "colab": {
          "base_uri": "https://localhost:8080/"
        }
      },
      "outputs": [
        {
          "output_type": "stream",
          "name": "stdout",
          "text": [
            "Dataset URL: https://www.kaggle.com/datasets/hyunkic/twitter-depression-dataset\n",
            "License(s): unknown\n",
            "Downloading twitter-depression-dataset.zip to ./twitter_depression\n",
            "  0% 0.00/1.41M [00:00<?, ?B/s]\n",
            "100% 1.41M/1.41M [00:00<00:00, 815MB/s]\n"
          ]
        }
      ],
      "execution_count": 3
    },
    {
      "cell_type": "markdown",
      "source": [
        "The data imprted above is depression datasets"
      ],
      "metadata": {
        "id": "UuN6O41ip8Nm"
      }
    },
    {
      "cell_type": "code",
      "source": [
        "# Viewing the data\n",
        "path = \"./twitter_depression/\""
      ],
      "metadata": {
        "id": "L9yVBpNrY_Jn",
        "trusted": true,
        "execution": {
          "iopub.status.busy": "2025-08-24T10:27:08.460103Z",
          "iopub.execute_input": "2025-08-24T10:27:08.460444Z",
          "iopub.status.idle": "2025-08-24T10:27:08.464675Z",
          "shell.execute_reply.started": "2025-08-24T10:27:08.460408Z",
          "shell.execute_reply": "2025-08-24T10:27:08.463733Z"
        }
      },
      "outputs": [],
      "execution_count": 4
    },
    {
      "cell_type": "markdown",
      "source": [
        "The mental status column is empty so I added the status as depressed(labelling as discussed above). There are cleaned and uncleaned versions of the data"
      ],
      "metadata": {
        "id": "AXdCEmSRgplL"
      }
    },
    {
      "cell_type": "code",
      "source": [
        "# Cleaned Twitter Depression Data\n",
        "clean_dep_df = pd.read_csv(path + 'clean_non_d_tweets.csv')\n",
        "clean_dep_df['status'] = 'depression'\n",
        "clean_dep_df_use = clean_dep_df[['tweet', 'status']]\n",
        "clean_dep_df_use.rename(columns= {'tweet': 'text'}, inplace = True)\n",
        "# print(clean_dep_df_use.head(4))\n",
        "print(\"========================================================\")\n",
        "print(f\"Shape of clean_dep_df_use: {clean_dep_df_use.shape}\")"
      ],
      "metadata": {
        "id": "ygI4wmgKqH6b",
        "outputId": "e0ddfa41-b400-49c0-eecd-c4b01fb99be5",
        "trusted": true,
        "execution": {
          "iopub.status.busy": "2025-08-24T10:27:08.466251Z",
          "iopub.execute_input": "2025-08-24T10:27:08.466562Z",
          "iopub.status.idle": "2025-08-24T10:27:08.560202Z",
          "shell.execute_reply.started": "2025-08-24T10:27:08.466538Z",
          "shell.execute_reply": "2025-08-24T10:27:08.559309Z"
        },
        "colab": {
          "base_uri": "https://localhost:8080/"
        }
      },
      "outputs": [
        {
          "output_type": "stream",
          "name": "stdout",
          "text": [
            "========================================================\n",
            "Shape of clean_dep_df_use: (4687, 2)\n"
          ]
        }
      ],
      "execution_count": 5
    },
    {
      "cell_type": "code",
      "source": [],
      "metadata": {
        "trusted": true,
        "id": "6ZP8Z-LYY-FY"
      },
      "outputs": [],
      "execution_count": 5
    },
    {
      "cell_type": "code",
      "source": [
        "# cp_clean_dep_df = clean_dep_df.copy\n",
        "# cp_clean_dep_df['text'] = cp_clean_dep_df['text'].astype(str)\n",
        "# cp_clean_dep_df['text_lenght'] = cp_clean_dep_df['text'].apply(len)\n",
        "# avg_lenght = cp_clean_dep_df['text_lenght'].apply(mean)\n",
        "# print(f\"Average Lenght of Twitter Depression post:\", {avg_lenght})\n",
        "\n",
        "# Make a proper copy of the DataFrame (add parentheses)\n",
        "cp_clean_dep_df = clean_dep_df_use.copy()\n",
        "\n",
        "# Ensure 'text' is a string\n",
        "cp_clean_dep_df['text'] = cp_clean_dep_df['text'].astype(str)\n",
        "\n",
        "# Calculate text length (e.g., number of characters)\n",
        "cp_clean_dep_df['text_length'] = cp_clean_dep_df['text'].apply(len)\n",
        "cp_clean_dep_df['word_count'] = cp_clean_dep_df['text'].apply(lambda x: len(x.split()))\n",
        "\n",
        "# Calculate the average text length (use .mean(), not apply(mean))\n",
        "avg_char_length = cp_clean_dep_df['text_length'].mean()\n",
        "avg_word_length = cp_clean_dep_df['word_count'].mean()\n",
        "\n",
        "# Print the result (no need to wrap avg_length in curly braces unless using f-string variables)\n",
        "print(f\"Average character Length of Twitter Depression post: {avg_char_length:.2f} characters\")\n",
        "print(f\"Average word Length of Twitter Depression post: {avg_word_length:.2f} words\")\n"
      ],
      "metadata": {
        "trusted": true,
        "execution": {
          "iopub.status.busy": "2025-08-24T10:27:08.561212Z",
          "iopub.execute_input": "2025-08-24T10:27:08.561466Z",
          "iopub.status.idle": "2025-08-24T10:27:08.581548Z",
          "shell.execute_reply.started": "2025-08-24T10:27:08.561446Z",
          "shell.execute_reply": "2025-08-24T10:27:08.580390Z"
        },
        "colab": {
          "base_uri": "https://localhost:8080/"
        },
        "id": "qRVFZz86Y-FY",
        "outputId": "5780b1ee-5c45-4015-9fbb-afb9f23ee4c0"
      },
      "outputs": [
        {
          "output_type": "stream",
          "name": "stdout",
          "text": [
            "Average character Length of Twitter Depression post: 94.56 characters\n",
            "Average word Length of Twitter Depression post: 18.74 words\n"
          ]
        }
      ],
      "execution_count": 6
    },
    {
      "cell_type": "code",
      "source": [
        "# Cleaned Twitter Non-Depression Data\n",
        "clean_non_d_tweets_df = pd.read_csv(path + 'clean_non_d_tweets.csv')\n",
        "clean_non_d_tweets_df.head(4)\n",
        "clean_non_d_tweets_df['status'] = 'not_depression'\n",
        "clean_non_dep_df_use = clean_non_d_tweets_df[['tweet', 'status']]\n",
        "clean_non_dep_df_use.rename(columns= {'tweet': 'text'}, inplace = True)\n",
        "# print(clean_non_dep_df_use.head(4))\n",
        "print(\"========================================================\")\n",
        "print(f\"Shape of clean_non_dep_df_use: {clean_non_dep_df_use.shape}\")"
      ],
      "metadata": {
        "id": "WK0C-787EyXN",
        "outputId": "40a10d41-3b03-409a-b2cd-b66ab88efba4",
        "trusted": true,
        "execution": {
          "iopub.status.busy": "2025-08-24T10:27:08.582786Z",
          "iopub.execute_input": "2025-08-24T10:27:08.583119Z",
          "iopub.status.idle": "2025-08-24T10:27:08.655820Z",
          "shell.execute_reply.started": "2025-08-24T10:27:08.583084Z",
          "shell.execute_reply": "2025-08-24T10:27:08.654751Z"
        },
        "colab": {
          "base_uri": "https://localhost:8080/"
        }
      },
      "outputs": [
        {
          "output_type": "stream",
          "name": "stdout",
          "text": [
            "========================================================\n",
            "Shape of clean_non_dep_df_use: (4687, 2)\n"
          ]
        }
      ],
      "execution_count": 7
    },
    {
      "cell_type": "markdown",
      "source": [
        "## Reddit Suicide dataset\n",
        "\n",
        "### Dataset Description from the Kaggle Authors below - However (The V13 used here only contains suicidal and non-suicidal datasets)\n",
        "The dataset is a collection of posts from the \"SuicideWatch\" and \"depression\" subreddits of the Reddit platform. The posts are collected using Pushshift API. All posts that were made to \"SuicideWatch\" from Dec 16, 2008(creation) till Jan 2, 2021, were collected while \"depression\" posts were collected from Jan 1, 2009, to Jan 2, 2021. All posts collected from SuicideWatch are labeled as suicide, While posts collected from the depression subreddit are labeled as depression. Non-suicide posts are collected from r/teenagers."
      ],
      "metadata": {
        "id": "4CkJ6qOxcCTp"
      }
    },
    {
      "cell_type": "code",
      "source": [
        "#!/bin/bash\n",
        "!kaggle datasets download nikhileswarkomati/suicide-watch --unzip -p ./suicide-watch"
      ],
      "metadata": {
        "id": "t5NOerpPcR94",
        "outputId": "bb9b929c-a5b5-4942-aced-f854c91f815a",
        "trusted": true,
        "execution": {
          "iopub.status.busy": "2025-08-24T10:27:08.657114Z",
          "iopub.execute_input": "2025-08-24T10:27:08.657513Z",
          "iopub.status.idle": "2025-08-24T10:27:12.679403Z",
          "shell.execute_reply.started": "2025-08-24T10:27:08.657461Z",
          "shell.execute_reply": "2025-08-24T10:27:12.678430Z"
        },
        "colab": {
          "base_uri": "https://localhost:8080/"
        }
      },
      "outputs": [
        {
          "output_type": "stream",
          "name": "stdout",
          "text": [
            "Dataset URL: https://www.kaggle.com/datasets/nikhileswarkomati/suicide-watch\n",
            "License(s): CC-BY-SA-4.0\n",
            "Downloading suicide-watch.zip to ./suicide-watch\n",
            "  0% 0.00/60.6M [00:00<?, ?B/s]\n",
            "100% 60.6M/60.6M [00:00<00:00, 1.30GB/s]\n"
          ]
        }
      ],
      "execution_count": 8
    },
    {
      "cell_type": "code",
      "source": [
        "# Suicide Data\n",
        "suicide_df = pd.read_csv(\"./suicide-watch/Suicide_Detection.csv\")\n",
        "suicide_df = suicide_df.drop(columns = ['Unnamed: 0'])\n",
        "suicide_df.rename(columns = {'class': 'status'}, inplace = True)\n",
        "# print(suicide_df.head(4))\n",
        "print(\"========================================================\")\n",
        "print(f\"Shape of suicide_df: {suicide_df.shape}\")\n",
        "# print(suicide_df['status'].unique())"
      ],
      "metadata": {
        "id": "4rF0MlAKdsQ6",
        "outputId": "8a6fc3c4-478b-45ed-98bf-29d62ed59470",
        "trusted": true,
        "execution": {
          "iopub.status.busy": "2025-08-24T10:27:12.680685Z",
          "iopub.execute_input": "2025-08-24T10:27:12.681066Z",
          "iopub.status.idle": "2025-08-24T10:27:15.204084Z",
          "shell.execute_reply.started": "2025-08-24T10:27:12.681025Z",
          "shell.execute_reply": "2025-08-24T10:27:15.202986Z"
        },
        "colab": {
          "base_uri": "https://localhost:8080/"
        }
      },
      "outputs": [
        {
          "output_type": "stream",
          "name": "stdout",
          "text": [
            "========================================================\n",
            "Shape of suicide_df: (232074, 2)\n"
          ]
        }
      ],
      "execution_count": 9
    },
    {
      "cell_type": "code",
      "source": [
        "# Checking the Categories\n",
        "print(suicide_df['status'].value_counts())"
      ],
      "metadata": {
        "id": "QlFyzHgDerEA",
        "outputId": "4ccfa946-0e27-4c16-9e7c-54c6753ef334",
        "trusted": true,
        "execution": {
          "iopub.status.busy": "2025-08-24T10:27:15.207676Z",
          "iopub.execute_input": "2025-08-24T10:27:15.207994Z",
          "iopub.status.idle": "2025-08-24T10:27:15.233426Z",
          "shell.execute_reply.started": "2025-08-24T10:27:15.207968Z",
          "shell.execute_reply": "2025-08-24T10:27:15.232249Z"
        },
        "colab": {
          "base_uri": "https://localhost:8080/"
        }
      },
      "outputs": [
        {
          "output_type": "stream",
          "name": "stdout",
          "text": [
            "status\n",
            "suicide        116037\n",
            "non-suicide    116037\n",
            "Name: count, dtype: int64\n"
          ]
        }
      ],
      "execution_count": 10
    },
    {
      "cell_type": "code",
      "source": [
        "# Make a proper copy of the DataFrame (add parentheses)\n",
        "cp_suicide_df = suicide_df.copy()\n",
        "\n",
        "# Ensure 'text' is a string\n",
        "cp_suicide_df['text'] = cp_suicide_df['text'].astype(str)\n",
        "cp_suicide_df['text_length'] = cp_suicide_df['text'].apply(len)\n",
        "cp_suicide_df['word_count'] = cp_suicide_df['text'].apply(lambda x: len(x.split()))\n",
        "s_avg_char_length = cp_suicide_df['text_length'].mean()\n",
        "s_avg_word_length = cp_suicide_df['word_count'].mean()\n",
        "print(f\"Average char Length of Reddit Depression post: {s_avg_char_length:.2f} characters\")\n",
        "print(f\"Average word Length of Reddit Depression post: {s_avg_word_length:.2f} words\")\n"
      ],
      "metadata": {
        "trusted": true,
        "execution": {
          "iopub.status.busy": "2025-08-24T10:27:15.235747Z",
          "iopub.execute_input": "2025-08-24T10:27:15.236038Z",
          "iopub.status.idle": "2025-08-24T10:27:17.327260Z",
          "shell.execute_reply.started": "2025-08-24T10:27:15.236014Z",
          "shell.execute_reply": "2025-08-24T10:27:17.326141Z"
        },
        "colab": {
          "base_uri": "https://localhost:8080/"
        },
        "id": "zR9bFmbNY-FZ",
        "outputId": "879db585-9c39-4f46-88a7-a035f1239b04"
      },
      "outputs": [
        {
          "output_type": "stream",
          "name": "stdout",
          "text": [
            "Average char Length of Reddit Depression post: 689.64 characters\n",
            "Average word Length of Reddit Depression post: 131.93 words\n"
          ]
        }
      ],
      "execution_count": 11
    },
    {
      "cell_type": "code",
      "source": [
        "# suicide_df.iloc[90]"
      ],
      "metadata": {
        "trusted": true,
        "execution": {
          "iopub.status.busy": "2025-08-24T10:27:17.328346Z",
          "iopub.execute_input": "2025-08-24T10:27:17.328750Z",
          "iopub.status.idle": "2025-08-24T10:27:17.333217Z",
          "shell.execute_reply.started": "2025-08-24T10:27:17.328712Z",
          "shell.execute_reply": "2025-08-24T10:27:17.332084Z"
        },
        "id": "ku70JUWsY-FZ"
      },
      "outputs": [],
      "execution_count": 12
    },
    {
      "cell_type": "markdown",
      "source": [
        "## Cyberbullying Dataset\n",
        "\n",
        "This dataset contains more than 47000 tweets labelled according to the class of cyberbullying:\n",
        "\n",
        "Age;\n",
        "Ethnicity;\n",
        "Gender;\n",
        "Religion;\n",
        "Other type of cyberbullying;\n",
        "Not cyberbullying\n",
        "\n",
        "Link to Data: https://www.kaggle.com/datasets/andrewmvd/cyberbullying-classification\n",
        "\n",
        "**Citation:** J. Wang, K. Fu, C.T. Lu, “SOSNet: A Graph Convolutional Network Approach to Fine-Grained Cyberbullying Detection,” Proceedings of the 2020 IEEE International Conference on Big Data (IEEE BigData 2020), December 10-13, 2020."
      ],
      "metadata": {
        "id": "CKch6U3aepFS"
      }
    },
    {
      "cell_type": "code",
      "source": [
        "#!/bin/bash\n",
        "!kaggle datasets download andrewmvd/cyberbullying-classification --unzip -p ./cyberbullying"
      ],
      "metadata": {
        "id": "b_dU7dFygCsT",
        "outputId": "888f186f-dfa3-4b50-c738-6413e205756f",
        "trusted": true,
        "execution": {
          "iopub.status.busy": "2025-08-24T10:27:17.334408Z",
          "iopub.execute_input": "2025-08-24T10:27:17.334788Z",
          "iopub.status.idle": "2025-08-24T10:27:18.676310Z",
          "shell.execute_reply.started": "2025-08-24T10:27:17.334749Z",
          "shell.execute_reply": "2025-08-24T10:27:18.675003Z"
        },
        "colab": {
          "base_uri": "https://localhost:8080/"
        }
      },
      "outputs": [
        {
          "output_type": "stream",
          "name": "stdout",
          "text": [
            "Dataset URL: https://www.kaggle.com/datasets/andrewmvd/cyberbullying-classification\n",
            "License(s): Attribution 4.0 International (CC BY 4.0)\n",
            "Downloading cyberbullying-classification.zip to ./cyberbullying\n",
            "  0% 0.00/2.82M [00:00<?, ?B/s]\n",
            "100% 2.82M/2.82M [00:00<00:00, 792MB/s]\n"
          ]
        }
      ],
      "execution_count": 13
    },
    {
      "cell_type": "code",
      "source": [
        "# Cyberbullying Datasets\n",
        "cyber_df = pd.read_csv(\"./cyberbullying/cyberbullying_tweets.csv\")\n",
        "cyber_df.rename(columns = {'tweet_text': 'text', 'cyberbullying_type': 'status'}, inplace = True)\n",
        "# print(cyber_df.head(4))\n",
        "print(\"========================================================\")\n",
        "print(f\"Shape of cyber_df: {cyber_df.shape}\")\n",
        "# print(cyber_df['status'].unique())"
      ],
      "metadata": {
        "id": "TW0CyUyehCOZ",
        "outputId": "02f4c2b1-a354-462f-e6da-2c9d33176462",
        "trusted": true,
        "execution": {
          "iopub.status.busy": "2025-08-24T10:27:18.677634Z",
          "iopub.execute_input": "2025-08-24T10:27:18.677988Z",
          "iopub.status.idle": "2025-08-24T10:27:18.813803Z",
          "shell.execute_reply.started": "2025-08-24T10:27:18.677960Z",
          "shell.execute_reply": "2025-08-24T10:27:18.812706Z"
        },
        "colab": {
          "base_uri": "https://localhost:8080/"
        }
      },
      "outputs": [
        {
          "output_type": "stream",
          "name": "stdout",
          "text": [
            "========================================================\n",
            "Shape of cyber_df: (47692, 2)\n"
          ]
        }
      ],
      "execution_count": 14
    },
    {
      "cell_type": "code",
      "source": [
        "# len(cyber_df)\n",
        "print(cyber_df[\"status\"].value_counts())"
      ],
      "metadata": {
        "id": "dbWbM6Y9hKBC",
        "outputId": "a60bd00d-e26b-47f8-957f-2264e9a14510",
        "trusted": true,
        "execution": {
          "iopub.status.busy": "2025-08-24T10:27:18.814830Z",
          "iopub.execute_input": "2025-08-24T10:27:18.815090Z",
          "iopub.status.idle": "2025-08-24T10:27:18.824272Z",
          "shell.execute_reply.started": "2025-08-24T10:27:18.815069Z",
          "shell.execute_reply": "2025-08-24T10:27:18.823302Z"
        },
        "colab": {
          "base_uri": "https://localhost:8080/"
        }
      },
      "outputs": [
        {
          "output_type": "stream",
          "name": "stdout",
          "text": [
            "status\n",
            "religion               7998\n",
            "age                    7992\n",
            "gender                 7973\n",
            "ethnicity              7961\n",
            "not_cyberbullying      7945\n",
            "other_cyberbullying    7823\n",
            "Name: count, dtype: int64\n"
          ]
        }
      ],
      "execution_count": 15
    },
    {
      "cell_type": "markdown",
      "source": [
        "## Twitter Suicidal Detection Dataset\n",
        "**Description (by Authors):** This dataset provides a collection of tweets along with an annotation indicating whether each tweet is related to suicide or not. The primary objective of this dataset is to facilitate the development and evaluation of machine learning models for the classification of tweets as either expressing suicidal sentiments or not. This dataset has been internally generated by our team members specifically for our NLP project.\n",
        "\n",
        "**Link:** https://www.kaggle.com/datasets/aunanya875/suicidal-tweet-detection-dataset"
      ],
      "metadata": {
        "id": "MDPxN2Bti7Xw"
      }
    },
    {
      "cell_type": "code",
      "source": [
        "#!/bin/bash\n",
        "!kaggle datasets download aunanya875/suicidal-tweet-detection-dataset --unzip -p ./suicidal_tweet"
      ],
      "metadata": {
        "id": "TFtnUjZgiT3s",
        "outputId": "5944f227-91f7-4e1e-8c12-73ced3ca8c58",
        "trusted": true,
        "execution": {
          "iopub.status.busy": "2025-08-24T10:27:18.825253Z",
          "iopub.execute_input": "2025-08-24T10:27:18.825496Z",
          "iopub.status.idle": "2025-08-24T10:27:20.038941Z",
          "shell.execute_reply.started": "2025-08-24T10:27:18.825475Z",
          "shell.execute_reply": "2025-08-24T10:27:20.037900Z"
        },
        "colab": {
          "base_uri": "https://localhost:8080/"
        }
      },
      "outputs": [
        {
          "output_type": "stream",
          "name": "stdout",
          "text": [
            "Dataset URL: https://www.kaggle.com/datasets/aunanya875/suicidal-tweet-detection-dataset\n",
            "License(s): CC-BY-NC-SA-4.0\n",
            "Downloading suicidal-tweet-detection-dataset.zip to ./suicidal_tweet\n",
            "  0% 0.00/88.3k [00:00<?, ?B/s]\n",
            "100% 88.3k/88.3k [00:00<00:00, 363MB/s]\n"
          ]
        }
      ],
      "execution_count": 16
    },
    {
      "cell_type": "code",
      "source": [
        "# Twitter Suicide Data\n",
        "suicide_tweet_df = pd.read_csv(\"./suicidal_tweet/Suicide_Ideation_Dataset(Twitter-based).csv\")\n",
        "suicide_tweet_df.rename(columns = {'Tweet': 'text', 'Suicide': 'status'}, inplace = True)\n",
        "# print(suicide_tweet_df.head(4))\n",
        "print(\"========================================================\")\n",
        "print(f\"Shape of suicide_tweet_df: {suicide_tweet_df.shape}\")\n",
        "# print(suicide_tweet_df['status'].unique())\n",
        "# print(suicide_tweet_df['status'].value_counts())"
      ],
      "metadata": {
        "id": "GKAtbZbzjIur",
        "outputId": "ce8d6950-7519-449d-f193-b3f5e660d2e1",
        "trusted": true,
        "execution": {
          "iopub.status.busy": "2025-08-24T10:27:20.040046Z",
          "iopub.execute_input": "2025-08-24T10:27:20.040354Z",
          "iopub.status.idle": "2025-08-24T10:27:20.056179Z",
          "shell.execute_reply.started": "2025-08-24T10:27:20.040329Z",
          "shell.execute_reply": "2025-08-24T10:27:20.055166Z"
        },
        "colab": {
          "base_uri": "https://localhost:8080/"
        }
      },
      "outputs": [
        {
          "output_type": "stream",
          "name": "stdout",
          "text": [
            "========================================================\n",
            "Shape of suicide_tweet_df: (1787, 2)\n"
          ]
        }
      ],
      "execution_count": 17
    },
    {
      "cell_type": "code",
      "source": [
        "len(suicide_tweet_df)\n",
        "print(suicide_tweet_df[\"status\"].value_counts())"
      ],
      "metadata": {
        "id": "K8wgb2Xvjxwo",
        "outputId": "f916844d-46a8-410a-a76a-4f662f5ec239",
        "trusted": true,
        "execution": {
          "iopub.status.busy": "2025-08-24T10:27:20.057353Z",
          "iopub.execute_input": "2025-08-24T10:27:20.057763Z",
          "iopub.status.idle": "2025-08-24T10:27:20.069769Z",
          "shell.execute_reply.started": "2025-08-24T10:27:20.057726Z",
          "shell.execute_reply": "2025-08-24T10:27:20.068779Z"
        },
        "colab": {
          "base_uri": "https://localhost:8080/"
        }
      },
      "outputs": [
        {
          "output_type": "stream",
          "name": "stdout",
          "text": [
            "status\n",
            "Not Suicide post           1127\n",
            "Potential Suicide post      660\n",
            "Name: count, dtype: int64\n"
          ]
        }
      ],
      "execution_count": 18
    },
    {
      "cell_type": "markdown",
      "source": [
        "The twitter suicide data looks too small and too imbalanced - We will likely drop it as we have a larger Reddit version."
      ],
      "metadata": {
        "id": "E3CaP75nY-Fa"
      }
    },
    {
      "cell_type": "markdown",
      "source": [
        "## Twitter Mental Health Dataset\n",
        "\n",
        "Dataset Description by Authors: The data is in uncleaned format and is collected using Twitter API. The Tweets has been filtered to keep only the English context. It targets mental health classification of the user at Tweet-level. Also check out notebooks I have provided which demonstrates Data Cleaning and Feature Extraction Techniques on the given dataset\n",
        "\n",
        "* Topic Modelling Features using LDA (Latent Dirichlet Allocation) i.e. summarizing tweet into one of Top k topics\n",
        "* Emoji Sentiment Features i.e. count of Positive, Negative and Neutral Expression emoji's present in the tweet\n",
        "\n",
        "**Link:** https://www.kaggle.com/datasets/infamouscoder/mental-health-social-media"
      ],
      "metadata": {
        "id": "MOy2nhXBkBJH"
      }
    },
    {
      "cell_type": "code",
      "source": [
        "#!/bin/bash\n",
        "!kaggle datasets download infamouscoder/mental-health-social-media --unzip -p ./twitter_mentalhealth"
      ],
      "metadata": {
        "id": "OLMExnV0kHG-",
        "outputId": "65abcd35-f030-48a5-b689-6a1c47f1bc29",
        "trusted": true,
        "execution": {
          "iopub.status.busy": "2025-08-24T10:27:20.070856Z",
          "iopub.execute_input": "2025-08-24T10:27:20.071147Z",
          "iopub.status.idle": "2025-08-24T10:27:21.423740Z",
          "shell.execute_reply.started": "2025-08-24T10:27:20.071122Z",
          "shell.execute_reply": "2025-08-24T10:27:21.422666Z"
        },
        "colab": {
          "base_uri": "https://localhost:8080/"
        }
      },
      "outputs": [
        {
          "output_type": "stream",
          "name": "stdout",
          "text": [
            "Dataset URL: https://www.kaggle.com/datasets/infamouscoder/mental-health-social-media\n",
            "License(s): CC0-1.0\n",
            "Downloading mental-health-social-media.zip to ./twitter_mentalhealth\n",
            "  0% 0.00/1.10M [00:00<?, ?B/s]\n",
            "100% 1.10M/1.10M [00:00<00:00, 720MB/s]\n"
          ]
        }
      ],
      "execution_count": 19
    },
    {
      "cell_type": "code",
      "source": [
        "twitter_mental_df = pd.read_csv(\"./twitter_mentalhealth/Mental-Health-Twitter.csv\")\n",
        "\n",
        "# twitter_mental_df.head(4)\n",
        "\n",
        "# Dataset sourcing not well-defined - Will not be used"
      ],
      "metadata": {
        "id": "g3T1sjfTkWK7",
        "trusted": true,
        "execution": {
          "iopub.status.busy": "2025-08-24T10:27:21.424874Z",
          "iopub.execute_input": "2025-08-24T10:27:21.425132Z",
          "iopub.status.idle": "2025-08-24T10:27:21.514758Z",
          "shell.execute_reply.started": "2025-08-24T10:27:21.425108Z",
          "shell.execute_reply": "2025-08-24T10:27:21.513780Z"
        }
      },
      "outputs": [],
      "execution_count": 20
    },
    {
      "cell_type": "markdown",
      "source": [
        "## Sentiment Analysis for Mental Health Dataset\n",
        "\n",
        "**Description:** This comprehensive dataset is a meticulously curated collection of mental health statuses tagged from various statements. The dataset amalgamates raw data from multiple sources, cleaned and compiled to create a robust resource for developing chatbots and performing sentiment analysis.\n",
        "\n",
        "**Link:** https://www.kaggle.com/datasets/suchintikasarkar/sentiment-analysis-for-mental-health"
      ],
      "metadata": {
        "id": "DMF3SsdMl1tR"
      }
    },
    {
      "cell_type": "code",
      "source": [
        "#!/bin/bash\n",
        "!kaggle datasets download suchintikasarkar/sentiment-analysis-for-mental-health --unzip -p ./anxiety"
      ],
      "metadata": {
        "id": "4ty9SfHbl3fy",
        "outputId": "c58e25bb-732a-48cd-c5f9-bc226352d581",
        "trusted": true,
        "execution": {
          "iopub.status.busy": "2025-08-24T10:27:21.515778Z",
          "iopub.execute_input": "2025-08-24T10:27:21.516055Z",
          "iopub.status.idle": "2025-08-24T10:27:22.992292Z",
          "shell.execute_reply.started": "2025-08-24T10:27:21.516032Z",
          "shell.execute_reply": "2025-08-24T10:27:22.991329Z"
        },
        "colab": {
          "base_uri": "https://localhost:8080/"
        }
      },
      "outputs": [
        {
          "output_type": "stream",
          "name": "stdout",
          "text": [
            "Dataset URL: https://www.kaggle.com/datasets/suchintikasarkar/sentiment-analysis-for-mental-health\n",
            "License(s): DbCL-1.0\n",
            "Downloading sentiment-analysis-for-mental-health.zip to ./anxiety\n",
            "  0% 0.00/11.1M [00:00<?, ?B/s]\n",
            "100% 11.1M/11.1M [00:00<00:00, 1.20GB/s]\n"
          ]
        }
      ],
      "execution_count": 21
    },
    {
      "cell_type": "code",
      "source": [
        "multi_mental_df = pd.read_csv(\"./anxiety/Combined Data.csv\")\n",
        "multi_mental_df.drop(columns = ['Unnamed: 0'], inplace = True)\n",
        "multi_mental_df.rename(columns={'statement':'text'})\n",
        "# print(multi_mental_df.head(4))\n",
        "print(\"========================================================\")\n",
        "print(f\"Shape of multi_mental_df: {multi_mental_df.shape}\")\n",
        "# print(multi_mental_df['status'].unique())\n",
        "# print(multi_mental_df['status'].value_counts())"
      ],
      "metadata": {
        "id": "luuON3JtmFSR",
        "outputId": "d5039dd5-59ce-4b27-f47f-54497700004b",
        "trusted": true,
        "execution": {
          "iopub.status.busy": "2025-08-24T10:27:22.993501Z",
          "iopub.execute_input": "2025-08-24T10:27:22.993821Z",
          "iopub.status.idle": "2025-08-24T10:27:23.442902Z",
          "shell.execute_reply.started": "2025-08-24T10:27:22.993789Z",
          "shell.execute_reply": "2025-08-24T10:27:23.441798Z"
        },
        "colab": {
          "base_uri": "https://localhost:8080/"
        }
      },
      "outputs": [
        {
          "output_type": "stream",
          "name": "stdout",
          "text": [
            "========================================================\n",
            "Shape of multi_mental_df: (53043, 2)\n"
          ]
        }
      ],
      "execution_count": 22
    },
    {
      "cell_type": "code",
      "source": [
        "# multi_mental_df['status'].value_counts()"
      ],
      "metadata": {
        "id": "LjzY_hqLzE4u",
        "trusted": true,
        "execution": {
          "iopub.status.busy": "2025-08-24T10:27:23.443779Z",
          "iopub.execute_input": "2025-08-24T10:27:23.444031Z",
          "iopub.status.idle": "2025-08-24T10:27:23.448112Z",
          "shell.execute_reply.started": "2025-08-24T10:27:23.444010Z",
          "shell.execute_reply": "2025-08-24T10:27:23.447032Z"
        }
      },
      "outputs": [],
      "execution_count": 23
    },
    {
      "cell_type": "code",
      "source": [
        "# len(multi_mental_df)"
      ],
      "metadata": {
        "id": "ULcSol97zOL2",
        "trusted": true,
        "execution": {
          "iopub.status.busy": "2025-08-24T10:27:23.449118Z",
          "iopub.execute_input": "2025-08-24T10:27:23.449450Z",
          "iopub.status.idle": "2025-08-24T10:27:23.464830Z",
          "shell.execute_reply.started": "2025-08-24T10:27:23.449416Z",
          "shell.execute_reply": "2025-08-24T10:27:23.463933Z"
        }
      },
      "outputs": [],
      "execution_count": 24
    },
    {
      "cell_type": "code",
      "source": [
        "multi_mental_df.groupby('status').count()"
      ],
      "metadata": {
        "id": "nOArrWIpnx3C",
        "outputId": "aaa48770-eb35-48a4-b4da-721e30dbd2e9",
        "trusted": true,
        "execution": {
          "iopub.status.busy": "2025-08-24T10:27:23.465757Z",
          "iopub.execute_input": "2025-08-24T10:27:23.465991Z",
          "iopub.status.idle": "2025-08-24T10:27:23.512616Z",
          "shell.execute_reply.started": "2025-08-24T10:27:23.465971Z",
          "shell.execute_reply": "2025-08-24T10:27:23.511603Z"
        },
        "colab": {
          "base_uri": "https://localhost:8080/",
          "height": 300
        }
      },
      "outputs": [
        {
          "output_type": "execute_result",
          "data": {
            "text/plain": [
              "                      statement\n",
              "status                         \n",
              "Anxiety                    3841\n",
              "Bipolar                    2777\n",
              "Depression                15404\n",
              "Normal                    16343\n",
              "Personality disorder       1077\n",
              "Stress                     2587\n",
              "Suicidal                  10652"
            ],
            "text/html": [
              "\n",
              "  <div id=\"df-76623830-94bc-4b52-a317-95666e4470d0\" class=\"colab-df-container\">\n",
              "    <div>\n",
              "<style scoped>\n",
              "    .dataframe tbody tr th:only-of-type {\n",
              "        vertical-align: middle;\n",
              "    }\n",
              "\n",
              "    .dataframe tbody tr th {\n",
              "        vertical-align: top;\n",
              "    }\n",
              "\n",
              "    .dataframe thead th {\n",
              "        text-align: right;\n",
              "    }\n",
              "</style>\n",
              "<table border=\"1\" class=\"dataframe\">\n",
              "  <thead>\n",
              "    <tr style=\"text-align: right;\">\n",
              "      <th></th>\n",
              "      <th>statement</th>\n",
              "    </tr>\n",
              "    <tr>\n",
              "      <th>status</th>\n",
              "      <th></th>\n",
              "    </tr>\n",
              "  </thead>\n",
              "  <tbody>\n",
              "    <tr>\n",
              "      <th>Anxiety</th>\n",
              "      <td>3841</td>\n",
              "    </tr>\n",
              "    <tr>\n",
              "      <th>Bipolar</th>\n",
              "      <td>2777</td>\n",
              "    </tr>\n",
              "    <tr>\n",
              "      <th>Depression</th>\n",
              "      <td>15404</td>\n",
              "    </tr>\n",
              "    <tr>\n",
              "      <th>Normal</th>\n",
              "      <td>16343</td>\n",
              "    </tr>\n",
              "    <tr>\n",
              "      <th>Personality disorder</th>\n",
              "      <td>1077</td>\n",
              "    </tr>\n",
              "    <tr>\n",
              "      <th>Stress</th>\n",
              "      <td>2587</td>\n",
              "    </tr>\n",
              "    <tr>\n",
              "      <th>Suicidal</th>\n",
              "      <td>10652</td>\n",
              "    </tr>\n",
              "  </tbody>\n",
              "</table>\n",
              "</div>\n",
              "    <div class=\"colab-df-buttons\">\n",
              "\n",
              "  <div class=\"colab-df-container\">\n",
              "    <button class=\"colab-df-convert\" onclick=\"convertToInteractive('df-76623830-94bc-4b52-a317-95666e4470d0')\"\n",
              "            title=\"Convert this dataframe to an interactive table.\"\n",
              "            style=\"display:none;\">\n",
              "\n",
              "  <svg xmlns=\"http://www.w3.org/2000/svg\" height=\"24px\" viewBox=\"0 -960 960 960\">\n",
              "    <path d=\"M120-120v-720h720v720H120Zm60-500h600v-160H180v160Zm220 220h160v-160H400v160Zm0 220h160v-160H400v160ZM180-400h160v-160H180v160Zm440 0h160v-160H620v160ZM180-180h160v-160H180v160Zm440 0h160v-160H620v160Z\"/>\n",
              "  </svg>\n",
              "    </button>\n",
              "\n",
              "  <style>\n",
              "    .colab-df-container {\n",
              "      display:flex;\n",
              "      gap: 12px;\n",
              "    }\n",
              "\n",
              "    .colab-df-convert {\n",
              "      background-color: #E8F0FE;\n",
              "      border: none;\n",
              "      border-radius: 50%;\n",
              "      cursor: pointer;\n",
              "      display: none;\n",
              "      fill: #1967D2;\n",
              "      height: 32px;\n",
              "      padding: 0 0 0 0;\n",
              "      width: 32px;\n",
              "    }\n",
              "\n",
              "    .colab-df-convert:hover {\n",
              "      background-color: #E2EBFA;\n",
              "      box-shadow: 0px 1px 2px rgba(60, 64, 67, 0.3), 0px 1px 3px 1px rgba(60, 64, 67, 0.15);\n",
              "      fill: #174EA6;\n",
              "    }\n",
              "\n",
              "    .colab-df-buttons div {\n",
              "      margin-bottom: 4px;\n",
              "    }\n",
              "\n",
              "    [theme=dark] .colab-df-convert {\n",
              "      background-color: #3B4455;\n",
              "      fill: #D2E3FC;\n",
              "    }\n",
              "\n",
              "    [theme=dark] .colab-df-convert:hover {\n",
              "      background-color: #434B5C;\n",
              "      box-shadow: 0px 1px 3px 1px rgba(0, 0, 0, 0.15);\n",
              "      filter: drop-shadow(0px 1px 2px rgba(0, 0, 0, 0.3));\n",
              "      fill: #FFFFFF;\n",
              "    }\n",
              "  </style>\n",
              "\n",
              "    <script>\n",
              "      const buttonEl =\n",
              "        document.querySelector('#df-76623830-94bc-4b52-a317-95666e4470d0 button.colab-df-convert');\n",
              "      buttonEl.style.display =\n",
              "        google.colab.kernel.accessAllowed ? 'block' : 'none';\n",
              "\n",
              "      async function convertToInteractive(key) {\n",
              "        const element = document.querySelector('#df-76623830-94bc-4b52-a317-95666e4470d0');\n",
              "        const dataTable =\n",
              "          await google.colab.kernel.invokeFunction('convertToInteractive',\n",
              "                                                    [key], {});\n",
              "        if (!dataTable) return;\n",
              "\n",
              "        const docLinkHtml = 'Like what you see? Visit the ' +\n",
              "          '<a target=\"_blank\" href=https://colab.research.google.com/notebooks/data_table.ipynb>data table notebook</a>'\n",
              "          + ' to learn more about interactive tables.';\n",
              "        element.innerHTML = '';\n",
              "        dataTable['output_type'] = 'display_data';\n",
              "        await google.colab.output.renderOutput(dataTable, element);\n",
              "        const docLink = document.createElement('div');\n",
              "        docLink.innerHTML = docLinkHtml;\n",
              "        element.appendChild(docLink);\n",
              "      }\n",
              "    </script>\n",
              "  </div>\n",
              "\n",
              "\n",
              "    <div id=\"df-eddfd193-f609-443c-81f1-c44014f738d6\">\n",
              "      <button class=\"colab-df-quickchart\" onclick=\"quickchart('df-eddfd193-f609-443c-81f1-c44014f738d6')\"\n",
              "                title=\"Suggest charts\"\n",
              "                style=\"display:none;\">\n",
              "\n",
              "<svg xmlns=\"http://www.w3.org/2000/svg\" height=\"24px\"viewBox=\"0 0 24 24\"\n",
              "     width=\"24px\">\n",
              "    <g>\n",
              "        <path d=\"M19 3H5c-1.1 0-2 .9-2 2v14c0 1.1.9 2 2 2h14c1.1 0 2-.9 2-2V5c0-1.1-.9-2-2-2zM9 17H7v-7h2v7zm4 0h-2V7h2v10zm4 0h-2v-4h2v4z\"/>\n",
              "    </g>\n",
              "</svg>\n",
              "      </button>\n",
              "\n",
              "<style>\n",
              "  .colab-df-quickchart {\n",
              "      --bg-color: #E8F0FE;\n",
              "      --fill-color: #1967D2;\n",
              "      --hover-bg-color: #E2EBFA;\n",
              "      --hover-fill-color: #174EA6;\n",
              "      --disabled-fill-color: #AAA;\n",
              "      --disabled-bg-color: #DDD;\n",
              "  }\n",
              "\n",
              "  [theme=dark] .colab-df-quickchart {\n",
              "      --bg-color: #3B4455;\n",
              "      --fill-color: #D2E3FC;\n",
              "      --hover-bg-color: #434B5C;\n",
              "      --hover-fill-color: #FFFFFF;\n",
              "      --disabled-bg-color: #3B4455;\n",
              "      --disabled-fill-color: #666;\n",
              "  }\n",
              "\n",
              "  .colab-df-quickchart {\n",
              "    background-color: var(--bg-color);\n",
              "    border: none;\n",
              "    border-radius: 50%;\n",
              "    cursor: pointer;\n",
              "    display: none;\n",
              "    fill: var(--fill-color);\n",
              "    height: 32px;\n",
              "    padding: 0;\n",
              "    width: 32px;\n",
              "  }\n",
              "\n",
              "  .colab-df-quickchart:hover {\n",
              "    background-color: var(--hover-bg-color);\n",
              "    box-shadow: 0 1px 2px rgba(60, 64, 67, 0.3), 0 1px 3px 1px rgba(60, 64, 67, 0.15);\n",
              "    fill: var(--button-hover-fill-color);\n",
              "  }\n",
              "\n",
              "  .colab-df-quickchart-complete:disabled,\n",
              "  .colab-df-quickchart-complete:disabled:hover {\n",
              "    background-color: var(--disabled-bg-color);\n",
              "    fill: var(--disabled-fill-color);\n",
              "    box-shadow: none;\n",
              "  }\n",
              "\n",
              "  .colab-df-spinner {\n",
              "    border: 2px solid var(--fill-color);\n",
              "    border-color: transparent;\n",
              "    border-bottom-color: var(--fill-color);\n",
              "    animation:\n",
              "      spin 1s steps(1) infinite;\n",
              "  }\n",
              "\n",
              "  @keyframes spin {\n",
              "    0% {\n",
              "      border-color: transparent;\n",
              "      border-bottom-color: var(--fill-color);\n",
              "      border-left-color: var(--fill-color);\n",
              "    }\n",
              "    20% {\n",
              "      border-color: transparent;\n",
              "      border-left-color: var(--fill-color);\n",
              "      border-top-color: var(--fill-color);\n",
              "    }\n",
              "    30% {\n",
              "      border-color: transparent;\n",
              "      border-left-color: var(--fill-color);\n",
              "      border-top-color: var(--fill-color);\n",
              "      border-right-color: var(--fill-color);\n",
              "    }\n",
              "    40% {\n",
              "      border-color: transparent;\n",
              "      border-right-color: var(--fill-color);\n",
              "      border-top-color: var(--fill-color);\n",
              "    }\n",
              "    60% {\n",
              "      border-color: transparent;\n",
              "      border-right-color: var(--fill-color);\n",
              "    }\n",
              "    80% {\n",
              "      border-color: transparent;\n",
              "      border-right-color: var(--fill-color);\n",
              "      border-bottom-color: var(--fill-color);\n",
              "    }\n",
              "    90% {\n",
              "      border-color: transparent;\n",
              "      border-bottom-color: var(--fill-color);\n",
              "    }\n",
              "  }\n",
              "</style>\n",
              "\n",
              "      <script>\n",
              "        async function quickchart(key) {\n",
              "          const quickchartButtonEl =\n",
              "            document.querySelector('#' + key + ' button');\n",
              "          quickchartButtonEl.disabled = true;  // To prevent multiple clicks.\n",
              "          quickchartButtonEl.classList.add('colab-df-spinner');\n",
              "          try {\n",
              "            const charts = await google.colab.kernel.invokeFunction(\n",
              "                'suggestCharts', [key], {});\n",
              "          } catch (error) {\n",
              "            console.error('Error during call to suggestCharts:', error);\n",
              "          }\n",
              "          quickchartButtonEl.classList.remove('colab-df-spinner');\n",
              "          quickchartButtonEl.classList.add('colab-df-quickchart-complete');\n",
              "        }\n",
              "        (() => {\n",
              "          let quickchartButtonEl =\n",
              "            document.querySelector('#df-eddfd193-f609-443c-81f1-c44014f738d6 button');\n",
              "          quickchartButtonEl.style.display =\n",
              "            google.colab.kernel.accessAllowed ? 'block' : 'none';\n",
              "        })();\n",
              "      </script>\n",
              "    </div>\n",
              "\n",
              "    </div>\n",
              "  </div>\n"
            ],
            "application/vnd.google.colaboratory.intrinsic+json": {
              "type": "dataframe",
              "summary": "{\n  \"name\": \"multi_mental_df\",\n  \"rows\": 7,\n  \"fields\": [\n    {\n      \"column\": \"status\",\n      \"properties\": {\n        \"dtype\": \"string\",\n        \"num_unique_values\": 7,\n        \"samples\": [\n          \"Anxiety\",\n          \"Bipolar\",\n          \"Stress\"\n        ],\n        \"semantic_type\": \"\",\n        \"description\": \"\"\n      }\n    },\n    {\n      \"column\": \"statement\",\n      \"properties\": {\n        \"dtype\": \"number\",\n        \"std\": 6476,\n        \"min\": 1077,\n        \"max\": 16343,\n        \"num_unique_values\": 7,\n        \"samples\": [\n          3841,\n          2777,\n          2587\n        ],\n        \"semantic_type\": \"\",\n        \"description\": \"\"\n      }\n    }\n  ]\n}"
            }
          },
          "metadata": {},
          "execution_count": 25
        }
      ],
      "execution_count": 25
    },
    {
      "cell_type": "markdown",
      "source": [
        "# **NOTES AND IDEAS**\n",
        "- Train on a different dataset, predict a different dataset and measure performace\n",
        "- Do research aand combine datasets with different features, select train and test data carefully\n",
        "- Research about best algorithms that could help, check instances of where such works has been done\n",
        "- Where does LLM come in. Do we train traditional models and create LLM model too and measure performance\n",
        "- How does LLM help with explanability\n",
        "- **Goal:** A large model that can do many predictions accurately"
      ],
      "metadata": {
        "id": "-cJz3kAGrl9a"
      }
    },
    {
      "cell_type": "markdown",
      "source": [
        "# Random Selection - Downsampling Large Datasets\n",
        "\n",
        "This function was written to easily randomly select a specified n number of samples from large datasets"
      ],
      "metadata": {
        "id": "fXkxCgmpY-Fb"
      }
    },
    {
      "cell_type": "code",
      "source": [
        "def random_select(df, n, seed=42):\n",
        "    \"\"\"\n",
        "    Selects `n` random rows from a DataFrame.\n",
        "    If `n` is greater than the available rows, it randomizes and returns all rows.\n",
        "\n",
        "    Parameters:\n",
        "        df (pd.DataFrame): The input DataFrame.\n",
        "        n (int): Number of rows to randomly select.\n",
        "        seed (int, optional): Random seed for reproducibility. Default is 42.\n",
        "\n",
        "    Returns:\n",
        "        pd.DataFrame: A DataFrame with `n` randomly selected rows or a shuffled DataFrame if `n` > len(df).\n",
        "    \"\"\"\n",
        "\n",
        "    # Check if DataFrame is None\n",
        "    if df is None:\n",
        "        print(\"Warning: DataFrame is None. Cannot select rows.\")\n",
        "        return None\n",
        "\n",
        "    # Get DataFrame length\n",
        "    df_len = len(df)\n",
        "\n",
        "    # If n is greater than available rows, shuffle the entire dataset\n",
        "    if n > df_len:\n",
        "        print(f\"Requested {n} rows - but only {df_len} available. Returning all rows, shuffled.\")\n",
        "        return df.sample(frac=1, random_state=seed).reset_index(drop=True)\n",
        "\n",
        "    # Select `n` random rows\n",
        "    return df.sample(n=n, random_state=seed).reset_index(drop=True)\n",
        "\n",
        "\n",
        "\n",
        "suicide_tweet_df = random_select(suicide_tweet_df, 5000)\n",
        "suicide_tweet_df.head()\n"
      ],
      "metadata": {
        "id": "hyZajPbVNXwL",
        "outputId": "3c06af52-15b0-44b3-f49a-9a142f4a7351",
        "trusted": true,
        "execution": {
          "iopub.status.busy": "2025-08-24T10:27:23.513468Z",
          "iopub.execute_input": "2025-08-24T10:27:23.513775Z",
          "iopub.status.idle": "2025-08-24T10:27:23.527999Z",
          "shell.execute_reply.started": "2025-08-24T10:27:23.513750Z",
          "shell.execute_reply": "2025-08-24T10:27:23.527128Z"
        },
        "colab": {
          "base_uri": "https://localhost:8080/",
          "height": 225
        }
      },
      "outputs": [
        {
          "output_type": "stream",
          "name": "stdout",
          "text": [
            "Requested 5000 rows - but only 1787 available. Returning all rows, shuffled.\n"
          ]
        },
        {
          "output_type": "execute_result",
          "data": {
            "text/plain": [
              "                                                text                   status\n",
              "0                        Last few hour in England...         Not Suicide post\n",
              "1              Showcase Quick @ VIP room on Thursday         Not Suicide post\n",
              "2  @candyguy53,Tillsonburg, Ontario,@amvetsupport...  Potential Suicide post \n",
              "3                                   @Chels_V morning         Not Suicide post\n",
              "4          @elliottcable I prefer @poopdiary meself.         Not Suicide post"
            ],
            "text/html": [
              "\n",
              "  <div id=\"df-d87b4829-f320-437c-9937-386435773884\" class=\"colab-df-container\">\n",
              "    <div>\n",
              "<style scoped>\n",
              "    .dataframe tbody tr th:only-of-type {\n",
              "        vertical-align: middle;\n",
              "    }\n",
              "\n",
              "    .dataframe tbody tr th {\n",
              "        vertical-align: top;\n",
              "    }\n",
              "\n",
              "    .dataframe thead th {\n",
              "        text-align: right;\n",
              "    }\n",
              "</style>\n",
              "<table border=\"1\" class=\"dataframe\">\n",
              "  <thead>\n",
              "    <tr style=\"text-align: right;\">\n",
              "      <th></th>\n",
              "      <th>text</th>\n",
              "      <th>status</th>\n",
              "    </tr>\n",
              "  </thead>\n",
              "  <tbody>\n",
              "    <tr>\n",
              "      <th>0</th>\n",
              "      <td>Last few hour in England...</td>\n",
              "      <td>Not Suicide post</td>\n",
              "    </tr>\n",
              "    <tr>\n",
              "      <th>1</th>\n",
              "      <td>Showcase Quick @ VIP room on Thursday</td>\n",
              "      <td>Not Suicide post</td>\n",
              "    </tr>\n",
              "    <tr>\n",
              "      <th>2</th>\n",
              "      <td>@candyguy53,Tillsonburg, Ontario,@amvetsupport...</td>\n",
              "      <td>Potential Suicide post</td>\n",
              "    </tr>\n",
              "    <tr>\n",
              "      <th>3</th>\n",
              "      <td>@Chels_V morning</td>\n",
              "      <td>Not Suicide post</td>\n",
              "    </tr>\n",
              "    <tr>\n",
              "      <th>4</th>\n",
              "      <td>@elliottcable I prefer @poopdiary meself.</td>\n",
              "      <td>Not Suicide post</td>\n",
              "    </tr>\n",
              "  </tbody>\n",
              "</table>\n",
              "</div>\n",
              "    <div class=\"colab-df-buttons\">\n",
              "\n",
              "  <div class=\"colab-df-container\">\n",
              "    <button class=\"colab-df-convert\" onclick=\"convertToInteractive('df-d87b4829-f320-437c-9937-386435773884')\"\n",
              "            title=\"Convert this dataframe to an interactive table.\"\n",
              "            style=\"display:none;\">\n",
              "\n",
              "  <svg xmlns=\"http://www.w3.org/2000/svg\" height=\"24px\" viewBox=\"0 -960 960 960\">\n",
              "    <path d=\"M120-120v-720h720v720H120Zm60-500h600v-160H180v160Zm220 220h160v-160H400v160Zm0 220h160v-160H400v160ZM180-400h160v-160H180v160Zm440 0h160v-160H620v160ZM180-180h160v-160H180v160Zm440 0h160v-160H620v160Z\"/>\n",
              "  </svg>\n",
              "    </button>\n",
              "\n",
              "  <style>\n",
              "    .colab-df-container {\n",
              "      display:flex;\n",
              "      gap: 12px;\n",
              "    }\n",
              "\n",
              "    .colab-df-convert {\n",
              "      background-color: #E8F0FE;\n",
              "      border: none;\n",
              "      border-radius: 50%;\n",
              "      cursor: pointer;\n",
              "      display: none;\n",
              "      fill: #1967D2;\n",
              "      height: 32px;\n",
              "      padding: 0 0 0 0;\n",
              "      width: 32px;\n",
              "    }\n",
              "\n",
              "    .colab-df-convert:hover {\n",
              "      background-color: #E2EBFA;\n",
              "      box-shadow: 0px 1px 2px rgba(60, 64, 67, 0.3), 0px 1px 3px 1px rgba(60, 64, 67, 0.15);\n",
              "      fill: #174EA6;\n",
              "    }\n",
              "\n",
              "    .colab-df-buttons div {\n",
              "      margin-bottom: 4px;\n",
              "    }\n",
              "\n",
              "    [theme=dark] .colab-df-convert {\n",
              "      background-color: #3B4455;\n",
              "      fill: #D2E3FC;\n",
              "    }\n",
              "\n",
              "    [theme=dark] .colab-df-convert:hover {\n",
              "      background-color: #434B5C;\n",
              "      box-shadow: 0px 1px 3px 1px rgba(0, 0, 0, 0.15);\n",
              "      filter: drop-shadow(0px 1px 2px rgba(0, 0, 0, 0.3));\n",
              "      fill: #FFFFFF;\n",
              "    }\n",
              "  </style>\n",
              "\n",
              "    <script>\n",
              "      const buttonEl =\n",
              "        document.querySelector('#df-d87b4829-f320-437c-9937-386435773884 button.colab-df-convert');\n",
              "      buttonEl.style.display =\n",
              "        google.colab.kernel.accessAllowed ? 'block' : 'none';\n",
              "\n",
              "      async function convertToInteractive(key) {\n",
              "        const element = document.querySelector('#df-d87b4829-f320-437c-9937-386435773884');\n",
              "        const dataTable =\n",
              "          await google.colab.kernel.invokeFunction('convertToInteractive',\n",
              "                                                    [key], {});\n",
              "        if (!dataTable) return;\n",
              "\n",
              "        const docLinkHtml = 'Like what you see? Visit the ' +\n",
              "          '<a target=\"_blank\" href=https://colab.research.google.com/notebooks/data_table.ipynb>data table notebook</a>'\n",
              "          + ' to learn more about interactive tables.';\n",
              "        element.innerHTML = '';\n",
              "        dataTable['output_type'] = 'display_data';\n",
              "        await google.colab.output.renderOutput(dataTable, element);\n",
              "        const docLink = document.createElement('div');\n",
              "        docLink.innerHTML = docLinkHtml;\n",
              "        element.appendChild(docLink);\n",
              "      }\n",
              "    </script>\n",
              "  </div>\n",
              "\n",
              "\n",
              "    <div id=\"df-b421a917-fef9-4709-99b8-3bdc9a0c1f28\">\n",
              "      <button class=\"colab-df-quickchart\" onclick=\"quickchart('df-b421a917-fef9-4709-99b8-3bdc9a0c1f28')\"\n",
              "                title=\"Suggest charts\"\n",
              "                style=\"display:none;\">\n",
              "\n",
              "<svg xmlns=\"http://www.w3.org/2000/svg\" height=\"24px\"viewBox=\"0 0 24 24\"\n",
              "     width=\"24px\">\n",
              "    <g>\n",
              "        <path d=\"M19 3H5c-1.1 0-2 .9-2 2v14c0 1.1.9 2 2 2h14c1.1 0 2-.9 2-2V5c0-1.1-.9-2-2-2zM9 17H7v-7h2v7zm4 0h-2V7h2v10zm4 0h-2v-4h2v4z\"/>\n",
              "    </g>\n",
              "</svg>\n",
              "      </button>\n",
              "\n",
              "<style>\n",
              "  .colab-df-quickchart {\n",
              "      --bg-color: #E8F0FE;\n",
              "      --fill-color: #1967D2;\n",
              "      --hover-bg-color: #E2EBFA;\n",
              "      --hover-fill-color: #174EA6;\n",
              "      --disabled-fill-color: #AAA;\n",
              "      --disabled-bg-color: #DDD;\n",
              "  }\n",
              "\n",
              "  [theme=dark] .colab-df-quickchart {\n",
              "      --bg-color: #3B4455;\n",
              "      --fill-color: #D2E3FC;\n",
              "      --hover-bg-color: #434B5C;\n",
              "      --hover-fill-color: #FFFFFF;\n",
              "      --disabled-bg-color: #3B4455;\n",
              "      --disabled-fill-color: #666;\n",
              "  }\n",
              "\n",
              "  .colab-df-quickchart {\n",
              "    background-color: var(--bg-color);\n",
              "    border: none;\n",
              "    border-radius: 50%;\n",
              "    cursor: pointer;\n",
              "    display: none;\n",
              "    fill: var(--fill-color);\n",
              "    height: 32px;\n",
              "    padding: 0;\n",
              "    width: 32px;\n",
              "  }\n",
              "\n",
              "  .colab-df-quickchart:hover {\n",
              "    background-color: var(--hover-bg-color);\n",
              "    box-shadow: 0 1px 2px rgba(60, 64, 67, 0.3), 0 1px 3px 1px rgba(60, 64, 67, 0.15);\n",
              "    fill: var(--button-hover-fill-color);\n",
              "  }\n",
              "\n",
              "  .colab-df-quickchart-complete:disabled,\n",
              "  .colab-df-quickchart-complete:disabled:hover {\n",
              "    background-color: var(--disabled-bg-color);\n",
              "    fill: var(--disabled-fill-color);\n",
              "    box-shadow: none;\n",
              "  }\n",
              "\n",
              "  .colab-df-spinner {\n",
              "    border: 2px solid var(--fill-color);\n",
              "    border-color: transparent;\n",
              "    border-bottom-color: var(--fill-color);\n",
              "    animation:\n",
              "      spin 1s steps(1) infinite;\n",
              "  }\n",
              "\n",
              "  @keyframes spin {\n",
              "    0% {\n",
              "      border-color: transparent;\n",
              "      border-bottom-color: var(--fill-color);\n",
              "      border-left-color: var(--fill-color);\n",
              "    }\n",
              "    20% {\n",
              "      border-color: transparent;\n",
              "      border-left-color: var(--fill-color);\n",
              "      border-top-color: var(--fill-color);\n",
              "    }\n",
              "    30% {\n",
              "      border-color: transparent;\n",
              "      border-left-color: var(--fill-color);\n",
              "      border-top-color: var(--fill-color);\n",
              "      border-right-color: var(--fill-color);\n",
              "    }\n",
              "    40% {\n",
              "      border-color: transparent;\n",
              "      border-right-color: var(--fill-color);\n",
              "      border-top-color: var(--fill-color);\n",
              "    }\n",
              "    60% {\n",
              "      border-color: transparent;\n",
              "      border-right-color: var(--fill-color);\n",
              "    }\n",
              "    80% {\n",
              "      border-color: transparent;\n",
              "      border-right-color: var(--fill-color);\n",
              "      border-bottom-color: var(--fill-color);\n",
              "    }\n",
              "    90% {\n",
              "      border-color: transparent;\n",
              "      border-bottom-color: var(--fill-color);\n",
              "    }\n",
              "  }\n",
              "</style>\n",
              "\n",
              "      <script>\n",
              "        async function quickchart(key) {\n",
              "          const quickchartButtonEl =\n",
              "            document.querySelector('#' + key + ' button');\n",
              "          quickchartButtonEl.disabled = true;  // To prevent multiple clicks.\n",
              "          quickchartButtonEl.classList.add('colab-df-spinner');\n",
              "          try {\n",
              "            const charts = await google.colab.kernel.invokeFunction(\n",
              "                'suggestCharts', [key], {});\n",
              "          } catch (error) {\n",
              "            console.error('Error during call to suggestCharts:', error);\n",
              "          }\n",
              "          quickchartButtonEl.classList.remove('colab-df-spinner');\n",
              "          quickchartButtonEl.classList.add('colab-df-quickchart-complete');\n",
              "        }\n",
              "        (() => {\n",
              "          let quickchartButtonEl =\n",
              "            document.querySelector('#df-b421a917-fef9-4709-99b8-3bdc9a0c1f28 button');\n",
              "          quickchartButtonEl.style.display =\n",
              "            google.colab.kernel.accessAllowed ? 'block' : 'none';\n",
              "        })();\n",
              "      </script>\n",
              "    </div>\n",
              "\n",
              "    </div>\n",
              "  </div>\n"
            ],
            "application/vnd.google.colaboratory.intrinsic+json": {
              "type": "dataframe",
              "variable_name": "suicide_tweet_df",
              "summary": "{\n  \"name\": \"suicide_tweet_df\",\n  \"rows\": 1787,\n  \"fields\": [\n    {\n      \"column\": \"text\",\n      \"properties\": {\n        \"dtype\": \"string\",\n        \"num_unique_values\": 1777,\n        \"samples\": [\n          \"@danielhilton I know that's real. My bf fell asleep &amp; I'm editing video... XO\",\n          \"Asking everyone to send out happy 'head-first' vibes to @cosmicgirlie\",\n          \"i am going to kill myself tonight i am a lesbian grad student at a conservative big name school in america my life up until now has been shit i am lonely girls only want to use me for sex i dont feel loved by friends ive been struggling to find a dissertation lab i invented something for a professor in undergrad but now shes stealing it and giving me no credit i want to make sure i do it the right way so that i am gone i am just fucking tired of not feeling valued\"\n        ],\n        \"semantic_type\": \"\",\n        \"description\": \"\"\n      }\n    },\n    {\n      \"column\": \"status\",\n      \"properties\": {\n        \"dtype\": \"category\",\n        \"num_unique_values\": 2,\n        \"samples\": [\n          \"Potential Suicide post \",\n          \"Not Suicide post\"\n        ],\n        \"semantic_type\": \"\",\n        \"description\": \"\"\n      }\n    }\n  ]\n}"
            }
          },
          "metadata": {},
          "execution_count": 26
        }
      ],
      "execution_count": 26
    },
    {
      "cell_type": "markdown",
      "source": [
        "## Data Cleaning\n",
        "\n",
        "The function below is used for cleaning the Datasets"
      ],
      "metadata": {
        "id": "KWFTK3q-Y-Fe"
      }
    },
    {
      "cell_type": "code",
      "source": [
        "def clean_and_modify_texts(df, text_col='text', status_col='status'):\n",
        "    \"\"\"\n",
        "    Cleans text data and modifies status text formatting in the specified columns of a DataFrame.\n",
        "    Also drops rows where text_col or status_col is empty after processing.\n",
        "\n",
        "    Parameters:\n",
        "        df (pd.DataFrame): The input DataFrame.\n",
        "        text_col (str, optional): The column to clean by removing links, mentions, hashtags, and numbers.\n",
        "        status_col (str, optional): The column to modify by replacing spaces with underscores.\n",
        "\n",
        "    Returns:\n",
        "        pd.DataFrame: A DataFrame with cleaned text and modified status, with empty rows removed.\n",
        "    \"\"\"\n",
        "\n",
        "    # Check if DataFrame is None\n",
        "    if df is None:\n",
        "        print(\"Warning: DataFrame is None. Cleaning cannot be performed.\")\n",
        "        return None\n",
        "\n",
        "    df = df.copy()\n",
        "\n",
        "    # Clean text column if specified\n",
        "    if text_col and text_col in df.columns:\n",
        "        df[text_col] = df[text_col].fillna('').str.replace(\n",
        "            r'http\\S+|www\\S+|@\\S+|#\\S+|[^a-zA-Z0-9\\s]|RT\\s+|\\d+', '', regex=True\n",
        "        ).str.replace(r'\\s+', ' ', regex=True).str.strip().str.lower()\n",
        "    elif text_col:\n",
        "        print(f\"Warning: Column '{text_col}' does not exist in the DataFrame.\")\n",
        "\n",
        "    # Modify status column if specified\n",
        "    if status_col and status_col in df.columns:\n",
        "        df[status_col] = df[status_col].fillna('').str.lower().str.strip().replace(\n",
        "            r'\\s+', '_', regex=True\n",
        "        ).str.rstrip('_')  # Ensures no trailing underscores\n",
        "    elif status_col:\n",
        "        print(f\"Warning: Column '{status_col}' does not exist in the DataFrame.\")\n",
        "\n",
        "    # Drop rows where either column is empty after processing\n",
        "    if text_col and status_col:\n",
        "        df = df[(df[text_col] != '') & (df[status_col] != '')]\n",
        "    elif text_col:\n",
        "        df = df[df[text_col] != '']\n",
        "    elif status_col:\n",
        "        df = df[df[status_col] != '']\n",
        "\n",
        "    return df\n",
        "\n",
        "\n",
        "\n",
        "mini_suicide_df = random_select(suicide_tweet_df, 5000)\n",
        "mini_suicide_df = clean_and_modify_texts(mini_suicide_df)\n",
        "mini_suicide_df.head()"
      ],
      "metadata": {
        "id": "ykMiP8rXPnsq",
        "outputId": "6635b8a4-cec1-4e12-8e53-d0db106f74ff",
        "trusted": true,
        "execution": {
          "iopub.status.busy": "2025-08-24T10:27:23.529104Z",
          "iopub.execute_input": "2025-08-24T10:27:23.529478Z",
          "iopub.status.idle": "2025-08-24T10:27:23.596180Z",
          "shell.execute_reply.started": "2025-08-24T10:27:23.529442Z",
          "shell.execute_reply": "2025-08-24T10:27:23.595152Z"
        },
        "colab": {
          "base_uri": "https://localhost:8080/",
          "height": 225
        }
      },
      "outputs": [
        {
          "output_type": "stream",
          "name": "stdout",
          "text": [
            "Requested 5000 rows - but only 1787 available. Returning all rows, shuffled.\n"
          ]
        },
        {
          "output_type": "execute_result",
          "data": {
            "text/plain": [
              "                                                text                  status\n",
              "0  my whole family is so damn beautiful and im th...  potential_suicide_post\n",
              "1                  yea they just keep getting better        not_suicide_post\n",
              "2                  happy birthday eat something good        not_suicide_post\n",
              "3  ha ha i started something with the rocquestar ...        not_suicide_post\n",
              "4                                   bom dia twitters        not_suicide_post"
            ],
            "text/html": [
              "\n",
              "  <div id=\"df-cf075e9a-7e67-4318-9734-292d3855cca0\" class=\"colab-df-container\">\n",
              "    <div>\n",
              "<style scoped>\n",
              "    .dataframe tbody tr th:only-of-type {\n",
              "        vertical-align: middle;\n",
              "    }\n",
              "\n",
              "    .dataframe tbody tr th {\n",
              "        vertical-align: top;\n",
              "    }\n",
              "\n",
              "    .dataframe thead th {\n",
              "        text-align: right;\n",
              "    }\n",
              "</style>\n",
              "<table border=\"1\" class=\"dataframe\">\n",
              "  <thead>\n",
              "    <tr style=\"text-align: right;\">\n",
              "      <th></th>\n",
              "      <th>text</th>\n",
              "      <th>status</th>\n",
              "    </tr>\n",
              "  </thead>\n",
              "  <tbody>\n",
              "    <tr>\n",
              "      <th>0</th>\n",
              "      <td>my whole family is so damn beautiful and im th...</td>\n",
              "      <td>potential_suicide_post</td>\n",
              "    </tr>\n",
              "    <tr>\n",
              "      <th>1</th>\n",
              "      <td>yea they just keep getting better</td>\n",
              "      <td>not_suicide_post</td>\n",
              "    </tr>\n",
              "    <tr>\n",
              "      <th>2</th>\n",
              "      <td>happy birthday eat something good</td>\n",
              "      <td>not_suicide_post</td>\n",
              "    </tr>\n",
              "    <tr>\n",
              "      <th>3</th>\n",
              "      <td>ha ha i started something with the rocquestar ...</td>\n",
              "      <td>not_suicide_post</td>\n",
              "    </tr>\n",
              "    <tr>\n",
              "      <th>4</th>\n",
              "      <td>bom dia twitters</td>\n",
              "      <td>not_suicide_post</td>\n",
              "    </tr>\n",
              "  </tbody>\n",
              "</table>\n",
              "</div>\n",
              "    <div class=\"colab-df-buttons\">\n",
              "\n",
              "  <div class=\"colab-df-container\">\n",
              "    <button class=\"colab-df-convert\" onclick=\"convertToInteractive('df-cf075e9a-7e67-4318-9734-292d3855cca0')\"\n",
              "            title=\"Convert this dataframe to an interactive table.\"\n",
              "            style=\"display:none;\">\n",
              "\n",
              "  <svg xmlns=\"http://www.w3.org/2000/svg\" height=\"24px\" viewBox=\"0 -960 960 960\">\n",
              "    <path d=\"M120-120v-720h720v720H120Zm60-500h600v-160H180v160Zm220 220h160v-160H400v160Zm0 220h160v-160H400v160ZM180-400h160v-160H180v160Zm440 0h160v-160H620v160ZM180-180h160v-160H180v160Zm440 0h160v-160H620v160Z\"/>\n",
              "  </svg>\n",
              "    </button>\n",
              "\n",
              "  <style>\n",
              "    .colab-df-container {\n",
              "      display:flex;\n",
              "      gap: 12px;\n",
              "    }\n",
              "\n",
              "    .colab-df-convert {\n",
              "      background-color: #E8F0FE;\n",
              "      border: none;\n",
              "      border-radius: 50%;\n",
              "      cursor: pointer;\n",
              "      display: none;\n",
              "      fill: #1967D2;\n",
              "      height: 32px;\n",
              "      padding: 0 0 0 0;\n",
              "      width: 32px;\n",
              "    }\n",
              "\n",
              "    .colab-df-convert:hover {\n",
              "      background-color: #E2EBFA;\n",
              "      box-shadow: 0px 1px 2px rgba(60, 64, 67, 0.3), 0px 1px 3px 1px rgba(60, 64, 67, 0.15);\n",
              "      fill: #174EA6;\n",
              "    }\n",
              "\n",
              "    .colab-df-buttons div {\n",
              "      margin-bottom: 4px;\n",
              "    }\n",
              "\n",
              "    [theme=dark] .colab-df-convert {\n",
              "      background-color: #3B4455;\n",
              "      fill: #D2E3FC;\n",
              "    }\n",
              "\n",
              "    [theme=dark] .colab-df-convert:hover {\n",
              "      background-color: #434B5C;\n",
              "      box-shadow: 0px 1px 3px 1px rgba(0, 0, 0, 0.15);\n",
              "      filter: drop-shadow(0px 1px 2px rgba(0, 0, 0, 0.3));\n",
              "      fill: #FFFFFF;\n",
              "    }\n",
              "  </style>\n",
              "\n",
              "    <script>\n",
              "      const buttonEl =\n",
              "        document.querySelector('#df-cf075e9a-7e67-4318-9734-292d3855cca0 button.colab-df-convert');\n",
              "      buttonEl.style.display =\n",
              "        google.colab.kernel.accessAllowed ? 'block' : 'none';\n",
              "\n",
              "      async function convertToInteractive(key) {\n",
              "        const element = document.querySelector('#df-cf075e9a-7e67-4318-9734-292d3855cca0');\n",
              "        const dataTable =\n",
              "          await google.colab.kernel.invokeFunction('convertToInteractive',\n",
              "                                                    [key], {});\n",
              "        if (!dataTable) return;\n",
              "\n",
              "        const docLinkHtml = 'Like what you see? Visit the ' +\n",
              "          '<a target=\"_blank\" href=https://colab.research.google.com/notebooks/data_table.ipynb>data table notebook</a>'\n",
              "          + ' to learn more about interactive tables.';\n",
              "        element.innerHTML = '';\n",
              "        dataTable['output_type'] = 'display_data';\n",
              "        await google.colab.output.renderOutput(dataTable, element);\n",
              "        const docLink = document.createElement('div');\n",
              "        docLink.innerHTML = docLinkHtml;\n",
              "        element.appendChild(docLink);\n",
              "      }\n",
              "    </script>\n",
              "  </div>\n",
              "\n",
              "\n",
              "    <div id=\"df-e146d56f-3831-4b2e-ba12-ef9d6a5ffac6\">\n",
              "      <button class=\"colab-df-quickchart\" onclick=\"quickchart('df-e146d56f-3831-4b2e-ba12-ef9d6a5ffac6')\"\n",
              "                title=\"Suggest charts\"\n",
              "                style=\"display:none;\">\n",
              "\n",
              "<svg xmlns=\"http://www.w3.org/2000/svg\" height=\"24px\"viewBox=\"0 0 24 24\"\n",
              "     width=\"24px\">\n",
              "    <g>\n",
              "        <path d=\"M19 3H5c-1.1 0-2 .9-2 2v14c0 1.1.9 2 2 2h14c1.1 0 2-.9 2-2V5c0-1.1-.9-2-2-2zM9 17H7v-7h2v7zm4 0h-2V7h2v10zm4 0h-2v-4h2v4z\"/>\n",
              "    </g>\n",
              "</svg>\n",
              "      </button>\n",
              "\n",
              "<style>\n",
              "  .colab-df-quickchart {\n",
              "      --bg-color: #E8F0FE;\n",
              "      --fill-color: #1967D2;\n",
              "      --hover-bg-color: #E2EBFA;\n",
              "      --hover-fill-color: #174EA6;\n",
              "      --disabled-fill-color: #AAA;\n",
              "      --disabled-bg-color: #DDD;\n",
              "  }\n",
              "\n",
              "  [theme=dark] .colab-df-quickchart {\n",
              "      --bg-color: #3B4455;\n",
              "      --fill-color: #D2E3FC;\n",
              "      --hover-bg-color: #434B5C;\n",
              "      --hover-fill-color: #FFFFFF;\n",
              "      --disabled-bg-color: #3B4455;\n",
              "      --disabled-fill-color: #666;\n",
              "  }\n",
              "\n",
              "  .colab-df-quickchart {\n",
              "    background-color: var(--bg-color);\n",
              "    border: none;\n",
              "    border-radius: 50%;\n",
              "    cursor: pointer;\n",
              "    display: none;\n",
              "    fill: var(--fill-color);\n",
              "    height: 32px;\n",
              "    padding: 0;\n",
              "    width: 32px;\n",
              "  }\n",
              "\n",
              "  .colab-df-quickchart:hover {\n",
              "    background-color: var(--hover-bg-color);\n",
              "    box-shadow: 0 1px 2px rgba(60, 64, 67, 0.3), 0 1px 3px 1px rgba(60, 64, 67, 0.15);\n",
              "    fill: var(--button-hover-fill-color);\n",
              "  }\n",
              "\n",
              "  .colab-df-quickchart-complete:disabled,\n",
              "  .colab-df-quickchart-complete:disabled:hover {\n",
              "    background-color: var(--disabled-bg-color);\n",
              "    fill: var(--disabled-fill-color);\n",
              "    box-shadow: none;\n",
              "  }\n",
              "\n",
              "  .colab-df-spinner {\n",
              "    border: 2px solid var(--fill-color);\n",
              "    border-color: transparent;\n",
              "    border-bottom-color: var(--fill-color);\n",
              "    animation:\n",
              "      spin 1s steps(1) infinite;\n",
              "  }\n",
              "\n",
              "  @keyframes spin {\n",
              "    0% {\n",
              "      border-color: transparent;\n",
              "      border-bottom-color: var(--fill-color);\n",
              "      border-left-color: var(--fill-color);\n",
              "    }\n",
              "    20% {\n",
              "      border-color: transparent;\n",
              "      border-left-color: var(--fill-color);\n",
              "      border-top-color: var(--fill-color);\n",
              "    }\n",
              "    30% {\n",
              "      border-color: transparent;\n",
              "      border-left-color: var(--fill-color);\n",
              "      border-top-color: var(--fill-color);\n",
              "      border-right-color: var(--fill-color);\n",
              "    }\n",
              "    40% {\n",
              "      border-color: transparent;\n",
              "      border-right-color: var(--fill-color);\n",
              "      border-top-color: var(--fill-color);\n",
              "    }\n",
              "    60% {\n",
              "      border-color: transparent;\n",
              "      border-right-color: var(--fill-color);\n",
              "    }\n",
              "    80% {\n",
              "      border-color: transparent;\n",
              "      border-right-color: var(--fill-color);\n",
              "      border-bottom-color: var(--fill-color);\n",
              "    }\n",
              "    90% {\n",
              "      border-color: transparent;\n",
              "      border-bottom-color: var(--fill-color);\n",
              "    }\n",
              "  }\n",
              "</style>\n",
              "\n",
              "      <script>\n",
              "        async function quickchart(key) {\n",
              "          const quickchartButtonEl =\n",
              "            document.querySelector('#' + key + ' button');\n",
              "          quickchartButtonEl.disabled = true;  // To prevent multiple clicks.\n",
              "          quickchartButtonEl.classList.add('colab-df-spinner');\n",
              "          try {\n",
              "            const charts = await google.colab.kernel.invokeFunction(\n",
              "                'suggestCharts', [key], {});\n",
              "          } catch (error) {\n",
              "            console.error('Error during call to suggestCharts:', error);\n",
              "          }\n",
              "          quickchartButtonEl.classList.remove('colab-df-spinner');\n",
              "          quickchartButtonEl.classList.add('colab-df-quickchart-complete');\n",
              "        }\n",
              "        (() => {\n",
              "          let quickchartButtonEl =\n",
              "            document.querySelector('#df-e146d56f-3831-4b2e-ba12-ef9d6a5ffac6 button');\n",
              "          quickchartButtonEl.style.display =\n",
              "            google.colab.kernel.accessAllowed ? 'block' : 'none';\n",
              "        })();\n",
              "      </script>\n",
              "    </div>\n",
              "\n",
              "    </div>\n",
              "  </div>\n"
            ],
            "application/vnd.google.colaboratory.intrinsic+json": {
              "type": "dataframe",
              "variable_name": "mini_suicide_df",
              "summary": "{\n  \"name\": \"mini_suicide_df\",\n  \"rows\": 1779,\n  \"fields\": [\n    {\n      \"column\": \"text\",\n      \"properties\": {\n        \"dtype\": \"string\",\n        \"num_unique_values\": 1739,\n        \"samples\": [\n          \"tweet dreams\",\n          \"its not nerd lisa its retard remember special olympics i dont speak austrian that guy is breathtaking\",\n          \"i hate myself more than anything in the world\"\n        ],\n        \"semantic_type\": \"\",\n        \"description\": \"\"\n      }\n    },\n    {\n      \"column\": \"status\",\n      \"properties\": {\n        \"dtype\": \"category\",\n        \"num_unique_values\": 2,\n        \"samples\": [\n          \"not_suicide_post\",\n          \"potential_suicide_post\"\n        ],\n        \"semantic_type\": \"\",\n        \"description\": \"\"\n      }\n    }\n  ]\n}"
            }
          },
          "metadata": {},
          "execution_count": 27
        }
      ],
      "execution_count": 27
    },
    {
      "cell_type": "markdown",
      "source": [
        "## Divide and Save\n",
        "The funtion below is written to break down the datasets with multiple categories and save them to separate csv files"
      ],
      "metadata": {
        "id": "KtyNBiZ9Y-Fe"
      }
    },
    {
      "cell_type": "code",
      "source": [
        "def divide_and_save(df, parent_name=\"df\", status_col='status', output_dir=\"./\"):\n",
        "    \"\"\"\n",
        "    Divides a DataFrame into multiple DataFrames based on unique values in a specified column,\n",
        "    saves them as CSV files, and prints out the saved file names.\n",
        "\n",
        "    Parameters:\n",
        "        df (pd.DataFrame): The input DataFrame.\n",
        "        parent_name (str): Name of the original DataFrame (used for naming new DataFrames).\n",
        "        status_col (str): The column to divide the DataFrame by (default is 'status').\n",
        "        output_dir (str): Directory where CSV files will be saved (default is current directory).\n",
        "\n",
        "    Returns:\n",
        "        dict: A dictionary where keys are dynamically generated DataFrame names,\n",
        "              and values are corresponding DataFrames.\n",
        "    \"\"\"\n",
        "\n",
        "    # Check if DataFrame is None\n",
        "    if df is None:\n",
        "        print(\"Warning: DataFrame is None. Cannot divide.\")\n",
        "        return None\n",
        "\n",
        "    # Check if status_col exists\n",
        "    if status_col not in df.columns:\n",
        "        print(f\"Warning: Column '{status_col}' does not exist in the DataFrame.\")\n",
        "        return None\n",
        "\n",
        "    # Dictionary to store split DataFrames with dynamically generated names\n",
        "    status_groups = {}\n",
        "\n",
        "    # Iterate through unique values and create separate DataFrames with dynamic names\n",
        "    for status_value in df[status_col].dropna().unique():\n",
        "        clean_status = str(status_value).replace(\" \", \"_\").lower()  # Clean status name\n",
        "        new_df_name = f\"{parent_name}_{clean_status}\"  # Example: df_urgent, df_normal\n",
        "\n",
        "        # Create DataFrame for this category\n",
        "        status_groups[new_df_name] = df[df[status_col] == status_value].reset_index(drop=True)\n",
        "\n",
        "        # Define file path and save as CSV\n",
        "        file_path = f\"{output_dir}{new_df_name}.csv\"\n",
        "        status_groups[new_df_name].to_csv(file_path, index=False)\n",
        "\n",
        "        # Print confirmation\n",
        "        print(f\"Saved: {file_path}\")\n",
        "\n",
        "    return status_groups\n",
        "\n",
        "\n",
        "multi_mental_dfs = divide_and_save(multi_mental_df, parent_name=\"mental\", status_col='status')\n"
      ],
      "metadata": {
        "id": "qf_LbTHWWuij",
        "outputId": "0425122c-c39a-4b29-e4f3-7367fe02e85a",
        "trusted": true,
        "execution": {
          "iopub.status.busy": "2025-08-24T10:27:23.602001Z",
          "iopub.execute_input": "2025-08-24T10:27:23.602321Z",
          "iopub.status.idle": "2025-08-24T10:27:24.416807Z",
          "shell.execute_reply.started": "2025-08-24T10:27:23.602293Z",
          "shell.execute_reply": "2025-08-24T10:27:24.415860Z"
        },
        "colab": {
          "base_uri": "https://localhost:8080/"
        }
      },
      "outputs": [
        {
          "output_type": "stream",
          "name": "stdout",
          "text": [
            "Saved: ./mental_anxiety.csv\n",
            "Saved: ./mental_normal.csv\n",
            "Saved: ./mental_depression.csv\n",
            "Saved: ./mental_suicidal.csv\n",
            "Saved: ./mental_stress.csv\n",
            "Saved: ./mental_bipolar.csv\n",
            "Saved: ./mental_personality_disorder.csv\n"
          ]
        }
      ],
      "execution_count": 28
    },
    {
      "cell_type": "markdown",
      "source": [
        "## Creating Dataframes from the broken Datasets"
      ],
      "metadata": {
        "id": "AKfKWfPMY-Ff"
      }
    },
    {
      "cell_type": "code",
      "source": [
        "from os import rename\n",
        "# from os import rename\n",
        "dep_df2 = pd.read_csv(\"./mental_depression.csv\")\n",
        "dep_df2.rename(columns = {'statement': 'text'}, inplace = True)\n",
        "# print(dep_df2.head(4))\n",
        "print(\"========================================================\")\n",
        "print(f\"Shape of dep_df2: {dep_df2.shape}\")\n",
        "\n",
        "normal_df = pd.read_csv(\"./mental_normal.csv\")\n",
        "normal_df.rename(columns = {'statement': 'text'}, inplace = True)\n",
        "# print(normal_df.head(4))\n",
        "print(\"========================================================\")\n",
        "print(f\"Shape of normal_df: {normal_df.shape}\")\n",
        "\n",
        "anxiety_df = pd.read_csv(\"./mental_anxiety.csv\")\n",
        "anxiety_df.rename(columns = {'statement': 'text'}, inplace = True)\n",
        "# print(anxiety_df.head(4))\n",
        "print(\"========================================================\")\n",
        "print(f\"Shape of anxiety_df: {anxiety_df.shape}\")\n",
        "\n",
        "suicide_df3 = pd.read_csv(\"./mental_suicidal.csv\")\n",
        "suicide_df3.rename(columns = {'statement': 'text'}, inplace = True)\n",
        "# print(suicide_df3.head(4))\n",
        "print(\"========================================================\")\n",
        "print(f\"Shape of suicide_df3: {suicide_df3.shape}\")\n",
        "\n",
        "\n",
        "stress_df = pd.read_csv(\"./mental_stress.csv\")\n",
        "stress_df.rename(columns = {'statement': 'text'}, inplace = True)\n",
        "# print(stress_df.head(4))\n",
        "print(\"========================================================\")\n",
        "print(f\"Shape of stress_df: {stress_df.shape}\")\n",
        "\n",
        "bipolar_df = pd.read_csv(\"./mental_bipolar.csv\")\n",
        "bipolar_df.rename(columns = {'statement': 'text'}, inplace = True)\n",
        "# print(bipolar_df.head(4))\n",
        "print(\"========================================================\")\n",
        "print(f\"Shape of bipolar_df: {bipolar_df.shape}\")\n",
        "\n",
        "personality_disorder_df = pd.read_csv(\"./mental_personality_disorder.csv\")\n",
        "personality_disorder_df.rename(columns = {'statement': 'text'}, inplace = True)\n",
        "# print(personality_disorder_df.head(4))\n",
        "print(\"========================================================\")\n",
        "print(f\"Shape of personality_disorder_df: {personality_disorder_df.shape}\")"
      ],
      "metadata": {
        "id": "omzU4ukEXV3u",
        "outputId": "0118a7d2-2e80-41af-b856-bf1cb7a1c8da",
        "trusted": true,
        "execution": {
          "iopub.status.busy": "2025-08-24T10:27:24.419142Z",
          "iopub.execute_input": "2025-08-24T10:27:24.419439Z",
          "iopub.status.idle": "2025-08-24T10:27:24.818462Z",
          "shell.execute_reply.started": "2025-08-24T10:27:24.419415Z",
          "shell.execute_reply": "2025-08-24T10:27:24.817600Z"
        },
        "colab": {
          "base_uri": "https://localhost:8080/"
        }
      },
      "outputs": [
        {
          "output_type": "stream",
          "name": "stdout",
          "text": [
            "========================================================\n",
            "Shape of dep_df2: (15404, 2)\n",
            "========================================================\n",
            "Shape of normal_df: (16351, 2)\n",
            "========================================================\n",
            "Shape of anxiety_df: (3888, 2)\n",
            "========================================================\n",
            "Shape of suicide_df3: (10653, 2)\n",
            "========================================================\n",
            "Shape of stress_df: (2669, 2)\n",
            "========================================================\n",
            "Shape of bipolar_df: (2877, 2)\n",
            "========================================================\n",
            "Shape of personality_disorder_df: (1201, 2)\n"
          ]
        }
      ],
      "execution_count": 29
    },
    {
      "cell_type": "code",
      "source": [
        "# Breaking down Twitter Suicide Datasets\n",
        "suicide_tweets_dfs = divide_and_save(suicide_tweet_df, parent_name=\"suicide\", status_col='status')\n"
      ],
      "metadata": {
        "id": "BFk2J430gmHg",
        "outputId": "6722fbaa-714a-4015-ad2d-b0daed9c28e5",
        "trusted": true,
        "execution": {
          "iopub.status.busy": "2025-08-24T10:27:24.819400Z",
          "iopub.execute_input": "2025-08-24T10:27:24.819794Z",
          "iopub.status.idle": "2025-08-24T10:27:24.838532Z",
          "shell.execute_reply.started": "2025-08-24T10:27:24.819760Z",
          "shell.execute_reply": "2025-08-24T10:27:24.837470Z"
        },
        "colab": {
          "base_uri": "https://localhost:8080/"
        }
      },
      "outputs": [
        {
          "output_type": "stream",
          "name": "stdout",
          "text": [
            "Saved: ./suicide_not_suicide_post.csv\n",
            "Saved: ./suicide_potential_suicide_post_.csv\n"
          ]
        }
      ],
      "execution_count": 30
    },
    {
      "cell_type": "code",
      "source": [
        "suicide_df2 = pd.read_csv(\"./suicide_potential_suicide_post_.csv\")\n",
        "suicide_df2.rename(columns = {'text': 'text'}, inplace = True)\n",
        "suicide_df2['status'] = 'suicide'\n",
        "# print(suicide_df2.head(4))\n",
        "print(\"========================================================\")\n",
        "print(f\"Shape of suicide_df2: {suicide_df2.shape}\")\n",
        "\n",
        "not_suicide_df2 = pd.read_csv(\"./suicide_not_suicide_post.csv\")\n",
        "not_suicide_df2.rename(columns = {'text': 'text'}, inplace = True)\n",
        "not_suicide_df2['status'] = 'non_suicide'\n",
        "# print(not_suicide_df2.head(4))\n",
        "print(\"========================================================\")\n",
        "print(f\"Shape of not_suicide_df2: {not_suicide_df2.shape}\")"
      ],
      "metadata": {
        "id": "rhBZodtbgv3Q",
        "outputId": "df82063d-c635-4dfb-a5c7-d35512004294",
        "trusted": true,
        "execution": {
          "iopub.status.busy": "2025-08-24T10:27:24.839440Z",
          "iopub.execute_input": "2025-08-24T10:27:24.839754Z",
          "iopub.status.idle": "2025-08-24T10:27:24.857507Z",
          "shell.execute_reply.started": "2025-08-24T10:27:24.839728Z",
          "shell.execute_reply": "2025-08-24T10:27:24.856403Z"
        },
        "colab": {
          "base_uri": "https://localhost:8080/"
        }
      },
      "outputs": [
        {
          "output_type": "stream",
          "name": "stdout",
          "text": [
            "========================================================\n",
            "Shape of suicide_df2: (660, 2)\n",
            "========================================================\n",
            "Shape of not_suicide_df2: (1127, 2)\n"
          ]
        }
      ],
      "execution_count": 31
    },
    {
      "cell_type": "code",
      "source": [
        "cyber_dfs = divide_and_save(cyber_df)"
      ],
      "metadata": {
        "id": "ol1kWdsCiHps",
        "outputId": "80edd554-8ced-4b56-ac6d-d71dd3a48409",
        "trusted": true,
        "execution": {
          "iopub.status.busy": "2025-08-24T10:27:24.858380Z",
          "iopub.execute_input": "2025-08-24T10:27:24.858730Z",
          "iopub.status.idle": "2025-08-24T10:27:25.131152Z",
          "shell.execute_reply.started": "2025-08-24T10:27:24.858698Z",
          "shell.execute_reply": "2025-08-24T10:27:25.130206Z"
        },
        "colab": {
          "base_uri": "https://localhost:8080/"
        }
      },
      "outputs": [
        {
          "output_type": "stream",
          "name": "stdout",
          "text": [
            "Saved: ./df_not_cyberbullying.csv\n",
            "Saved: ./df_gender.csv\n",
            "Saved: ./df_religion.csv\n",
            "Saved: ./df_other_cyberbullying.csv\n",
            "Saved: ./df_age.csv\n",
            "Saved: ./df_ethnicity.csv\n"
          ]
        }
      ],
      "execution_count": 32
    },
    {
      "cell_type": "code",
      "source": [
        "not_cyberbullying_df = pd.read_csv(\"./df_not_cyberbullying.csv\")\n",
        "not_cyberbullying_df['status'] = 'not_cb'\n",
        "# print(not_cyberbullying_df.head(4))\n",
        "print(\"========================================================\")\n",
        "print(f\"Shape of not_cyberbullying_df: {not_cyberbullying_df.shape}\")\n",
        "\n",
        "cyber_gender_df = pd.read_csv(\"./df_gender.csv\")\n",
        "cyber_gender_df['status'] = 'gender_cb'\n",
        "# print(cyber_gender_df.head(4))\n",
        "print(\"========================================================\")\n",
        "print(f\"Shape of cyber_gender_df: {cyber_gender_df.shape}\")\n",
        "\n",
        "cyber_religion_df = pd.read_csv(\"./df_religion.csv\")\n",
        "cyber_religion_df['status'] = 'religion_cb'\n",
        "# print(cyber_religion_df.head(4))\n",
        "print(\"========================================================\")\n",
        "print(f\"Shape of cyber_religion_df: {cyber_religion_df.shape}\")\n",
        "\n",
        "cyber_ethnicity_df = pd.read_csv(\"./df_ethnicity.csv\")\n",
        "cyber_ethnicity_df['status'] = 'ethnicity_cb'\n",
        "# print(cyber_ethnicity_df.head(4))\n",
        "print(\"========================================================\")\n",
        "print(f\"Shape of cyber_ethnicity_df: {cyber_ethnicity_df.shape}\")\n",
        "\n",
        "cyber_age_df = pd.read_csv(\"./df_age.csv\")\n",
        "cyber_age_df['status'] = 'age_cb'\n",
        "# print(cyber_age_df.head(4))\n",
        "print(\"========================================================\")\n",
        "print(f\"Shape of cyber_age_df: {cyber_age_df.shape}\")\n",
        "\n",
        "cyber_other_cyberbullying_df = pd.read_csv(\"./df_other_cyberbullying.csv\")\n",
        "cyber_other_cyberbullying_df['status'] = 'other_cb'\n",
        "# print(cyber_other_cyberbullying_df.head(4))\n",
        "print(\"========================================================\")\n",
        "print(f\"Shape of cyber_other_cyberbullying_df: {cyber_other_cyberbullying_df.shape}\")"
      ],
      "metadata": {
        "id": "MZ1aeKByiREQ",
        "outputId": "e0bdbb04-af02-48a7-e642-0f341abe4b0c",
        "trusted": true,
        "execution": {
          "iopub.status.busy": "2025-08-24T10:27:25.132115Z",
          "iopub.execute_input": "2025-08-24T10:27:25.132404Z",
          "iopub.status.idle": "2025-08-24T10:27:25.280826Z",
          "shell.execute_reply.started": "2025-08-24T10:27:25.132379Z",
          "shell.execute_reply": "2025-08-24T10:27:25.279839Z"
        },
        "colab": {
          "base_uri": "https://localhost:8080/"
        }
      },
      "outputs": [
        {
          "output_type": "stream",
          "name": "stdout",
          "text": [
            "========================================================\n",
            "Shape of not_cyberbullying_df: (7945, 2)\n",
            "========================================================\n",
            "Shape of cyber_gender_df: (7973, 2)\n",
            "========================================================\n",
            "Shape of cyber_religion_df: (7998, 2)\n",
            "========================================================\n",
            "Shape of cyber_ethnicity_df: (7961, 2)\n",
            "========================================================\n",
            "Shape of cyber_age_df: (7992, 2)\n",
            "========================================================\n",
            "Shape of cyber_other_cyberbullying_df: (7823, 2)\n"
          ]
        }
      ],
      "execution_count": 33
    },
    {
      "cell_type": "code",
      "source": [
        "dep_df1 = clean_dep_df_use\n",
        "non_dep_df1 = clean_non_dep_df_use"
      ],
      "metadata": {
        "id": "xZSNzCuCl9ds",
        "trusted": true,
        "execution": {
          "iopub.status.busy": "2025-08-24T10:27:25.281655Z",
          "iopub.execute_input": "2025-08-24T10:27:25.281899Z",
          "iopub.status.idle": "2025-08-24T10:27:25.286093Z",
          "shell.execute_reply.started": "2025-08-24T10:27:25.281879Z",
          "shell.execute_reply": "2025-08-24T10:27:25.285030Z"
        }
      },
      "outputs": [],
      "execution_count": 34
    },
    {
      "cell_type": "code",
      "source": [
        "suicide_df = pd.read_csv(\"./suicide-watch/Suicide_Detection.csv\")\n",
        "suicide_df = suicide_df.drop(columns = ['Unnamed: 0'])\n",
        "suicide_df.rename(columns = {'class': 'status'}, inplace = True)\n",
        "# print(suicide_df.head(4))\n",
        "print(\"========================================================\")\n",
        "print(f\"Shape of suicide_df: {suicide_df.shape}\")\n",
        "print(suicide_df['status'].unique())"
      ],
      "metadata": {
        "id": "K2glfHy0nLBv",
        "outputId": "aff4c12e-587a-44b6-d9b5-64f4249c4c2a",
        "trusted": true,
        "execution": {
          "iopub.status.busy": "2025-08-24T10:27:25.287002Z",
          "iopub.execute_input": "2025-08-24T10:27:25.287312Z",
          "iopub.status.idle": "2025-08-24T10:27:27.857579Z",
          "shell.execute_reply.started": "2025-08-24T10:27:25.287276Z",
          "shell.execute_reply": "2025-08-24T10:27:27.856395Z"
        },
        "colab": {
          "base_uri": "https://localhost:8080/"
        }
      },
      "outputs": [
        {
          "output_type": "stream",
          "name": "stdout",
          "text": [
            "========================================================\n",
            "Shape of suicide_df: (232074, 2)\n",
            "['suicide' 'non-suicide']\n"
          ]
        }
      ],
      "execution_count": 35
    },
    {
      "cell_type": "code",
      "source": [
        "suicide1_dfs = divide_and_save(suicide_df, parent_name=\"suicide\", status_col='status')"
      ],
      "metadata": {
        "id": "E1ZidnJbmNMI",
        "outputId": "525b897a-8009-48fa-b1ed-b1663498e969",
        "trusted": true,
        "execution": {
          "iopub.status.busy": "2025-08-24T10:27:27.858677Z",
          "iopub.execute_input": "2025-08-24T10:27:27.859079Z",
          "iopub.status.idle": "2025-08-24T10:27:31.902889Z",
          "shell.execute_reply.started": "2025-08-24T10:27:27.859040Z",
          "shell.execute_reply": "2025-08-24T10:27:31.901799Z"
        },
        "colab": {
          "base_uri": "https://localhost:8080/"
        }
      },
      "outputs": [
        {
          "output_type": "stream",
          "name": "stdout",
          "text": [
            "Saved: ./suicide_suicide.csv\n",
            "Saved: ./suicide_non-suicide.csv\n"
          ]
        }
      ],
      "execution_count": 36
    },
    {
      "cell_type": "code",
      "source": [
        "suicide_df1 = pd.read_csv(\"./suicide_suicide.csv\")\n",
        "suicide_df1.rename(columns = {'text': 'text'}, inplace = True)\n",
        "suicide_df1['status'] = 'suicide'\n",
        "# print(suicide_df1.head(4))\n",
        "print(\"========================================================\")\n",
        "print(f\"Shape of suicide_df1: {suicide_df1.shape}\")\n",
        "\n",
        "\n",
        "not_suicide_df1 = pd.read_csv(\"./suicide_non-suicide.csv\")\n",
        "not_suicide_df1.rename(columns = {'text': 'text'}, inplace = True)\n",
        "not_suicide_df1['status'] = 'non_suicide'\n",
        "# print(not_suicide_df1.head(4))\n",
        "print(\"========================================================\")\n",
        "print(f\"Shape of non_suicide_df1: {not_suicide_df1.shape}\")"
      ],
      "metadata": {
        "id": "qvSB86BkmY0r",
        "outputId": "1e3bd19f-9312-46bb-e2a3-11edb37db232",
        "trusted": true,
        "execution": {
          "iopub.status.busy": "2025-08-24T10:27:31.904088Z",
          "iopub.execute_input": "2025-08-24T10:27:31.904476Z",
          "iopub.status.idle": "2025-08-24T10:27:34.369725Z",
          "shell.execute_reply.started": "2025-08-24T10:27:31.904440Z",
          "shell.execute_reply": "2025-08-24T10:27:34.368735Z"
        },
        "colab": {
          "base_uri": "https://localhost:8080/"
        }
      },
      "outputs": [
        {
          "output_type": "stream",
          "name": "stdout",
          "text": [
            "========================================================\n",
            "Shape of suicide_df1: (116037, 2)\n",
            "========================================================\n",
            "Shape of non_suicide_df1: (116037, 2)\n"
          ]
        }
      ],
      "execution_count": 37
    },
    {
      "cell_type": "markdown",
      "source": [
        "### **Dataset Selection:** Identifying and selecting datasets to combine for this project"
      ],
      "metadata": {
        "id": "zOjXbu1AY-Ff"
      }
    },
    {
      "cell_type": "code",
      "source": [
        "# This is all the datasets (19) that was loaded and examined above\n",
        "all_datasets = [dep_df1, non_dep_df1, dep_df2, normal_df, anxiety_df, stress_df, bipolar_df, personality_disorder_df, suicide_df1, not_suicide_df1, suicide_df2, not_suicide_df2, suicide_df3, not_cyberbullying_df, cyber_gender_df, cyber_religion_df, cyber_ethnicity_df, cyber_age_df, cyber_other_cyberbullying_df]\n",
        "\n",
        "list_of_datasets = [\n",
        "    \"dep_df1\", \"non_dep_df1\", \"dep_df2\", \"normal_df\", \"anxiety_df\", \"stress_df\",\n",
        "    \"bipolar_df\", \"personality_disorder_df\", \"suicide_df1\", \"not_suicide_df1\",\n",
        "    \"suicide_df2\", \"not_suicide_df2\", \"suicide_df3\", \"not_cyberbullying_df\",\n",
        "    \"cyber_gender_df\", \"cyber_religion_df\", \"cyber_ethnicity_df\",\n",
        "    \"cyber_age_df\", \"cyber_other_cyberbullying_df\"\n",
        "]\n",
        "\n",
        "# Reduced number of Datasets (13)\n",
        "filtered_datasets_names = [\n",
        "    \"dep_df1\", \"non_dep_df1\", \"anxiety_df\", \"stress_df\",\n",
        "    \"bipolar_df\", \"personality_disorder_df\", \"suicide_df1\", \"not_suicide_df1\",\n",
        "    \"cyber_gender_df\", \"cyber_religion_df\", \"cyber_ethnicity_df\",\n",
        "    \"cyber_age_df\", \"cyber_other_cyberbullying_df\"\n",
        "]\n",
        "\n",
        "filtered_datasets = [\n",
        "    dep_df1, non_dep_df1, anxiety_df, stress_df,\n",
        "    bipolar_df, personality_disorder_df, suicide_df1, not_suicide_df1,\n",
        "    cyber_gender_df, cyber_religion_df, cyber_ethnicity_df,\n",
        "    cyber_age_df, cyber_other_cyberbullying_df\n",
        "]\n",
        "\n",
        "# More reduced Datasets (10)\n",
        "ten_datasets = [anxiety_df, stress_df, bipolar_df, personality_disorder_df, suicide_df1, not_suicide_df1, cyber_gender_df, cyber_religion_df, cyber_ethnicity_df, cyber_age_df]\n",
        "\n",
        "list_of_ten_datasets = [\n",
        "    \"anxiety_df\", \"stress_df\",\n",
        "    \"bipolar_df\", \"personality_disorder_df\", \"suicide_df1\", \"not_suicide_df1\",\n",
        "    \"cyber_gender_df\", \"cyber_religion_df\", \"cyber_ethnicity_df\",\n",
        "    \"cyber_age_df\"\n",
        "]\n",
        "\n",
        "\n",
        "# print(list_of_datasets)\n",
        "\n",
        "\n",
        "\n",
        "# Print the filtered dataset names to verify\n",
        "print(list_of_ten_datasets)\n",
        "# print(filtered_datasets)\n"
      ],
      "metadata": {
        "id": "2DuO5CloTBtx",
        "outputId": "389933fd-aaf6-4394-f763-fb0afd3de5a9",
        "trusted": true,
        "execution": {
          "iopub.status.busy": "2025-08-24T10:27:34.376127Z",
          "iopub.execute_input": "2025-08-24T10:27:34.376489Z",
          "iopub.status.idle": "2025-08-24T10:27:34.399177Z",
          "shell.execute_reply.started": "2025-08-24T10:27:34.376455Z",
          "shell.execute_reply": "2025-08-24T10:27:34.398199Z"
        },
        "colab": {
          "base_uri": "https://localhost:8080/"
        }
      },
      "outputs": [
        {
          "output_type": "stream",
          "name": "stdout",
          "text": [
            "['anxiety_df', 'stress_df', 'bipolar_df', 'personality_disorder_df', 'suicide_df1', 'not_suicide_df1', 'cyber_gender_df', 'cyber_religion_df', 'cyber_ethnicity_df', 'cyber_age_df']\n"
          ]
        }
      ],
      "execution_count": 38
    },
    {
      "cell_type": "markdown",
      "source": [
        "### Cleaning all the data using the previously defined function"
      ],
      "metadata": {
        "id": "-SalwtQSqAKd"
      }
    },
    {
      "cell_type": "code",
      "source": [
        "import time\n",
        "num_datasets = len(ten_datasets)\n",
        "# print(f\"Number of datasets: {num_datasets}\")\n",
        "start_time = time.time()\n",
        "for dataset in ten_datasets:\n",
        "    dataset = clean_and_modify_texts(dataset)\n",
        "\n",
        "stop_time = time.time()\n",
        "execution_time = stop_time - start_time\n",
        "print(f\"Time taken to clean all the {num_datasets} datasets: {execution_time} seconds\")"
      ],
      "metadata": {
        "id": "Yimdd-1qp_hk",
        "outputId": "d7eb8bd1-7705-4611-a476-251619c521c7",
        "trusted": true,
        "execution": {
          "iopub.status.busy": "2025-08-24T10:27:34.400186Z",
          "iopub.execute_input": "2025-08-24T10:27:34.400438Z",
          "iopub.status.idle": "2025-08-24T10:27:58.261597Z",
          "shell.execute_reply.started": "2025-08-24T10:27:34.400416Z",
          "shell.execute_reply": "2025-08-24T10:27:58.260617Z"
        },
        "colab": {
          "base_uri": "https://localhost:8080/"
        }
      },
      "outputs": [
        {
          "output_type": "stream",
          "name": "stdout",
          "text": [
            "Time taken to clean all the 10 datasets: 21.52175498008728 seconds\n"
          ]
        }
      ],
      "execution_count": 39
    },
    {
      "cell_type": "markdown",
      "source": [
        "## Selecting 1000 random rows from the datasets\n",
        "### Testing the random_select function\n",
        "\n",
        "The cell below shows how the random\\_select() function works. If it doesn't have enough, it just randomizes the dataset, if it has enough rows it does a randown selection of the requested $n$ rows"
      ],
      "metadata": {
        "id": "MNXJNB16rmB7"
      }
    },
    {
      "cell_type": "code",
      "source": [
        "start_time = time.time()\n",
        "for dataset in ten_datasets:\n",
        "    dataset = random_select(dataset, 1000)\n",
        "\n",
        "stop_time = time.time()\n",
        "execution_time = stop_time - start_time\n",
        "print(f\"Time taken to select 1000 random rows from all the {num_datasets} datasets: {execution_time} seconds\")"
      ],
      "metadata": {
        "id": "15zwhSFdq8kf",
        "outputId": "4bab6ccd-f3dd-45a4-d69b-1458eb9e1ed9",
        "trusted": true,
        "execution": {
          "iopub.status.busy": "2025-08-24T10:27:58.262503Z",
          "iopub.execute_input": "2025-08-24T10:27:58.262796Z",
          "iopub.status.idle": "2025-08-24T10:27:58.287289Z",
          "shell.execute_reply.started": "2025-08-24T10:27:58.262765Z",
          "shell.execute_reply": "2025-08-24T10:27:58.286184Z"
        },
        "colab": {
          "base_uri": "https://localhost:8080/"
        }
      },
      "outputs": [
        {
          "output_type": "stream",
          "name": "stdout",
          "text": [
            "Time taken to select 1000 random rows from all the 10 datasets: 0.013173341751098633 seconds\n"
          ]
        }
      ],
      "execution_count": 40
    },
    {
      "cell_type": "code",
      "source": [
        "# for dataset, name in zip(all_datasets, list_of_datasets):\n",
        "#     print(f\"Length of {name} dataset: {len(dataset)}\")"
      ],
      "metadata": {
        "id": "VXc0uGFbsZxq",
        "trusted": true,
        "execution": {
          "iopub.status.busy": "2025-08-24T10:27:58.288339Z",
          "iopub.execute_input": "2025-08-24T10:27:58.288736Z",
          "iopub.status.idle": "2025-08-24T10:27:58.300365Z",
          "shell.execute_reply.started": "2025-08-24T10:27:58.288705Z",
          "shell.execute_reply": "2025-08-24T10:27:58.299281Z"
        }
      },
      "outputs": [],
      "execution_count": 41
    },
    {
      "cell_type": "markdown",
      "source": [
        "### Data Cleaning\n",
        "\n",
        "All the datasets have been arranged in a way that they can be iterated on, yet, they can also be selected individually <p>\n",
        "The cell below show what happens when the two functions are called"
      ],
      "metadata": {
        "id": "sixbCnhw_-Yp"
      }
    },
    {
      "cell_type": "code",
      "source": [
        "for i, (dataset, name) in enumerate(zip(ten_datasets, list_of_ten_datasets)):\n",
        "    ten_datasets[i] = clean_and_modify_texts(dataset)\n",
        "    ten_datasets[i] = random_select(ten_datasets[i], 3000)\n",
        "    # print(f\"Length of {name} dataset: {len(all_datasets[i])}\")\n",
        "\n",
        "print(\"========================================================\")\n",
        "print('After the iteration')\n",
        "print(\"========================================================\")\n",
        "\n",
        "# Now the updated values will be printed\n",
        "for dataset, name in zip(ten_datasets, list_of_ten_datasets):\n",
        "    print(f\"Length of {name} dataset: {len(dataset)}\")\n"
      ],
      "metadata": {
        "id": "Z6OMouRKtaMB",
        "outputId": "f50fc059-5c7e-4b7e-d1cd-fc497215a331",
        "trusted": true,
        "execution": {
          "iopub.status.busy": "2025-08-24T10:27:58.301461Z",
          "iopub.execute_input": "2025-08-24T10:27:58.301776Z",
          "iopub.status.idle": "2025-08-24T10:28:21.837452Z",
          "shell.execute_reply.started": "2025-08-24T10:27:58.301751Z",
          "shell.execute_reply": "2025-08-24T10:28:21.836336Z"
        },
        "colab": {
          "base_uri": "https://localhost:8080/"
        }
      },
      "outputs": [
        {
          "output_type": "stream",
          "name": "stdout",
          "text": [
            "Requested 3000 rows - but only 2585 available. Returning all rows, shuffled.\n",
            "Requested 3000 rows - but only 2777 available. Returning all rows, shuffled.\n",
            "Requested 3000 rows - but only 1077 available. Returning all rows, shuffled.\n",
            "========================================================\n",
            "After the iteration\n",
            "========================================================\n",
            "Length of anxiety_df dataset: 3000\n",
            "Length of stress_df dataset: 2585\n",
            "Length of bipolar_df dataset: 2777\n",
            "Length of personality_disorder_df dataset: 1077\n",
            "Length of suicide_df1 dataset: 3000\n",
            "Length of not_suicide_df1 dataset: 3000\n",
            "Length of cyber_gender_df dataset: 3000\n",
            "Length of cyber_religion_df dataset: 3000\n",
            "Length of cyber_ethnicity_df dataset: 3000\n",
            "Length of cyber_age_df dataset: 3000\n"
          ]
        }
      ],
      "execution_count": 42
    },
    {
      "cell_type": "markdown",
      "source": [
        "# Data Augmentation using EDA - Oversampling\n",
        "\n",
        "To address the significant class imbalance in our dataset, we will oversample the minority classes to a target of 3000 samples each. Instead of simply duplicating data, which can lead to overfitting, we will employ Easy Data Augmentation (EDA) techniques to generate new, synthetic text samples.\n",
        "\n",
        "*This approach involves applying one of four random transformations to the original text:*\n",
        "\n",
        "**Synonym Replacement (SR):** Replaces some non-stop words with their synonyms.\n",
        "\n",
        "**Random Insertion (RI):** Inserts synonyms of random words at random positions.\n",
        "\n",
        "**Random Swap (RS):** Swaps the positions of two random words in the sentence.\n",
        "\n",
        "**Random Deletion (RD):** Randomly removes words with a certain probability.\n",
        "\n",
        "We will apply this process to the stress, bipolar, and personality_disorder datasets until they each reach the target size, creating a more balanced dataset for training our models.\n",
        "\n",
        "**Paper:** EDA: Easy Data Augmentation Techniques for Boosting Performance on Text Classification Tasks(https://aclanthology.org/D19-1670/)"
      ],
      "metadata": {
        "id": "nGQIP9nZY-Fg"
      }
    },
    {
      "cell_type": "markdown",
      "source": [],
      "metadata": {
        "id": "25O9gwsKY-Fg"
      }
    },
    {
      "cell_type": "code",
      "source": [
        "import pandas as pd\n",
        "import math\n",
        "import random\n",
        "import re\n",
        "from random import shuffle\n",
        "import nltk\n",
        "import os\n",
        "import zipfile\n",
        "import urllib.request\n",
        "\n",
        "# --- 1. Foolproof NLTK Setup ---\n",
        "# This block manually creates a local folder, downloads the necessary files,\n",
        "# and forces NLTK to use them. This bypasses all environment issues.\n",
        "\n",
        "def setup_nltk_locally():\n",
        "    \"\"\"Manually downloads and sets up NLTK packages in a local directory.\"\"\"\n",
        "    # Create a local directory for NLTK data\n",
        "    local_nltk_dir = os.path.join(os.getcwd(), 'nltk_data')\n",
        "    if not os.path.exists(local_nltk_dir):\n",
        "        os.makedirs(local_nltk_dir)\n",
        "\n",
        "    # Add this local directory to NLTK's search path\n",
        "    if local_nltk_dir not in nltk.data.path:\n",
        "        nltk.data.path.insert(0, local_nltk_dir)\n",
        "\n",
        "    # Define packages and their download URLs\n",
        "    packages = {\n",
        "        'wordnet': ('corpora', 'https://raw.githubusercontent.com/nltk/nltk_data/gh-pages/packages/corpora/wordnet.zip'),\n",
        "        'punkt': ('tokenizers', 'https://raw.githubusercontent.com/nltk/nltk_data/gh-pages/packages/tokenizers/punkt.zip'),\n",
        "        'stopwords': ('corpora', 'https://raw.githubusercontent.com/nltk/nltk_data/gh-pages/packages/corpora/stopwords.zip')\n",
        "    }\n",
        "\n",
        "    # Download and unzip each package if it's not already there\n",
        "    for name, (pkg_type, url) in packages.items():\n",
        "        pkg_path = os.path.join(local_nltk_dir, pkg_type, name)\n",
        "        if not os.path.exists(pkg_path):\n",
        "            print(f\"'{name}' not found. Manually downloading...\")\n",
        "            zip_path = os.path.join(local_nltk_dir, f\"{name}.zip\")\n",
        "            pkg_dir = os.path.join(local_nltk_dir, pkg_type)\n",
        "            os.makedirs(pkg_dir, exist_ok=True)\n",
        "\n",
        "            urllib.request.urlretrieve(url, zip_path)\n",
        "            with zipfile.ZipFile(zip_path, 'r') as zip_ref:\n",
        "                zip_ref.extractall(pkg_dir)\n",
        "            os.remove(zip_path)\n",
        "            print(f\"'{name}' installed successfully. ✅\")\n",
        "\n",
        "# Run the setup\n",
        "setup_nltk_locally()\n",
        "from nltk.corpus import wordnet, stopwords\n",
        "\n",
        "# --- 2. Your EDA Functions (with corrections) ---\n",
        "\n",
        "random.seed(42) # for reproducibility\n",
        "stop_words = stopwords.words('english')\n",
        "\n",
        "def get_synonyms(word):\n",
        "    synonyms = set()\n",
        "    for syn in wordnet.synsets(word):\n",
        "        for l in syn.lemmas():\n",
        "            synonym = l.name().replace(\"_\", \" \").replace(\"-\", \" \").lower()\n",
        "            synonym = \"\".join([char for char in synonym if char in ' qwertyuiopasdfghjklzxcvbnm'])\n",
        "            synonyms.add(synonym)\n",
        "    if word in synonyms:\n",
        "        synonyms.remove(word)\n",
        "    return list(synonyms)\n",
        "\n",
        "def synonym_replacement(words_str, n):\n",
        "    words = str(words_str).split()\n",
        "    new_words = words.copy()\n",
        "    random_word_list = list(set([word for word in words if word not in stop_words]))\n",
        "    random.shuffle(random_word_list)\n",
        "    num_replaced = 0\n",
        "    for random_word in random_word_list:\n",
        "        synonyms = get_synonyms(random_word)\n",
        "        if synonyms:\n",
        "            synonym = random.choice(synonyms)\n",
        "            new_words = [synonym if word == random_word else word for word in new_words]\n",
        "            num_replaced += 1\n",
        "        if num_replaced >= n:\n",
        "            break\n",
        "    return ' '.join(new_words)\n",
        "\n",
        "def random_deletion(words_str, p):\n",
        "    words = str(words_str).split()\n",
        "    if len(words) == 1: return words_str\n",
        "    new_words = [word for word in words if random.uniform(0, 1) > p]\n",
        "    return ' '.join(new_words) if new_words else random.choice(words)\n",
        "\n",
        "def random_swap(words_str, n):\n",
        "    words = str(words_str).split()\n",
        "    new_words = words.copy()\n",
        "    for _ in range(n):\n",
        "        if len(new_words) < 2: continue\n",
        "        idx1, idx2 = random.sample(range(len(new_words)), 2)\n",
        "        new_words[idx1], new_words[idx2] = new_words[idx2], new_words[idx1]\n",
        "    return ' '.join(new_words)\n",
        "\n",
        "def random_insertion(words_str, n):\n",
        "    words = str(words_str).split()\n",
        "    new_words = words.copy()\n",
        "    for _ in range(n):\n",
        "        synonyms = []\n",
        "        counter = 0\n",
        "        while not synonyms:\n",
        "            if not new_words or counter >= 10: return ' '.join(new_words)\n",
        "            random_word = random.choice(new_words)\n",
        "            synonyms = get_synonyms(random_word)\n",
        "            counter += 1\n",
        "        random_synonym = random.choice(synonyms)\n",
        "        new_words.insert(random.randint(0, len(new_words)), random_synonym)\n",
        "    return ' '.join(new_words)\n",
        "\n",
        "def augment_sentence(sentence, n=1, p=0.1):\n",
        "    augmentation_functions = [\n",
        "        lambda s: synonym_replacement(s, n),\n",
        "        lambda s: random_deletion(s, p),\n",
        "        lambda s: random_swap(s, n),\n",
        "        lambda s: random_insertion(s, n)\n",
        "    ]\n",
        "    chosen_function = random.choice(augmentation_functions)\n",
        "    return chosen_function(sentence)\n",
        "\n",
        "# --- 3. Main Augmentation Function ---\n",
        "def augment_to_target(df, target_n, text_col='text', label_col='status'):\n",
        "    current_n = len(df)\n",
        "    needed = target_n - current_n\n",
        "    if needed <= 0: return df\n",
        "    print(f\"'{df[label_col].iloc[0]}': Current: {current_n}, Target: {target_n}, Needing: {needed}.\")\n",
        "\n",
        "    augmented_texts = []\n",
        "    while len(augmented_texts) < needed:\n",
        "        random_row = df.sample(n=1).iloc[0]\n",
        "        original_text = str(random_row[text_col])\n",
        "        if not original_text.strip(): continue\n",
        "        augmented_sentence = augment_sentence(original_text)\n",
        "        augmented_texts.append({text_col: augmented_sentence, label_col: random_row[label_col]})\n",
        "\n",
        "    augmented_df = pd.DataFrame(augmented_texts)\n",
        "    return pd.concat([df, augmented_df], ignore_index=True)\n",
        "\n",
        "dataset_name_to_index = {\n",
        "    \"stress_df\": 1,\n",
        "    \"bipolar_df\": 2,\n",
        "    \"personality_disorder_df\": 3\n",
        "}\n",
        "\n",
        "print(\"Master list 'ten_datasets' and 'dataset_name_to_index' mapping have been created.\")\n",
        "\n",
        "# --- 4. Apply Augmentation to Your Datasets ---\n",
        "TARGET_SIZE = 3000\n",
        "\n",
        "print(\"\\n--- Processing stress_df ---\")\n",
        "stress_df_balanced = augment_to_target(stress_df, TARGET_SIZE)\n",
        "print(f\"Final length of stress_df: {len(stress_df_balanced)}\")\n",
        "\n",
        "print(\"\\n--- Processing bipolar_df ---\")\n",
        "bipolar_df_balanced = augment_to_target(bipolar_df, TARGET_SIZE)\n",
        "print(f\"Final length of bipolar_df: {len(bipolar_df_balanced)}\")\n",
        "\n",
        "print(\"\\n--- Processing personality_disorder_df ---\")\n",
        "personality_disorder_balanced = augment_to_target(personality_disorder_df, TARGET_SIZE)\n",
        "print(f\"Final length of personality_disorder_df: {len(personality_disorder_balanced)}\")\n",
        "\n",
        "# --- 5. Update Master List ---\n",
        "print(\"\\nUpdating master dataset list...\")\n",
        "ten_datasets[dataset_name_to_index[\"stress_df\"]] = stress_df_balanced\n",
        "ten_datasets[dataset_name_to_index[\"bipolar_df\"]] = bipolar_df_balanced\n",
        "ten_datasets[dataset_name_to_index[\"personality_disorder_df\"]] = personality_disorder_balanced\n",
        "print(\"Datasets updated successfully! \")"
      ],
      "metadata": {
        "trusted": true,
        "execution": {
          "iopub.status.busy": "2025-08-24T10:28:21.875182Z",
          "iopub.execute_input": "2025-08-24T10:28:21.875513Z",
          "iopub.status.idle": "2025-08-24T10:28:25.041809Z",
          "shell.execute_reply.started": "2025-08-24T10:28:21.875487Z",
          "shell.execute_reply": "2025-08-24T10:28:25.040986Z"
        },
        "colab": {
          "base_uri": "https://localhost:8080/"
        },
        "id": "mgBeSuQIY-Fg",
        "outputId": "2457240a-4d58-49b6-bb4b-f135cc0abd22"
      },
      "outputs": [
        {
          "output_type": "stream",
          "name": "stdout",
          "text": [
            "'wordnet' not found. Manually downloading...\n",
            "'wordnet' installed successfully. ✅\n",
            "'punkt' not found. Manually downloading...\n",
            "'punkt' installed successfully. ✅\n",
            "'stopwords' not found. Manually downloading...\n",
            "'stopwords' installed successfully. ✅\n",
            "Master list 'ten_datasets' and 'dataset_name_to_index' mapping have been created.\n",
            "\n",
            "--- Processing stress_df ---\n",
            "'Stress': Current: 2669, Target: 3000, Needing: 331.\n",
            "Final length of stress_df: 3000\n",
            "\n",
            "--- Processing bipolar_df ---\n",
            "'Bipolar': Current: 2877, Target: 3000, Needing: 123.\n",
            "Final length of bipolar_df: 3000\n",
            "\n",
            "--- Processing personality_disorder_df ---\n",
            "'Personality disorder': Current: 1201, Target: 3000, Needing: 1799.\n",
            "Final length of personality_disorder_df: 3000\n",
            "\n",
            "Updating master dataset list...\n",
            "Datasets updated successfully! \n"
          ]
        }
      ],
      "execution_count": 43
    },
    {
      "cell_type": "markdown",
      "source": [
        "# Data Understanding"
      ],
      "metadata": {
        "id": "3wxEDaM0Y-Fh"
      }
    },
    {
      "cell_type": "markdown",
      "source": [
        "## TF-IDF and Keyword Extraction\n",
        "\n",
        "**Purpose:** Identify distinctive terms beyond raw frequency (like word clouds) to confirm dataset uniqueness and relevance."
      ],
      "metadata": {
        "id": "9e--L51AY-Fh"
      }
    },
    {
      "cell_type": "code",
      "source": [
        "from sklearn.feature_extraction.text import TfidfVectorizer\n",
        "from collections import Counter\n",
        "from tabulate import tabulate\n",
        "\n",
        "# Readable names\n",
        "name_map = {\n",
        "    'anxiety_df': 'Anxiety',\n",
        "    'stress_df': 'Stress',\n",
        "    'bipolar_df': 'Bipolar',\n",
        "    'personality_disorder_df': 'Personality Disorder',\n",
        "    'suicide_df1': 'Suicide',\n",
        "    'not_suicide_df1': 'Non-Suicide',\n",
        "    'not_cyberbullying_df': 'Not Cyberbullying',\n",
        "    'cyber_gender_df': 'Gender Cyberbullying',\n",
        "    'cyber_religion_df': 'Religion Cyberbullying',\n",
        "    'cyber_ethnicity_df': 'Ethnicity Cyberbullying',\n",
        "    'cyber_age_df': 'Age Cyberbullying',\n",
        "    'cyber_other_cyberbullying_df': 'Other Cyberbullying'\n",
        "}\n",
        "\n",
        "tfidf_rows = []\n",
        "natural_rows = []\n",
        "\n",
        "for dataset, name in zip(ten_datasets, list_of_ten_datasets):\n",
        "    texts = dataset['text'].astype(str)\n",
        "\n",
        "    # --- TF-IDF terms ---\n",
        "    tfidf = TfidfVectorizer(stop_words='english', max_features=1000)\n",
        "    matrix = tfidf.fit_transform(texts)\n",
        "    feature_names = tfidf.get_feature_names_out()\n",
        "    scores = matrix.mean(axis=0).A1\n",
        "    top_tfidf = [term for term, _ in sorted(zip(feature_names, scores), key=lambda x: x[1], reverse=True)[:10]]\n",
        "\n",
        "    # --- Natural terms ---\n",
        "    all_words = \" \".join(texts).lower().split()\n",
        "    most_common = [word for word, _ in Counter(all_words).most_common(10)]\n",
        "\n",
        "    tfidf_rows.append([name_map[name]] + top_tfidf)\n",
        "    natural_rows.append([name_map[name]] + most_common)\n",
        "\n",
        "# --- Format DataFrames ---\n",
        "columns = ['Dataset'] + [str(i) for i in range(1, 11)]\n",
        "\n",
        "df_tfidf = pd.DataFrame(tfidf_rows, columns=columns).set_index('Dataset')\n",
        "df_natural = pd.DataFrame(natural_rows, columns=columns).set_index('Dataset')\n",
        "\n",
        "# Optional: Display or export\n",
        "print(\"TF-IDF Top Words Table:\\n\")\n",
        "print(tabulate(df_tfidf, headers = 'keys', tablefmt = 'fancy_grid'))\n",
        "\n",
        "print(\"\\nMost Frequent Natural Words Table:\\n\")\n",
        "print(tabulate(df_natural, headers='keys', tablefmt='fancy_grid'))"
      ],
      "metadata": {
        "trusted": true,
        "execution": {
          "iopub.status.busy": "2025-08-24T10:28:25.042751Z",
          "iopub.execute_input": "2025-08-24T10:28:25.043091Z",
          "iopub.status.idle": "2025-08-24T10:28:28.102057Z",
          "shell.execute_reply.started": "2025-08-24T10:28:25.043054Z",
          "shell.execute_reply": "2025-08-24T10:28:28.100794Z"
        },
        "colab": {
          "base_uri": "https://localhost:8080/"
        },
        "id": "cnpFWWf1Y-Fh",
        "outputId": "a3b83e86-d53c-4d42-d2e5-e7ede6d8f625"
      },
      "outputs": [
        {
          "output_type": "stream",
          "name": "stdout",
          "text": [
            "TF-IDF Top Words Table:\n",
            "\n",
            "╒═════════════════════════╤═════════╤═════════╤═════════╤═══════════╤══════════╤════════╤═════════╤════════╤════════╤════════╕\n",
            "│ Dataset                 │ 1       │ 2       │ 3       │ 4         │ 5        │ 6      │ 7       │ 8      │ 9      │ 10     │\n",
            "╞═════════════════════════╪═════════╪═════════╪═════════╪═══════════╪══════════╪════════╪═════════╪════════╪════════╪════════╡\n",
            "│ Anxiety                 │ im      │ anxiety │ like    │ just      │ restless │ ive    │ feel    │ dont   │ know   │ really │\n",
            "├─────────────────────────┼─────────┼─────────┼─────────┼───────────┼──────────┼────────┼─────────┼────────┼────────┼────────┤\n",
            "│ Stress                  │ stress  │ just    │ like    │ feel      │ don      │ ve     │ know    │ nan    │ time   │ work   │\n",
            "├─────────────────────────┼─────────┼─────────┼─────────┼───────────┼──────────┼────────┼─────────┼────────┼────────┼────────┤\n",
            "│ Bipolar                 │ just    │ like    │ feel    │ ve        │ bipolar  │ don    │ know    │ nan    │ really │ want   │\n",
            "├─────────────────────────┼─────────┼─────────┼─────────┼───────────┼──────────┼────────┼─────────┼────────┼────────┼────────┤\n",
            "│ Personality Disorder    │ nan     │ like    │ just    │ people    │ don      │ feel   │ avpd    │ know   │ ve     │ want   │\n",
            "├─────────────────────────┼─────────┼─────────┼─────────┼───────────┼──────────┼────────┼─────────┼────────┼────────┼────────┤\n",
            "│ Suicide                 │ im      │ just    │ dont    │ want      │ like     │ life   │ feel    │ know   │ ive    │ people │\n",
            "├─────────────────────────┼─────────┼─────────┼─────────┼───────────┼──────────┼────────┼─────────┼────────┼────────┼────────┤\n",
            "│ Non-Suicide             │ im      │ just    │ like    │ dont      │ know     │ want   │ filler  │ people │ day    │ time   │\n",
            "├─────────────────────────┼─────────┼─────────┼─────────┼───────────┼──────────┼────────┼─────────┼────────┼────────┼────────┤\n",
            "│ Gender Cyberbullying    │ jokes   │ rape    │ gay     │ joke      │ sexist   │ im     │ just    │ like   │ people │ bitch  │\n",
            "├─────────────────────────┼─────────┼─────────┼─────────┼───────────┼──────────┼────────┼─────────┼────────┼────────┼────────┤\n",
            "│ Religion Cyberbullying  │ muslims │ muslim  │ idiot   │ christian │ islam    │ idiots │ islamic │ dont   │ like   │ right  │\n",
            "├─────────────────────────┼─────────┼─────────┼─────────┼───────────┼──────────┼────────┼─────────┼────────┼────────┼────────┤\n",
            "│ Ethnicity Cyberbullying │ fuck    │ dumb    │ nigger  │ ass       │ obama    │ black  │ niggers │ white  │ ur     │ bitch  │\n",
            "├─────────────────────────┼─────────┼─────────┼─────────┼───────────┼──────────┼────────┼─────────┼────────┼────────┼────────┤\n",
            "│ Age Cyberbullying       │ school  │ high    │ bullied │ bully     │ girls    │ girl   │ bullies │ like   │ just   │ middle │\n",
            "╘═════════════════════════╧═════════╧═════════╧═════════╧═══════════╧══════════╧════════╧═════════╧════════╧════════╧════════╛\n",
            "\n",
            "Most Frequent Natural Words Table:\n",
            "\n",
            "╒═════════════════════════╤════════╤══════╤══════╤═════╤════════╤═══════╤═════╤══════╤═════════╤══════╕\n",
            "│ Dataset                 │ 1      │ 2    │ 3    │ 4   │ 5      │ 6     │ 7   │ 8    │ 9       │ 10   │\n",
            "╞═════════════════════════╪════════╪══════╪══════╪═════╪════════╪═══════╪═════╪══════╪═════════╪══════╡\n",
            "│ Anxiety                 │ i      │ and  │ to   │ the │ a      │ my    │ of  │ it   │ im      │ that │\n",
            "├─────────────────────────┼────────┼──────┼──────┼─────┼────────┼───────┼─────┼──────┼─────────┼──────┤\n",
            "│ Stress                  │ i      │ and  │ to   │ the │ a      │ my    │ of  │ in   │ that    │ it   │\n",
            "├─────────────────────────┼────────┼──────┼──────┼─────┼────────┼───────┼─────┼──────┼─────────┼──────┤\n",
            "│ Bipolar                 │ i      │ and  │ to   │ the │ a      │ my    │ of  │ it   │ in      │ that │\n",
            "├─────────────────────────┼────────┼──────┼──────┼─────┼────────┼───────┼─────┼──────┼─────────┼──────┤\n",
            "│ Personality Disorder    │ i      │ to   │ and  │ the │ a      │ my    │ of  │ that │ in      │ but  │\n",
            "├─────────────────────────┼────────┼──────┼──────┼─────┼────────┼───────┼─────┼──────┼─────────┼──────┤\n",
            "│ Suicide                 │ i      │ to   │ and  │ the │ my     │ a     │ of  │ me   │ it      │ that │\n",
            "├─────────────────────────┼────────┼──────┼──────┼─────┼────────┼───────┼─────┼──────┼─────────┼──────┤\n",
            "│ Non-Suicide             │ i      │ and  │ to   │ the │ a      │ my    │ mom │ ur   │ of      │ it   │\n",
            "├─────────────────────────┼────────┼──────┼──────┼─────┼────────┼───────┼─────┼──────┼─────────┼──────┤\n",
            "│ Gender Cyberbullying    │ a      │ rape │ the  │ and │ gay    │ jokes │ to  │ i    │ is      │ you  │\n",
            "├─────────────────────────┼────────┼──────┼──────┼─────┼────────┼───────┼─────┼──────┼─────────┼──────┤\n",
            "│ Religion Cyberbullying  │ the    │ you  │ to   │ and │ a      │ of    │ is  │ are  │ in      │ that │\n",
            "├─────────────────────────┼────────┼──────┼──────┼─────┼────────┼───────┼─────┼──────┼─────────┼──────┤\n",
            "│ Ethnicity Cyberbullying │ the    │ fuck │ dumb │ you │ nigger │ a     │ to  │ and  │ i       │ is   │\n",
            "├─────────────────────────┼────────┼──────┼──────┼─────┼────────┼───────┼─────┼──────┼─────────┼──────┤\n",
            "│ Age Cyberbullying       │ school │ the  │ i    │ to  │ and    │ in    │ a   │ high │ bullied │ me   │\n",
            "╘═════════════════════════╧════════╧══════╧══════╧═════╧════════╧═══════╧═════╧══════╧═════════╧══════╛\n"
          ]
        }
      ],
      "execution_count": 44
    },
    {
      "cell_type": "markdown",
      "source": [
        "## Post lenght Analysis for the Datasets after cleaning"
      ],
      "metadata": {
        "id": "w862RfxKY-Fh"
      }
    },
    {
      "cell_type": "code",
      "source": [
        "df_counts = []\n",
        "\n",
        "for dataset, dataset_name in zip(ten_datasets, list_of_ten_datasets):\n",
        "    cp_df = dataset.copy()\n",
        "    cp_df['text'] = cp_df['text'].astype(str)\n",
        "    cp_df['text_length'] = cp_df['text'].apply(len)\n",
        "    cp_df['word_count'] = cp_df['text'].apply(lambda x: len(x.split()))\n",
        "    avg_char_length = cp_df['text_length'].mean()\n",
        "    avg_word_length = cp_df['word_count'].mean()\n",
        "    df_counts.append({\n",
        "        'Dataset': name_map[dataset_name],\n",
        "        'Post Length (Characters)': round(avg_char_length, 2),\n",
        "        'Post Length (Words)': round(avg_word_length, 2)\n",
        "    })\n",
        "    # print(f\"Average char Length of {name_map[dataset_name]} post: {avg_char_length:.2f} characters\")\n",
        "    # print(f\"Average word Length of {name_map[dataset_name]} post: {avg_word_length:.2f} words\")\n",
        "    # print(f\"==========================================================================\")\n",
        ""
      ],
      "metadata": {
        "trusted": true,
        "execution": {
          "iopub.status.busy": "2025-08-24T10:28:28.103271Z",
          "iopub.execute_input": "2025-08-24T10:28:28.103670Z",
          "iopub.status.idle": "2025-08-24T10:28:28.377161Z",
          "shell.execute_reply.started": "2025-08-24T10:28:28.103611Z",
          "shell.execute_reply": "2025-08-24T10:28:28.375957Z"
        },
        "id": "8_BAfzbXY-Fh"
      },
      "outputs": [],
      "execution_count": 45
    },
    {
      "cell_type": "code",
      "source": [
        "counts_df = pd.DataFrame(df_counts)\n",
        "print(tabulate(counts_df, headers=\"keys\", tablefmt=\"fancy_grid\"))"
      ],
      "metadata": {
        "trusted": true,
        "execution": {
          "iopub.status.busy": "2025-08-24T10:28:28.378249Z",
          "iopub.execute_input": "2025-08-24T10:28:28.378637Z",
          "iopub.status.idle": "2025-08-24T10:28:28.386532Z",
          "shell.execute_reply.started": "2025-08-24T10:28:28.378599Z",
          "shell.execute_reply": "2025-08-24T10:28:28.385363Z"
        },
        "colab": {
          "base_uri": "https://localhost:8080/"
        },
        "id": "sSmaGLmjY-Fh",
        "outputId": "2842dbe8-e67d-4480-fe4f-77b54bcce068"
      },
      "outputs": [
        {
          "output_type": "stream",
          "name": "stdout",
          "text": [
            "╒════╤═════════════════════════╤════════════════════════════╤═══════════════════════╕\n",
            "│    │ Dataset                 │   Post Length (Characters) │   Post Length (Words) │\n",
            "╞════╪═════════════════════════╪════════════════════════════╪═══════════════════════╡\n",
            "│  0 │ Anxiety                 │                     714.96 │                138.71 │\n",
            "├────┼─────────────────────────┼────────────────────────────┼───────────────────────┤\n",
            "│  1 │ Stress                  │                     596.93 │                111.59 │\n",
            "├────┼─────────────────────────┼────────────────────────────┼───────────────────────┤\n",
            "│  2 │ Bipolar                 │                     914.5  │                170.43 │\n",
            "├────┼─────────────────────────┼────────────────────────────┼───────────────────────┤\n",
            "│  3 │ Personality Disorder    │                     870.32 │                163.8  │\n",
            "├────┼─────────────────────────┼────────────────────────────┼───────────────────────┤\n",
            "│  4 │ Suicide                 │                    1014.32 │                202.52 │\n",
            "├────┼─────────────────────────┼────────────────────────────┼───────────────────────┤\n",
            "│  5 │ Non-Suicide             │                     292.23 │                 58.02 │\n",
            "├────┼─────────────────────────┼────────────────────────────┼───────────────────────┤\n",
            "│  6 │ Gender Cyberbullying    │                     116.16 │                 22.16 │\n",
            "├────┼─────────────────────────┼────────────────────────────┼───────────────────────┤\n",
            "│  7 │ Religion Cyberbullying  │                     180.14 │                 32.26 │\n",
            "├────┼─────────────────────────┼────────────────────────────┼───────────────────────┤\n",
            "│  8 │ Ethnicity Cyberbullying │                     121.87 │                 23.58 │\n",
            "├────┼─────────────────────────┼────────────────────────────┼───────────────────────┤\n",
            "│  9 │ Age Cyberbullying       │                     163.32 │                 31.58 │\n",
            "╘════╧═════════════════════════╧════════════════════════════╧═══════════════════════╛\n"
          ]
        }
      ],
      "execution_count": 46
    },
    {
      "cell_type": "markdown",
      "source": [
        "# Word Count Analysis"
      ],
      "metadata": {
        "id": "Y5jRaHAdY-Fh"
      }
    },
    {
      "cell_type": "code",
      "source": [
        "from textblob import TextBlob\n",
        "from nltk.tokenize import sent_tokenize\n",
        "import nltk\n",
        "from tabulate import tabulate\n",
        "\n",
        "# Download NLTK data for sentence tokenization (run once if not already downloaded)\n",
        "nltk.download('punkt')\n",
        "\n",
        "# Initialize lists for word stats\n",
        "word_dataset_names = []\n",
        "word_min = []\n",
        "word_avg = []\n",
        "word_max = []\n",
        "\n",
        "# Loop through datasets\n",
        "for dataset, name in zip(ten_datasets, list_of_ten_datasets):\n",
        "    # Compute word counts per post\n",
        "    word_counts = dataset['text'].astype(str).apply(lambda x: len(x.split()))\n",
        "\n",
        "    # Collect word stats\n",
        "    word_dataset_names.append(name)\n",
        "    word_min.append(word_counts.min())\n",
        "    word_avg.append(word_counts.mean())\n",
        "    word_max.append(word_counts.max())\n",
        "\n",
        "# Create DataFrame for word stats\n",
        "word_stats_df = pd.DataFrame({\n",
        "    'dataset_name': word_dataset_names,\n",
        "    'min_words': word_min,\n",
        "    'avg_words': word_avg,\n",
        "    'max_words': word_max\n",
        "})\n",
        "\n",
        "name_map = {\n",
        "    \"dep_df1\": \"Depression\",\n",
        "    \"non_dep_df1\": \"Non-Depression\",\n",
        "    \"anxiety_df\": \"Anxiety\",\n",
        "    \"stress_df\": \"Stress\",\n",
        "    \"bipolar_df\": \"Bipolar\",\n",
        "    \"personality_disorder_df\": \"Personality Disorder\",\n",
        "    \"suicide_df1\": \"Suicide\",\n",
        "    \"not_suicide_df1\": \"Non-Suicide\",\n",
        "    \"cyber_gender_df\": \"Gender Cyberbullying\",\n",
        "    \"cyber_religion_df\": \"Religion Cyberbullying\",\n",
        "    \"cyber_ethnicity_df\": \"Ethnicity Cyberbullying\",\n",
        "    \"cyber_age_df\": \"Age Cyberbullying\",\n",
        "    \"cyber_other_cyberbullying_df\": \"Other Cyberbullying\"\n",
        "}\n",
        "\n",
        "# Apply name map to the dataset_name column in both stats tables\n",
        "word_stats_df[\"dataset_name\"] = word_stats_df[\"dataset_name\"].map(name_map)\n",
        "\n",
        "# Print DataFrames using tabulate with psql format\n",
        "print(\"\\nWord Count Statistics:\")\n",
        "print(tabulate(word_stats_df, headers='keys', tablefmt='fancy_grid', showindex=False, floatfmt=\".2f\"))"
      ],
      "metadata": {
        "trusted": true,
        "execution": {
          "iopub.status.busy": "2025-08-24T10:28:28.387762Z",
          "iopub.execute_input": "2025-08-24T10:28:28.388054Z",
          "iopub.status.idle": "2025-08-24T10:28:28.801123Z",
          "shell.execute_reply.started": "2025-08-24T10:28:28.388029Z",
          "shell.execute_reply": "2025-08-24T10:28:28.800066Z"
        },
        "colab": {
          "base_uri": "https://localhost:8080/"
        },
        "id": "CUKNHsDaY-Fh",
        "outputId": "53460d8a-f351-4b9f-ef8b-35ca7b200300"
      },
      "outputs": [
        {
          "output_type": "stream",
          "name": "stderr",
          "text": [
            "[nltk_data] Downloading package punkt to /root/nltk_data...\n",
            "[nltk_data]   Unzipping tokenizers/punkt.zip.\n"
          ]
        },
        {
          "output_type": "stream",
          "name": "stdout",
          "text": [
            "\n",
            "Word Count Statistics:\n",
            "╒═════════════════════════╤═════════════╤═════════════╤═════════════╕\n",
            "│ dataset_name            │   min_words │   avg_words │   max_words │\n",
            "╞═════════════════════════╪═════════════╪═════════════╪═════════════╡\n",
            "│ Anxiety                 │           1 │      138.71 │        1137 │\n",
            "├─────────────────────────┼─────────────┼─────────────┼─────────────┤\n",
            "│ Stress                  │           1 │      111.59 │        1606 │\n",
            "├─────────────────────────┼─────────────┼─────────────┼─────────────┤\n",
            "│ Bipolar                 │           1 │      170.43 │        4804 │\n",
            "├─────────────────────────┼─────────────┼─────────────┼─────────────┤\n",
            "│ Personality Disorder    │           1 │      163.80 │        5420 │\n",
            "├─────────────────────────┼─────────────┼─────────────┼─────────────┤\n",
            "│ Suicide                 │           1 │      202.52 │        3549 │\n",
            "├─────────────────────────┼─────────────┼─────────────┼─────────────┤\n",
            "│ Non-Suicide             │           2 │       58.02 │        5556 │\n",
            "├─────────────────────────┼─────────────┼─────────────┼─────────────┤\n",
            "│ Gender Cyberbullying    │           1 │       22.16 │          58 │\n",
            "├─────────────────────────┼─────────────┼─────────────┼─────────────┤\n",
            "│ Religion Cyberbullying  │           2 │       32.26 │          59 │\n",
            "├─────────────────────────┼─────────────┼─────────────┼─────────────┤\n",
            "│ Ethnicity Cyberbullying │           3 │       23.58 │         309 │\n",
            "├─────────────────────────┼─────────────┼─────────────┼─────────────┤\n",
            "│ Age Cyberbullying       │           2 │       31.58 │          64 │\n",
            "╘═════════════════════════╧═════════════╧═════════════╧═════════════╛\n"
          ]
        }
      ],
      "execution_count": 47
    },
    {
      "cell_type": "code",
      "source": [
        "print(\"--- Longest Post in Each Dataset ---\")\n",
        "\n",
        "# Loop through each dataset\n",
        "for dataset, name in zip(ten_datasets, list_of_ten_datasets):\n",
        "    # Get the pretty name for printing\n",
        "    pretty_name = name_map.get(name, name)\n",
        "    print(f\"\\n--- Dataset: {pretty_name} ---\")\n",
        "\n",
        "    # Skip if the dataset is empty or has no 'text' column\n",
        "    if dataset.empty or 'text' not in dataset.columns:\n",
        "        print(\"Dataset is empty or missing 'text' column.\")\n",
        "        continue\n",
        "\n",
        "    # Compute word counts for the current dataset\n",
        "    word_counts = dataset['text'].astype(str).apply(lambda x: len(x.split()))\n",
        "\n",
        "    # Get the max word count\n",
        "    max_count = word_counts.max()\n",
        "\n",
        "    # Get the index of the post with the max count\n",
        "    idx_max = word_counts.idxmax()\n",
        "\n",
        "    # Retrieve the text of that post\n",
        "    longest_post = dataset.loc[idx_max, 'text']\n",
        "\n",
        "    # Print the details for the current dataset\n",
        "    print(f\"Word Count: {max_count}\")\n",
        "    # print(f\"Longest Post: \\\"{longest_post}\\\"\")\n"
      ],
      "metadata": {
        "trusted": true,
        "execution": {
          "iopub.status.busy": "2025-08-24T10:28:28.802005Z",
          "iopub.execute_input": "2025-08-24T10:28:28.802259Z",
          "iopub.status.idle": "2025-08-24T10:28:29.026434Z",
          "shell.execute_reply.started": "2025-08-24T10:28:28.802236Z",
          "shell.execute_reply": "2025-08-24T10:28:29.025558Z"
        },
        "colab": {
          "base_uri": "https://localhost:8080/"
        },
        "id": "DwBib-AJY-Fh",
        "outputId": "2c81c36f-c879-4d5b-a444-710cb689a557"
      },
      "outputs": [
        {
          "output_type": "stream",
          "name": "stdout",
          "text": [
            "--- Longest Post in Each Dataset ---\n",
            "\n",
            "--- Dataset: Anxiety ---\n",
            "Word Count: 1137\n",
            "\n",
            "--- Dataset: Stress ---\n",
            "Word Count: 1606\n",
            "\n",
            "--- Dataset: Bipolar ---\n",
            "Word Count: 4804\n",
            "\n",
            "--- Dataset: Personality Disorder ---\n",
            "Word Count: 5420\n",
            "\n",
            "--- Dataset: Suicide ---\n",
            "Word Count: 3549\n",
            "\n",
            "--- Dataset: Non-Suicide ---\n",
            "Word Count: 5556\n",
            "\n",
            "--- Dataset: Gender Cyberbullying ---\n",
            "Word Count: 58\n",
            "\n",
            "--- Dataset: Religion Cyberbullying ---\n",
            "Word Count: 59\n",
            "\n",
            "--- Dataset: Ethnicity Cyberbullying ---\n",
            "Word Count: 309\n",
            "\n",
            "--- Dataset: Age Cyberbullying ---\n",
            "Word Count: 64\n"
          ]
        }
      ],
      "execution_count": 48
    },
    {
      "cell_type": "markdown",
      "source": [
        "# Feature Correlation -- Unbalanced dataset\n",
        "\n",
        "**Step 1:** Correlation Analysis (Using Dataset Names as Labels)\n",
        "We’ll compute correlations between datasets based on their TF-IDF vectors and visualize them in a heatmap."
      ],
      "metadata": {
        "id": "HprzP7pjY-Fh"
      }
    },
    {
      "cell_type": "code",
      "source": [
        "import pandas as pd\n",
        "import numpy as np\n",
        "from sklearn.feature_extraction.text import TfidfVectorizer\n",
        "from scipy.stats import pearsonr\n",
        "import seaborn as sns\n",
        "import matplotlib.pyplot as plt\n",
        "\n",
        "# Combine datasets with dataset names as labels\n",
        "combined_df = pd.concat([df.assign(dataset_name=name) for df, name in zip(ten_datasets, list_of_ten_datasets)])\n",
        "\n",
        "# Vectorize text using TF-IDF\n",
        "vectorizer = TfidfVectorizer(max_features=1000, stop_words=\"english\")  # Limit to top 1000 features\n",
        "tfidf_matrix = vectorizer.fit_transform(combined_df[\"text\"].astype(str))\n",
        "feature_names = vectorizer.get_feature_names_out()\n",
        "\n",
        "# Compute average TF-IDF per dataset\n",
        "dataset_tfidf = {}\n",
        "for name in list_of_ten_datasets:\n",
        "    dataset_texts = combined_df[combined_df[\"dataset_name\"] == name][\"text\"].dropna()\n",
        "    if len(dataset_texts) > 0:\n",
        "        dataset_tfidf[name] = np.mean(vectorizer.transform(dataset_texts).toarray(), axis=0)\n",
        "\n",
        "# Create correlation matrix\n",
        "n_datasets = len(dataset_tfidf)\n",
        "correlation_matrix = np.zeros((n_datasets, n_datasets))\n",
        "for i, name1 in enumerate(dataset_tfidf.keys()):\n",
        "    for j, name2 in enumerate(dataset_tfidf.keys()):\n",
        "        if i <= j:\n",
        "            corr, _ = pearsonr(dataset_tfidf[name1], dataset_tfidf[name2])\n",
        "            correlation_matrix[i, j] = corr\n",
        "            correlation_matrix[j, i] = corr  # Symmetric\n",
        "\n",
        "# Mapping raw dataframe names to real labels\n",
        "name_map = {\n",
        "    \"dep_df1\": \"Depression\",\n",
        "    \"non_dep_df1\": \"Non-Depression\",\n",
        "    \"anxiety_df\": \"Anxiety\",\n",
        "    \"stress_df\": \"Stress\",\n",
        "    \"bipolar_df\": \"Bipolar\",\n",
        "    \"personality_disorder_df\": \"Personality Disorder\",\n",
        "    \"suicide_df1\": \"Suicide\",\n",
        "    \"not_suicide_df1\": \"Non-Suicide\",\n",
        "    \"cyber_gender_df\": \"Gender Cyberbullying\",\n",
        "    \"cyber_religion_df\": \"Religion Cyberbullying\",\n",
        "    \"cyber_ethnicity_df\": \"Ethnicity Cyberbullying\",\n",
        "    \"cyber_age_df\": \"Age Cyberbullying\",\n",
        "    \"cyber_other_cyberbullying_df\": \"Other Cyberbullying\"\n",
        "}\n",
        "\n",
        "# Apply the name map to labels\n",
        "mapped_labels = [name_map.get(name, name) for name in dataset_tfidf.keys()]\n",
        "\n",
        "# Plot heatmap with human-readable names\n",
        "plt.figure(figsize=(10, 8))\n",
        "sns.heatmap(correlation_matrix, annot=True, fmt=\".2f\", cmap=\"coolwarm\",\n",
        "            xticklabels=mapped_labels, yticklabels=mapped_labels,\n",
        "            cbar_kws={'label': 'Pearson Correlation'})\n",
        "plt.title(\"Correlation Between Datasets Based on TF-IDF Features\")\n",
        "plt.xticks(rotation=45, ha=\"right\")\n",
        "plt.yticks(rotation=0)\n",
        "plt.tight_layout()\n",
        "plt.show()\n"
      ],
      "metadata": {
        "trusted": true,
        "execution": {
          "iopub.status.busy": "2025-08-24T10:28:29.027452Z",
          "iopub.execute_input": "2025-08-24T10:28:29.027797Z",
          "iopub.status.idle": "2025-08-24T10:28:34.404737Z",
          "shell.execute_reply.started": "2025-08-24T10:28:29.027770Z",
          "shell.execute_reply": "2025-08-24T10:28:34.403769Z"
        },
        "colab": {
          "base_uri": "https://localhost:8080/",
          "height": 807
        },
        "id": "AFR-bF_WY-Fh",
        "outputId": "e050a01b-8771-48a9-aa83-fed609db4f79"
      },
      "outputs": [
        {
          "output_type": "display_data",
          "data": {
            "text/plain": [
              "<Figure size 1000x800 with 2 Axes>"
            ],
            "image/png": "[encoded data removed]"
          },
          "metadata": {}
        }
      ],
      "execution_count": 49
    },
    {
      "cell_type": "markdown",
      "source": [
        "# Creating a Combined dataset for Analysis\n",
        "\n",
        "The function below calls the random select function on all the datasets and select 3000 rows randomly from each of the datasets"
      ],
      "metadata": {
        "id": "eUfle5-BY-Fh"
      }
    },
    {
      "cell_type": "code",
      "source": [
        "def merge_data(datasets, num_samples=3000, seed=42):\n",
        "    \"\"\"\n",
        "    Cleans and samples from each dataset, then merges and encodes for training.\n",
        "\n",
        "    Parameters:\n",
        "        datasets (list of pd.DataFrame): List of datasets to be cleaned and merged.\n",
        "        num_samples (int): Number of rows to randomly sample per dataset.\n",
        "        seed (int): Random seed for reproducibility.\n",
        "\n",
        "    Returns:\n",
        "        pd.DataFrame: Cleaned, balanced, and merged dataset with encoded status labels.\n",
        "    \"\"\"\n",
        "    processed_dfs = []\n",
        "\n",
        "    for i, df in enumerate(datasets):\n",
        "        if df is None:\n",
        "            print(f\"Skipping dataset {i}: is None.\")\n",
        "            continue\n",
        "\n",
        "        # Step 1: Clean text and standardize status\n",
        "        df_cleaned = clean_and_modify_texts(df)\n",
        "\n",
        "        # Step 2: Randomly select N rows\n",
        "        df_sampled = random_select(df_cleaned, num_samples, seed=seed)\n",
        "        # df_sampled = random_select(df, num_samples, seed=seed)\n",
        "\n",
        "        # Append to list\n",
        "        processed_dfs.append(df_sampled)\n",
        "\n",
        "    # Step 3: Merge all datasets\n",
        "    merged_df = pd.concat(processed_dfs, ignore_index=True)\n",
        "\n",
        "    # Step 4: Encode 'status' column into numerical labels\n",
        "    merged_df['encoded_status'] = merged_df['status'].astype('category').cat.codes\n",
        "\n",
        "    # Final shuffle\n",
        "    merged_df = merged_df.sample(frac=1, random_state=seed).reset_index(drop=True)\n",
        "\n",
        "    return merged_df\n",
        "\n"
      ],
      "metadata": {
        "trusted": true,
        "execution": {
          "iopub.status.busy": "2025-08-24T10:28:34.405714Z",
          "iopub.execute_input": "2025-08-24T10:28:34.406239Z",
          "iopub.status.idle": "2025-08-24T10:28:34.412310Z",
          "shell.execute_reply.started": "2025-08-24T10:28:34.406215Z",
          "shell.execute_reply": "2025-08-24T10:28:34.411396Z"
        },
        "id": "fFNo1Xp9Y-Fh"
      },
      "outputs": [],
      "execution_count": 50
    },
    {
      "cell_type": "code",
      "source": [
        "# Merging the final 10 selected datasets\n",
        "merged_df = merge_data(ten_datasets)\n",
        "merged_df['status'].unique()\n",
        "merged_df['status'].value_counts()\n",
        "merged_df.head(10)\n",
        "# len(merged_df)\n",
        "# merged_df.isna().sum()"
      ],
      "metadata": {
        "trusted": true,
        "execution": {
          "iopub.status.busy": "2025-08-24T10:28:34.413290Z",
          "iopub.execute_input": "2025-08-24T10:28:34.413623Z",
          "iopub.status.idle": "2025-08-24T10:28:36.605910Z",
          "shell.execute_reply.started": "2025-08-24T10:28:34.413587Z",
          "shell.execute_reply": "2025-08-24T10:28:36.604733Z"
        },
        "colab": {
          "base_uri": "https://localhost:8080/",
          "height": 437
        },
        "id": "9DvIeq_oY-Fi",
        "outputId": "a1292346-4510-4716-c65b-ece124acaa26"
      },
      "outputs": [
        {
          "output_type": "stream",
          "name": "stdout",
          "text": [
            "Requested 3000 rows - but only 2916 available. Returning all rows, shuffled.\n",
            "Requested 3000 rows - but only 2900 available. Returning all rows, shuffled.\n",
            "Requested 3000 rows - but only 2876 available. Returning all rows, shuffled.\n",
            "Requested 3000 rows - but only 2999 available. Returning all rows, shuffled.\n"
          ]
        },
        {
          "output_type": "execute_result",
          "data": {
            "text/plain": [
              "                                                text        status  \\\n",
              "0  just not very appealing to me then again it is...     gender_cb   \n",
              "1  as a woman who supports a pussygrabber for a p...     gender_cb   \n",
              "2  also just to be clear its always sunny has had...     gender_cb   \n",
              "3  u kno the reason they kinda skip overdiscredit...  ethnicity_cb   \n",
              "4  i m not sexist but y do female managers think ...     gender_cb   \n",
              "5  i keep waiting for certain landmarks in lifein...       suicide   \n",
              "6  anyone have constant vivid dreams with health ...       anxiety   \n",
              "7  no doubt that david w is an idiot but youre no...   religion_cb   \n",
              "8  tip for finding pedos since thats the popular ...   non_suicide   \n",
              "9  i get where shes coming from but only if there...        stress   \n",
              "\n",
              "   encoded_status  \n",
              "0               4  \n",
              "1               4  \n",
              "2               4  \n",
              "3               3  \n",
              "4               4  \n",
              "5               9  \n",
              "6               1  \n",
              "7               7  \n",
              "8               5  \n",
              "9               8  "
            ],
            "text/html": [
              "\n",
              "  <div id=\"df-4987add7-6305-4261-aa7f-a4ac1811f679\" class=\"colab-df-container\">\n",
              "    <div>\n",
              "<style scoped>\n",
              "    .dataframe tbody tr th:only-of-type {\n",
              "        vertical-align: middle;\n",
              "    }\n",
              "\n",
              "    .dataframe tbody tr th {\n",
              "        vertical-align: top;\n",
              "    }\n",
              "\n",
              "    .dataframe thead th {\n",
              "        text-align: right;\n",
              "    }\n",
              "</style>\n",
              "<table border=\"1\" class=\"dataframe\">\n",
              "  <thead>\n",
              "    <tr style=\"text-align: right;\">\n",
              "      <th></th>\n",
              "      <th>text</th>\n",
              "      <th>status</th>\n",
              "      <th>encoded_status</th>\n",
              "    </tr>\n",
              "  </thead>\n",
              "  <tbody>\n",
              "    <tr>\n",
              "      <th>0</th>\n",
              "      <td>just not very appealing to me then again it is...</td>\n",
              "      <td>gender_cb</td>\n",
              "      <td>4</td>\n",
              "    </tr>\n",
              "    <tr>\n",
              "      <th>1</th>\n",
              "      <td>as a woman who supports a pussygrabber for a p...</td>\n",
              "      <td>gender_cb</td>\n",
              "      <td>4</td>\n",
              "    </tr>\n",
              "    <tr>\n",
              "      <th>2</th>\n",
              "      <td>also just to be clear its always sunny has had...</td>\n",
              "      <td>gender_cb</td>\n",
              "      <td>4</td>\n",
              "    </tr>\n",
              "    <tr>\n",
              "      <th>3</th>\n",
              "      <td>u kno the reason they kinda skip overdiscredit...</td>\n",
              "      <td>ethnicity_cb</td>\n",
              "      <td>3</td>\n",
              "    </tr>\n",
              "    <tr>\n",
              "      <th>4</th>\n",
              "      <td>i m not sexist but y do female managers think ...</td>\n",
              "      <td>gender_cb</td>\n",
              "      <td>4</td>\n",
              "    </tr>\n",
              "    <tr>\n",
              "      <th>5</th>\n",
              "      <td>i keep waiting for certain landmarks in lifein...</td>\n",
              "      <td>suicide</td>\n",
              "      <td>9</td>\n",
              "    </tr>\n",
              "    <tr>\n",
              "      <th>6</th>\n",
              "      <td>anyone have constant vivid dreams with health ...</td>\n",
              "      <td>anxiety</td>\n",
              "      <td>1</td>\n",
              "    </tr>\n",
              "    <tr>\n",
              "      <th>7</th>\n",
              "      <td>no doubt that david w is an idiot but youre no...</td>\n",
              "      <td>religion_cb</td>\n",
              "      <td>7</td>\n",
              "    </tr>\n",
              "    <tr>\n",
              "      <th>8</th>\n",
              "      <td>tip for finding pedos since thats the popular ...</td>\n",
              "      <td>non_suicide</td>\n",
              "      <td>5</td>\n",
              "    </tr>\n",
              "    <tr>\n",
              "      <th>9</th>\n",
              "      <td>i get where shes coming from but only if there...</td>\n",
              "      <td>stress</td>\n",
              "      <td>8</td>\n",
              "    </tr>\n",
              "  </tbody>\n",
              "</table>\n",
              "</div>\n",
              "    <div class=\"colab-df-buttons\">\n",
              "\n",
              "  <div class=\"colab-df-container\">\n",
              "    <button class=\"colab-df-convert\" onclick=\"convertToInteractive('df-4987add7-6305-4261-aa7f-a4ac1811f679')\"\n",
              "            title=\"Convert this dataframe to an interactive table.\"\n",
              "            style=\"display:none;\">\n",
              "\n",
              "  <svg xmlns=\"http://www.w3.org/2000/svg\" height=\"24px\" viewBox=\"0 -960 960 960\">\n",
              "    <path d=\"M120-120v-720h720v720H120Zm60-500h600v-160H180v160Zm220 220h160v-160H400v160Zm0 220h160v-160H400v160ZM180-400h160v-160H180v160Zm440 0h160v-160H620v160ZM180-180h160v-160H180v160Zm440 0h160v-160H620v160Z\"/>\n",
              "  </svg>\n",
              "    </button>\n",
              "\n",
              "  <style>\n",
              "    .colab-df-container {\n",
              "      display:flex;\n",
              "      gap: 12px;\n",
              "    }\n",
              "\n",
              "    .colab-df-convert {\n",
              "      background-color: #E8F0FE;\n",
              "      border: none;\n",
              "      border-radius: 50%;\n",
              "      cursor: pointer;\n",
              "      display: none;\n",
              "      fill: #1967D2;\n",
              "      height: 32px;\n",
              "      padding: 0 0 0 0;\n",
              "      width: 32px;\n",
              "    }\n",
              "\n",
              "    .colab-df-convert:hover {\n",
              "      background-color: #E2EBFA;\n",
              "      box-shadow: 0px 1px 2px rgba(60, 64, 67, 0.3), 0px 1px 3px 1px rgba(60, 64, 67, 0.15);\n",
              "      fill: #174EA6;\n",
              "    }\n",
              "\n",
              "    .colab-df-buttons div {\n",
              "      margin-bottom: 4px;\n",
              "    }\n",
              "\n",
              "    [theme=dark] .colab-df-convert {\n",
              "      background-color: #3B4455;\n",
              "      fill: #D2E3FC;\n",
              "    }\n",
              "\n",
              "    [theme=dark] .colab-df-convert:hover {\n",
              "      background-color: #434B5C;\n",
              "      box-shadow: 0px 1px 3px 1px rgba(0, 0, 0, 0.15);\n",
              "      filter: drop-shadow(0px 1px 2px rgba(0, 0, 0, 0.3));\n",
              "      fill: #FFFFFF;\n",
              "    }\n",
              "  </style>\n",
              "\n",
              "    <script>\n",
              "      const buttonEl =\n",
              "        document.querySelector('#df-4987add7-6305-4261-aa7f-a4ac1811f679 button.colab-df-convert');\n",
              "      buttonEl.style.display =\n",
              "        google.colab.kernel.accessAllowed ? 'block' : 'none';\n",
              "\n",
              "      async function convertToInteractive(key) {\n",
              "        const element = document.querySelector('#df-4987add7-6305-4261-aa7f-a4ac1811f679');\n",
              "        const dataTable =\n",
              "          await google.colab.kernel.invokeFunction('convertToInteractive',\n",
              "                                                    [key], {});\n",
              "        if (!dataTable) return;\n",
              "\n",
              "        const docLinkHtml = 'Like what you see? Visit the ' +\n",
              "          '<a target=\"_blank\" href=https://colab.research.google.com/notebooks/data_table.ipynb>data table notebook</a>'\n",
              "          + ' to learn more about interactive tables.';\n",
              "        element.innerHTML = '';\n",
              "        dataTable['output_type'] = 'display_data';\n",
              "        await google.colab.output.renderOutput(dataTable, element);\n",
              "        const docLink = document.createElement('div');\n",
              "        docLink.innerHTML = docLinkHtml;\n",
              "        element.appendChild(docLink);\n",
              "      }\n",
              "    </script>\n",
              "  </div>\n",
              "\n",
              "\n",
              "    <div id=\"df-8955d349-98f5-4dc9-ade3-a6daf24b82b1\">\n",
              "      <button class=\"colab-df-quickchart\" onclick=\"quickchart('df-8955d349-98f5-4dc9-ade3-a6daf24b82b1')\"\n",
              "                title=\"Suggest charts\"\n",
              "                style=\"display:none;\">\n",
              "\n",
              "<svg xmlns=\"http://www.w3.org/2000/svg\" height=\"24px\"viewBox=\"0 0 24 24\"\n",
              "     width=\"24px\">\n",
              "    <g>\n",
              "        <path d=\"M19 3H5c-1.1 0-2 .9-2 2v14c0 1.1.9 2 2 2h14c1.1 0 2-.9 2-2V5c0-1.1-.9-2-2-2zM9 17H7v-7h2v7zm4 0h-2V7h2v10zm4 0h-2v-4h2v4z\"/>\n",
              "    </g>\n",
              "</svg>\n",
              "      </button>\n",
              "\n",
              "<style>\n",
              "  .colab-df-quickchart {\n",
              "      --bg-color: #E8F0FE;\n",
              "      --fill-color: #1967D2;\n",
              "      --hover-bg-color: #E2EBFA;\n",
              "      --hover-fill-color: #174EA6;\n",
              "      --disabled-fill-color: #AAA;\n",
              "      --disabled-bg-color: #DDD;\n",
              "  }\n",
              "\n",
              "  [theme=dark] .colab-df-quickchart {\n",
              "      --bg-color: #3B4455;\n",
              "      --fill-color: #D2E3FC;\n",
              "      --hover-bg-color: #434B5C;\n",
              "      --hover-fill-color: #FFFFFF;\n",
              "      --disabled-bg-color: #3B4455;\n",
              "      --disabled-fill-color: #666;\n",
              "  }\n",
              "\n",
              "  .colab-df-quickchart {\n",
              "    background-color: var(--bg-color);\n",
              "    border: none;\n",
              "    border-radius: 50%;\n",
              "    cursor: pointer;\n",
              "    display: none;\n",
              "    fill: var(--fill-color);\n",
              "    height: 32px;\n",
              "    padding: 0;\n",
              "    width: 32px;\n",
              "  }\n",
              "\n",
              "  .colab-df-quickchart:hover {\n",
              "    background-color: var(--hover-bg-color);\n",
              "    box-shadow: 0 1px 2px rgba(60, 64, 67, 0.3), 0 1px 3px 1px rgba(60, 64, 67, 0.15);\n",
              "    fill: var(--button-hover-fill-color);\n",
              "  }\n",
              "\n",
              "  .colab-df-quickchart-complete:disabled,\n",
              "  .colab-df-quickchart-complete:disabled:hover {\n",
              "    background-color: var(--disabled-bg-color);\n",
              "    fill: var(--disabled-fill-color);\n",
              "    box-shadow: none;\n",
              "  }\n",
              "\n",
              "  .colab-df-spinner {\n",
              "    border: 2px solid var(--fill-color);\n",
              "    border-color: transparent;\n",
              "    border-bottom-color: var(--fill-color);\n",
              "    animation:\n",
              "      spin 1s steps(1) infinite;\n",
              "  }\n",
              "\n",
              "  @keyframes spin {\n",
              "    0% {\n",
              "      border-color: transparent;\n",
              "      border-bottom-color: var(--fill-color);\n",
              "      border-left-color: var(--fill-color);\n",
              "    }\n",
              "    20% {\n",
              "      border-color: transparent;\n",
              "      border-left-color: var(--fill-color);\n",
              "      border-top-color: var(--fill-color);\n",
              "    }\n",
              "    30% {\n",
              "      border-color: transparent;\n",
              "      border-left-color: var(--fill-color);\n",
              "      border-top-color: var(--fill-color);\n",
              "      border-right-color: var(--fill-color);\n",
              "    }\n",
              "    40% {\n",
              "      border-color: transparent;\n",
              "      border-right-color: var(--fill-color);\n",
              "      border-top-color: var(--fill-color);\n",
              "    }\n",
              "    60% {\n",
              "      border-color: transparent;\n",
              "      border-right-color: var(--fill-color);\n",
              "    }\n",
              "    80% {\n",
              "      border-color: transparent;\n",
              "      border-right-color: var(--fill-color);\n",
              "      border-bottom-color: var(--fill-color);\n",
              "    }\n",
              "    90% {\n",
              "      border-color: transparent;\n",
              "      border-bottom-color: var(--fill-color);\n",
              "    }\n",
              "  }\n",
              "</style>\n",
              "\n",
              "      <script>\n",
              "        async function quickchart(key) {\n",
              "          const quickchartButtonEl =\n",
              "            document.querySelector('#' + key + ' button');\n",
              "          quickchartButtonEl.disabled = true;  // To prevent multiple clicks.\n",
              "          quickchartButtonEl.classList.add('colab-df-spinner');\n",
              "          try {\n",
              "            const charts = await google.colab.kernel.invokeFunction(\n",
              "                'suggestCharts', [key], {});\n",
              "          } catch (error) {\n",
              "            console.error('Error during call to suggestCharts:', error);\n",
              "          }\n",
              "          quickchartButtonEl.classList.remove('colab-df-spinner');\n",
              "          quickchartButtonEl.classList.add('colab-df-quickchart-complete');\n",
              "        }\n",
              "        (() => {\n",
              "          let quickchartButtonEl =\n",
              "            document.querySelector('#df-8955d349-98f5-4dc9-ade3-a6daf24b82b1 button');\n",
              "          quickchartButtonEl.style.display =\n",
              "            google.colab.kernel.accessAllowed ? 'block' : 'none';\n",
              "        })();\n",
              "      </script>\n",
              "    </div>\n",
              "\n",
              "    </div>\n",
              "  </div>\n"
            ],
            "application/vnd.google.colaboratory.intrinsic+json": {
              "type": "dataframe",
              "summary": "{\n  \"name\": \"# merged_df\",\n  \"rows\": 10,\n  \"fields\": [\n    {\n      \"column\": \"text\",\n      \"properties\": {\n        \"dtype\": \"string\",\n        \"num_unique_values\": 10,\n        \"samples\": [\n          \"tip for finding pedos since thats the popular topic rn pedos usually have an account with no information on it most of the time its their burner account so if u see someone dm you with an account like that make sure to be cautious talking to them\",\n          \"as a woman who supports a pussygrabber for a president its not surprising that you also thank a man who calls his female congressional colleague disgusting amp a fucking bitch at work i wonder how you feel when you your daughters or mom are called fucking bitches by men\",\n          \"i keep waiting for certain landmarks in lifein elementary school i told myself middle school would be better and i wouldnt be sad in middle school i told myself high school would be better and i wouldnt feel suicidal now im telling myself im just about done high school then i can move away and hopefully stop idealizing suicide or at least stop attempting it i just know that its not true and i feel like i should just stop progressing in life because no matter whats going on externally i feel like complete shit internally\"\n        ],\n        \"semantic_type\": \"\",\n        \"description\": \"\"\n      }\n    },\n    {\n      \"column\": \"status\",\n      \"properties\": {\n        \"dtype\": \"string\",\n        \"num_unique_values\": 7,\n        \"samples\": [\n          \"gender_cb\",\n          \"ethnicity_cb\",\n          \"non_suicide\"\n        ],\n        \"semantic_type\": \"\",\n        \"description\": \"\"\n      }\n    },\n    {\n      \"column\": \"encoded_status\",\n      \"properties\": {\n        \"dtype\": \"int8\",\n        \"num_unique_values\": 7,\n        \"samples\": [\n          4,\n          3,\n          5\n        ],\n        \"semantic_type\": \"\",\n        \"description\": \"\"\n      }\n    }\n  ]\n}"
            }
          },
          "metadata": {},
          "execution_count": 51
        }
      ],
      "execution_count": 51
    },
    {
      "cell_type": "code",
      "source": [
        "# Saving the merged dataset (Cleaned and merged) for easy use\n",
        "\n",
        "merged_df.to_csv('merged_df.csv', index = False)"
      ],
      "metadata": {
        "trusted": true,
        "execution": {
          "iopub.status.busy": "2025-08-24T10:28:36.607006Z",
          "iopub.execute_input": "2025-08-24T10:28:36.607336Z",
          "iopub.status.idle": "2025-08-24T10:28:36.981267Z",
          "shell.execute_reply.started": "2025-08-24T10:28:36.607296Z",
          "shell.execute_reply": "2025-08-24T10:28:36.980143Z"
        },
        "id": "dZNT6fwpY-Fi"
      },
      "outputs": [],
      "execution_count": 52
    },
    {
      "cell_type": "markdown",
      "source": [
        "## Model Traing and Evaluation"
      ],
      "metadata": {
        "id": "pxftOp9RY-Fi"
      }
    },
    {
      "cell_type": "code",
      "source": [
        "# !pip install torch==2.0.1 torchvision==0.15.2 --force-reinstall\n",
        "import torch\n",
        "from transformers import BertTokenizer, BertModel\n",
        "from sklearn.decomposition import PCA\n",
        "from sklearn.feature_extraction.text import TfidfVectorizer\n",
        "import matplotlib.pyplot as plt\n",
        "import seaborn as sns\n",
        "\n",
        "# Sample a subset to visualize\n",
        "sample_df = merged_df.sample(n=min(1000, len(merged_df)), random_state=42).copy()\n",
        "texts = sample_df[\"text\"].astype(str).tolist()\n",
        "labels = sample_df[\"status\"]\n",
        "\n",
        "# ------------------------\n",
        "# BERT Embeddings (CLS token)\n",
        "# ------------------------\n",
        "device = torch.device(\"cuda\" if torch.cuda.is_available() else \"cpu\")\n",
        "tokenizer = BertTokenizer.from_pretrained(\"bert-base-uncased\")\n",
        "bert_model = BertModel.from_pretrained(\"bert-base-uncased\").to(device)\n",
        "bert_model.eval()"
      ],
      "metadata": {
        "trusted": true,
        "execution": {
          "iopub.status.busy": "2025-08-24T10:28:36.982379Z",
          "iopub.execute_input": "2025-08-24T10:28:36.982723Z",
          "iopub.status.idle": "2025-08-24T10:28:40.497392Z",
          "shell.execute_reply.started": "2025-08-24T10:28:36.982689Z",
          "shell.execute_reply": "2025-08-24T10:28:40.496378Z"
        },
        "colab": {
          "base_uri": "https://localhost:8080/",
          "height": 934,
          "referenced_widgets": [
            "00fb46db6dff485faf69088859351c71",
            "7c46b6b7e40f44c0b83875d32f2bdcae",
            "3155fdf93226444d95c9d87c3177e465",
            "92694b1bc05c4c498e44ee2663fa3931",
            "2cbfdf5b1f454d7db12c4ca6644fe079",
            "29d98696af68415ea3fe2c658b32d48b",
            "c195930490844182b62bda5b29293e1f",
            "95ab6763136f4bde8a55a5d33ee83aa1",
            "da506534f52f41b1bfe26f89e483c20f",
            "52f37a4a214b441d939d6f402ce0d3ee",
            "a0b45fdf72174d5b93261487923682fd",
            "de2c70786dfe4b36b01b24cccc0c5643",
            "d433ec528d5e43818c700bb6c34b2737",
            "c4e308d830484c99b0994bf7853e1571",
            "b47e5a7960944d33b0b9207bff6478f3",
            "faca5ab404fc4b8b9c67179489164e07",
            "4745c5a81fc7498ba8af2ba95d87aa48",
            "6cbcc47f041e4a1a9e3d90dbcccb3a6e",
            "339a75743a0247458bb57ea197e4dfc9",
            "f8b08fc908f94f5aa0e9e5f9823c0938",
            "2154446f5f884370aa27b98b58390fdf",
            "6c1be4a8f4724bc593eb4c1f12ba0c3a",
            "dcb65f37a4ba476088db17ffed8cedd0",
            "a41d91e448794ec2b179dd4c7701451a",
            "5f5c24cc4ce7408fa67944f6a91aadab",
            "5a5506a3b93149e3b8271b4496a3eec9",
            "5bcf6f30dfaa44dc8af0dedd11d13827",
            "75decf9fe6604de29983f811ee75d3a5",
            "1c0193472ecd4722a386e3f5122179f9",
            "90f740951c8c4b9fac22268398487834",
            "4350636a2f3a4f4da5d7bc9c5623c943",
            "3da7838f06374373bfeb10e88847e686",
            "ae0a2cb3e80b4c788eb2a0d8e9397898",
            "8696f1bda02a4ab6a0c54e1ba488ffd6",
            "4bc1f059a19f4277b3eec3bea28eb6e1",
            "5bca3385e28a4456a0881e30a0819800",
            "d1333fbb35ea42b19f6c26c64d29f87d",
            "c167ae33939b4c5aaf7f268276a9b9f2",
            "f888ec2a024643b0b7d1c5c31f2723bb",
            "db88a6c3630f46c6bfd65d2f49f5a54d",
            "2a62fbe9f14a4ebd8a0483871f9e1aeb",
            "3eaf159f079b4be2b513d8d08368e84a",
            "7b4d8027c78e45d694b3bd63257a277c",
            "86a48527423443a984138a8e7767da02",
            "067de1e80ce645f083e0dad2743ecb10",
            "0ec9d85cfa6d497396385cc68258a87b",
            "51f28f1a591a4d74884927c803c5f5f4",
            "59fc486f4639492f8d355f120ed75f16",
            "b482766ae4e64c40844df32c3569d964",
            "be2d2c691bfc4a8db74afb20b9d73bc1",
            "edb08e37710f425fb636a356bcad773c",
            "3c4a8401ed554c28bfd02f7692d7198e",
            "8696b422d7c64b99a82f613f4ded6875",
            "fd22ae94f4ea4973918e5cc3cc156027",
            "d033ef6d485a414e8994b990a1ad7122"
          ]
        },
        "id": "4FPO51CLY-Fi",
        "outputId": "d6602c2d-586c-498c-fd5f-e7acb65f56af"
      },
      "outputs": [
        {
          "output_type": "display_data",
          "data": {
            "text/plain": [
              "tokenizer_config.json:   0%|          | 0.00/48.0 [00:00<?, ?B/s]"
            ],
            "application/vnd.jupyter.widget-view+json": {
              "version_major": 2,
              "version_minor": 0,
              "model_id": "00fb46db6dff485faf69088859351c71"
            }
          },
          "metadata": {}
        },
        {
          "output_type": "display_data",
          "data": {
            "text/plain": [
              "vocab.txt:   0%|          | 0.00/232k [00:00<?, ?B/s]"
            ],
            "application/vnd.jupyter.widget-view+json": {
              "version_major": 2,
              "version_minor": 0,
              "model_id": "de2c70786dfe4b36b01b24cccc0c5643"
            }
          },
          "metadata": {}
        },
        {
          "output_type": "display_data",
          "data": {
            "text/plain": [
              "tokenizer.json:   0%|          | 0.00/466k [00:00<?, ?B/s]"
            ],
            "application/vnd.jupyter.widget-view+json": {
              "version_major": 2,
              "version_minor": 0,
              "model_id": "dcb65f37a4ba476088db17ffed8cedd0"
            }
          },
          "metadata": {}
        },
        {
          "output_type": "display_data",
          "data": {
            "text/plain": [
              "config.json:   0%|          | 0.00/570 [00:00<?, ?B/s]"
            ],
            "application/vnd.jupyter.widget-view+json": {
              "version_major": 2,
              "version_minor": 0,
              "model_id": "8696f1bda02a4ab6a0c54e1ba488ffd6"
            }
          },
          "metadata": {}
        },
        {
          "output_type": "display_data",
          "data": {
            "text/plain": [
              "model.safetensors:   0%|          | 0.00/440M [00:00<?, ?B/s]"
            ],
            "application/vnd.jupyter.widget-view+json": {
              "version_major": 2,
              "version_minor": 0,
              "model_id": "067de1e80ce645f083e0dad2743ecb10"
            }
          },
          "metadata": {}
        },
        {
          "output_type": "execute_result",
          "data": {
            "text/plain": [
              "BertModel(\n",
              "  (embeddings): BertEmbeddings(\n",
              "    (word_embeddings): Embedding(30522, 768, padding_idx=0)\n",
              "    (position_embeddings): Embedding(512, 768)\n",
              "    (token_type_embeddings): Embedding(2, 768)\n",
              "    (LayerNorm): LayerNorm((768,), eps=1e-12, elementwise_affine=True)\n",
              "    (dropout): Dropout(p=0.1, inplace=False)\n",
              "  )\n",
              "  (encoder): BertEncoder(\n",
              "    (layer): ModuleList(\n",
              "      (0-11): 12 x BertLayer(\n",
              "        (attention): BertAttention(\n",
              "          (self): BertSdpaSelfAttention(\n",
              "            (query): Linear(in_features=768, out_features=768, bias=True)\n",
              "            (key): Linear(in_features=768, out_features=768, bias=True)\n",
              "            (value): Linear(in_features=768, out_features=768, bias=True)\n",
              "            (dropout): Dropout(p=0.1, inplace=False)\n",
              "          )\n",
              "          (output): BertSelfOutput(\n",
              "            (dense): Linear(in_features=768, out_features=768, bias=True)\n",
              "            (LayerNorm): LayerNorm((768,), eps=1e-12, elementwise_affine=True)\n",
              "            (dropout): Dropout(p=0.1, inplace=False)\n",
              "          )\n",
              "        )\n",
              "        (intermediate): BertIntermediate(\n",
              "          (dense): Linear(in_features=768, out_features=3072, bias=True)\n",
              "          (intermediate_act_fn): GELUActivation()\n",
              "        )\n",
              "        (output): BertOutput(\n",
              "          (dense): Linear(in_features=3072, out_features=768, bias=True)\n",
              "          (LayerNorm): LayerNorm((768,), eps=1e-12, elementwise_affine=True)\n",
              "          (dropout): Dropout(p=0.1, inplace=False)\n",
              "        )\n",
              "      )\n",
              "    )\n",
              "  )\n",
              "  (pooler): BertPooler(\n",
              "    (dense): Linear(in_features=768, out_features=768, bias=True)\n",
              "    (activation): Tanh()\n",
              "  )\n",
              ")"
            ]
          },
          "metadata": {},
          "execution_count": 53
        }
      ],
      "execution_count": 53
    },
    {
      "cell_type": "code",
      "source": [
        "from sklearn.feature_extraction.text import TfidfVectorizer\n",
        "from sklearn.model_selection import train_test_split\n",
        "\n",
        "# Full TF-IDF on merged_df\n",
        "vectorizer = TfidfVectorizer(max_features=1000, stop_words=\"english\", ngram_range=(1, 2))\n",
        "X_tfidf = vectorizer.fit_transform(merged_df[\"text\"].astype(str)).toarray()\n",
        "\n",
        "\n",
        "# Assuming BERT model and tokenizer are loaded\n",
        "def get_bert_embedding(text):\n",
        "    inputs = tokenizer(text, return_tensors=\"pt\", truncation=True, padding=True, max_length=128).to(device)\n",
        "    with torch.no_grad():\n",
        "        outputs = bert_model(**inputs)\n",
        "    return outputs.last_hidden_state[:, 0, :].cpu().numpy().flatten()\n",
        "\n",
        "merged_df[\"bert_embedding\"] = merged_df[\"text\"].astype(str).apply(get_bert_embedding)\n",
        "X_bert = np.vstack(merged_df[\"bert_embedding\"])\n",
        "\n",
        "\n",
        "y = merged_df[\"encoded_status\"].values\n",
        "\n",
        "X_train_tfidf, X_test_tfidf, y_train, y_test = train_test_split(X_tfidf, y, test_size=0.2, random_state=42)\n",
        "X_train_bert, X_test_bert, _, _ = train_test_split(X_bert, y, test_size=0.2, random_state=42)\n"
      ],
      "metadata": {
        "trusted": true,
        "execution": {
          "iopub.status.busy": "2025-08-18T20:08:27.284263Z",
          "iopub.execute_input": "2025-08-18T20:08:27.284880Z",
          "iopub.status.idle": "2025-08-18T20:13:26.185934Z",
          "shell.execute_reply.started": "2025-08-18T20:08:27.284852Z",
          "shell.execute_reply": "2025-08-18T20:13:26.185128Z"
        },
        "id": "Z9NmKy5NY-Fi"
      },
      "outputs": [],
      "execution_count": null
    },
    {
      "cell_type": "markdown",
      "source": [
        "# Storing Model results"
      ],
      "metadata": {
        "id": "xV9j7gorY-Fi"
      }
    },
    {
      "cell_type": "code",
      "source": [
        "def store_model_results(name, y_true, y_pred, class_names, results_dict):\n",
        "    \"\"\"\n",
        "    Calculates and stores model evaluation metrics.\n",
        "\n",
        "    Correction:\n",
        "    - The `labels` parameter is now used in both `classification_report` and `confusion_matrix`\n",
        "      to enforce a consistent ordering based on the `class_names` passed to the function.\n",
        "    - `zero_division=0` is added to prevent warnings if a class has no predictions.\n",
        "    \"\"\"\n",
        "    # Explicitly set the label order for the report and the confusion matrix.\n",
        "    report = classification_report(y_true, y_pred, output_dict=True, labels=class_names, target_names=class_names, zero_division=0)\n",
        "    conf_matrix = confusion_matrix(y_true, y_pred, labels=class_names)\n",
        "\n",
        "    results_dict[name] = {\n",
        "        'accuracy': accuracy_score(y_true, y_pred),\n",
        "        'macro_f1': report['macro avg']['f1-score'],\n",
        "        'weighted_f1': report['weighted avg']['f1-score'],\n",
        "        'precision': report['macro avg']['precision'],\n",
        "        'recall': report['macro avg']['recall'],\n",
        "        # This list comprehension now correctly aligns with the confusion matrix ordering.\n",
        "        'class_f1': [report[c]['f1-score'] for c in class_names],\n",
        "        'class_recall': [report[c]['recall'] for c in class_names],\n",
        "        'class_precision': [report[c]['precision'] for c in class_names],\n",
        "        'confusion': conf_matrix\n",
        "    }"
      ],
      "metadata": {
        "trusted": true,
        "execution": {
          "iopub.status.busy": "2025-08-19T20:22:00.627213Z",
          "iopub.execute_input": "2025-08-19T20:22:00.627911Z",
          "iopub.status.idle": "2025-08-19T20:22:00.634709Z",
          "shell.execute_reply.started": "2025-08-19T20:22:00.627879Z",
          "shell.execute_reply": "2025-08-19T20:22:00.633474Z"
        },
        "id": "nD1YHbjbY-Fi"
      },
      "outputs": [],
      "execution_count": null
    },
    {
      "cell_type": "markdown",
      "source": [
        "## TFIDF Embeddings + Logistic Regression"
      ],
      "metadata": {
        "id": "PsUigXIxY-Fi"
      }
    },
    {
      "cell_type": "code",
      "source": [
        "from sklearn.metrics import classification_report, confusion_matrix, accuracy_score\n"
      ],
      "metadata": {
        "trusted": true,
        "execution": {
          "iopub.status.busy": "2025-08-24T11:03:58.919874Z",
          "iopub.execute_input": "2025-08-24T11:03:58.920246Z",
          "iopub.status.idle": "2025-08-24T11:03:58.924595Z",
          "shell.execute_reply.started": "2025-08-24T11:03:58.920218Z",
          "shell.execute_reply": "2025-08-24T11:03:58.923490Z"
        },
        "id": "Gu7HZdU_Y-Fi"
      },
      "outputs": [],
      "execution_count": null
    },
    {
      "cell_type": "code",
      "source": [
        "# Recompute if necessary\n",
        "from sklearn.feature_extraction.text import TfidfVectorizer\n",
        "from sklearn.linear_model import LogisticRegressionCV\n",
        "\n",
        "class_names = merged_df[\"status\"].astype(\"category\").cat.categories.tolist()\n",
        "\n",
        "from sklearn.linear_model import LogisticRegression\n",
        "from sklearn.metrics import classification_report, confusion_matrix, accuracy_score\n",
        "\n",
        "# Initialize results dict\n",
        "model_results = {}\n",
        "\n",
        "clf_tfidf_logreg = LogisticRegressionCV(\n",
        "    Cs=[0.1, 1, 10],\n",
        "    multi_class='multinomial',\n",
        "    solver='saga',\n",
        "    max_iter=1000,\n",
        "    cv=3,\n",
        "    scoring='f1_macro',\n",
        "    n_jobs=-1,\n",
        "    verbose=1\n",
        ")\n",
        "\n",
        "clf_tfidf_logreg.fit(X_train_tfidf, y_train)\n",
        "\n",
        "# Predict\n",
        "y_pred_tfidf_logreg = clf_tfidf_logreg.predict(X_test_tfidf)"
      ],
      "metadata": {
        "trusted": true,
        "execution": {
          "iopub.status.busy": "2025-07-21T21:38:33.036043Z",
          "iopub.execute_input": "2025-07-21T21:38:33.036265Z",
          "iopub.status.idle": "2025-07-21T21:40:41.982116Z",
          "shell.execute_reply.started": "2025-07-21T21:38:33.036244Z",
          "shell.execute_reply": "2025-07-21T21:40:41.981127Z"
        },
        "id": "ewy2ZxEOY-Fi"
      },
      "outputs": [],
      "execution_count": null
    },
    {
      "cell_type": "markdown",
      "source": [
        "### Saving the Model Results"
      ],
      "metadata": {
        "id": "4-eRRNirY-Fi"
      }
    },
    {
      "cell_type": "code",
      "source": [
        "# Store results\n",
        "store_model_results(\"TFIDF_LogReg\", y_test, y_pred_tfidf_logreg, clf_tfidf_logreg.classes_, model_results)\n",
        "\n",
        "\n",
        "# store_model_results(\"TFIDF_LogReg\", y_test, y_pred_tfidf_logreg, class_names, model_results)\n",
        "\n",
        "print(\"\\n=== TF-IDF + Logistic Regression Classification Report ===\")\n",
        "print(classification_report(y_test, y_pred_tfidf_logreg, target_names=class_names))"
      ],
      "metadata": {
        "trusted": true,
        "execution": {
          "iopub.status.busy": "2025-07-21T21:40:41.983124Z",
          "iopub.execute_input": "2025-07-21T21:40:41.983435Z",
          "iopub.status.idle": "2025-07-21T21:40:42.024939Z",
          "shell.execute_reply.started": "2025-07-21T21:40:41.983402Z",
          "shell.execute_reply": "2025-07-21T21:40:42.024233Z"
        },
        "id": "f34AxIscY-Fi"
      },
      "outputs": [],
      "execution_count": null
    },
    {
      "cell_type": "code",
      "source": [
        "# View results\n",
        "# model_results['TFIDF_LogReg']"
      ],
      "metadata": {
        "trusted": true,
        "execution": {
          "iopub.status.busy": "2025-07-21T21:40:42.025713Z",
          "iopub.execute_input": "2025-07-21T21:40:42.025941Z",
          "iopub.status.idle": "2025-07-21T21:40:42.033469Z",
          "shell.execute_reply.started": "2025-07-21T21:40:42.025908Z",
          "shell.execute_reply": "2025-07-21T21:40:42.032612Z"
        },
        "id": "D5x1QR5uY-Fi"
      },
      "outputs": [],
      "execution_count": null
    },
    {
      "cell_type": "code",
      "source": [
        "# Save the trained model for easy reuse\n",
        "import joblib\n",
        "joblib.dump(clf_tfidf_logreg, 'tfidf_logreg_cv_model.joblib')"
      ],
      "metadata": {
        "trusted": true,
        "execution": {
          "iopub.status.busy": "2025-07-21T21:40:42.034439Z",
          "iopub.execute_input": "2025-07-21T21:40:42.034741Z",
          "iopub.status.idle": "2025-07-21T21:40:42.063368Z",
          "shell.execute_reply.started": "2025-07-21T21:40:42.034713Z",
          "shell.execute_reply": "2025-07-21T21:40:42.062369Z"
        },
        "id": "kdENKQBWY-Fi"
      },
      "outputs": [],
      "execution_count": null
    },
    {
      "cell_type": "code",
      "source": [
        "# FOR REUSE == TESTING\n",
        "# Load the saved model\n",
        "clf_tfidf_logreg = joblib.load('tfidf_logreg_cv_model.joblib')\n",
        "\n",
        "# Use it to predict\n",
        "y_pred = clf_tfidf_logreg.predict(X_test_tfidf)\n",
        "\n",
        "print(\"\\n=== TF-IDF + Logistic Regression Classification Report ===\")\n",
        "print(classification_report(y_test, y_pred_tfidf_logreg, target_names=class_names))\n"
      ],
      "metadata": {
        "trusted": true,
        "execution": {
          "iopub.status.busy": "2025-07-21T21:40:42.064183Z",
          "iopub.execute_input": "2025-07-21T21:40:42.064386Z",
          "iopub.status.idle": "2025-07-21T21:40:42.102984Z",
          "shell.execute_reply.started": "2025-07-21T21:40:42.064358Z",
          "shell.execute_reply": "2025-07-21T21:40:42.102085Z"
        },
        "id": "4XQio2hKY-Fi"
      },
      "outputs": [],
      "execution_count": null
    },
    {
      "cell_type": "markdown",
      "source": [
        "# SVM + TF-IDF Embeddings"
      ],
      "metadata": {
        "id": "5rSsIoYSY-Fi"
      }
    },
    {
      "cell_type": "code",
      "source": [
        "from sklearn.svm import SVC\n",
        "from sklearn.model_selection import GridSearchCV\n",
        "from sklearn.metrics import classification_report\n",
        "import joblib\n",
        "\n",
        "# Define hyperparameter grid\n",
        "param_grid = {\n",
        "    'C': [0.01, 0.1, 1, 10],      # Regularization strengths to try\n",
        "    'kernel': ['linear']\n",
        "}\n",
        "grid_search = GridSearchCV(\n",
        "    estimator=SVC(kernel='linear'),   # REMOVE probability=True here!\n",
        "    param_grid={'C': [0.01, 0.1, 1, 10]},\n",
        "    scoring='f1_macro',\n",
        "    cv=5,\n",
        "    n_jobs=-1,\n",
        "    verbose=2\n",
        ")\n",
        "\n",
        "# Train with cross-validation\n",
        "grid_search.fit(X_train_tfidf, y_train)\n",
        "\n",
        "# Best estimator\n",
        "clf_tfidf_svm = grid_search.best_estimator_\n",
        "\n",
        "# Predict on test data\n",
        "y_pred_tfidf_svm = clf_tfidf_svm.predict(X_test_tfidf)"
      ],
      "metadata": {
        "trusted": true,
        "execution": {
          "iopub.status.busy": "2025-07-21T21:40:42.103974Z",
          "iopub.execute_input": "2025-07-21T21:40:42.104238Z",
          "iopub.status.idle": "2025-07-21T22:16:56.056041Z",
          "shell.execute_reply.started": "2025-07-21T21:40:42.104216Z",
          "shell.execute_reply": "2025-07-21T22:16:56.054856Z"
        },
        "id": "Qc1Zca9RY-Fi"
      },
      "outputs": [],
      "execution_count": null
    },
    {
      "cell_type": "code",
      "source": [
        "# Print classification report\n",
        "print(\"\\n=== TF-IDF + SVM (with GridSearchCV) Classification Report ===\")\n",
        "\n",
        "print(classification_report(y_test, y_pred_tfidf_svm, target_names=class_names))\n",
        "\n",
        "# Store results\n",
        "store_model_results(\"TFIDF_SVM_GridCV\", y_test, y_pred_tfidf_svm, clf_tfidf_svm.classes_, model_results)\n",
        "\n",
        "# Save best model\n",
        "joblib.dump(clf_tfidf_svm, \"tfidf_svm_gridcv_model.joblib\")"
      ],
      "metadata": {
        "trusted": true,
        "execution": {
          "iopub.status.busy": "2025-07-21T22:16:56.057531Z",
          "iopub.execute_input": "2025-07-21T22:16:56.057920Z",
          "iopub.status.idle": "2025-07-21T22:16:56.286183Z",
          "shell.execute_reply.started": "2025-07-21T22:16:56.057866Z",
          "shell.execute_reply": "2025-07-21T22:16:56.285228Z"
        },
        "id": "TFGllIUTY-Fi"
      },
      "outputs": [],
      "execution_count": null
    },
    {
      "cell_type": "markdown",
      "source": [
        "# BERT Embeddings + LogReg"
      ],
      "metadata": {
        "id": "m7zVBChMY-Fj"
      }
    },
    {
      "cell_type": "code",
      "source": [
        "# Train\n",
        "clf_bert_logreg = LogisticRegression(max_iter=1000, solver='saga', multi_class='multinomial')\n",
        "clf_bert_logreg.fit(X_train_bert, y_train)\n",
        "\n",
        "# Predict\n",
        "y_pred_bert_logreg = clf_bert_logreg.predict(X_test_bert)\n",
        "\n",
        "# Print report\n",
        "print(\"\\n=== BERT Embeddings + Logistic Regression Classification Report ===\")\n",
        "print(classification_report(y_test, y_pred_bert_logreg, target_names=class_names))\n"
      ],
      "metadata": {
        "trusted": true,
        "execution": {
          "iopub.status.busy": "2025-07-21T22:16:56.287302Z",
          "iopub.execute_input": "2025-07-21T22:16:56.287644Z",
          "iopub.status.idle": "2025-07-21T22:37:14.021135Z",
          "shell.execute_reply.started": "2025-07-21T22:16:56.287612Z",
          "shell.execute_reply": "2025-07-21T22:37:14.019991Z"
        },
        "id": "UhBFHOmQY-Fj"
      },
      "outputs": [],
      "execution_count": null
    },
    {
      "cell_type": "code",
      "source": [
        "# Store results\n",
        "store_model_results(\"BERT_LogReg\", y_test, y_pred_bert_logreg, clf_bert_logreg.classes_, model_results)\n",
        "\n",
        "joblib.dump(y_pred_bert_logreg, 'y_pred_bert_logreg_model.joblib')"
      ],
      "metadata": {
        "trusted": true,
        "execution": {
          "iopub.status.busy": "2025-07-21T22:37:14.022299Z",
          "iopub.execute_input": "2025-07-21T22:37:14.022622Z",
          "iopub.status.idle": "2025-07-21T22:37:14.048706Z",
          "shell.execute_reply.started": "2025-07-21T22:37:14.022597Z",
          "shell.execute_reply": "2025-07-21T22:37:14.047894Z"
        },
        "id": "PM3hwgQIY-Fj"
      },
      "outputs": [],
      "execution_count": null
    },
    {
      "cell_type": "markdown",
      "source": [
        "# BERT Embeddings + RNN"
      ],
      "metadata": {
        "id": "x5O6pnwzY-Fj"
      }
    },
    {
      "cell_type": "code",
      "source": [
        "import torch\n",
        "from torch import nn\n",
        "from torch.utils.data import DataLoader, TensorDataset\n",
        "\n",
        "class SimpleRNN(nn.Module):\n",
        "    def __init__(self, input_dim, hidden_dim, output_dim):\n",
        "        super(SimpleRNN, self).__init__()\n",
        "        self.rnn = nn.RNN(input_dim, hidden_dim, batch_first=True)\n",
        "        self.fc = nn.Linear(hidden_dim, output_dim)\n",
        "\n",
        "    def forward(self, x):\n",
        "        h0 = torch.zeros(1, x.size(0), hidden_dim).to(x.device)\n",
        "        out, _ = self.rnn(x.unsqueeze(1), h0)\n",
        "        return self.fc(out[:, -1, :])\n",
        "\n",
        "# Setup\n",
        "device = torch.device(\"cuda\" if torch.cuda.is_available() else \"cpu\")\n",
        "hidden_dim = 128\n",
        "output_dim = len(class_names)\n",
        "\n",
        "rnn_model = SimpleRNN(X_train_bert.shape[1], hidden_dim, output_dim).to(device)\n",
        "criterion = nn.CrossEntropyLoss()\n",
        "optimizer = torch.optim.Adam(rnn_model.parameters(), lr=0.001)\n",
        "\n",
        "# DataLoader\n",
        "train_data = TensorDataset(torch.FloatTensor(X_train_bert), torch.LongTensor(y_train))\n",
        "train_loader = DataLoader(train_data, batch_size=64, shuffle=True)\n",
        "\n",
        "# Train\n",
        "for epoch in range(5):\n",
        "    rnn_model.train()\n",
        "    for x_batch, y_batch in train_loader:\n",
        "        x_batch, y_batch = x_batch.to(device), y_batch.to(device)\n",
        "        optimizer.zero_grad()\n",
        "        loss = criterion(rnn_model(x_batch), y_batch)\n",
        "        loss.backward()\n",
        "        optimizer.step()\n",
        "\n",
        "# Evaluate\n",
        "rnn_model.eval()\n",
        "with torch.no_grad():\n",
        "    logits = rnn_model(torch.FloatTensor(X_test_bert).to(device))\n",
        "    y_pred_bert_rnn = torch.argmax(logits, dim=1).cpu().numpy()\n",
        "\n",
        "# Print report\n",
        "print(\"\\n=== BERT Embeddings + RNN Classification Report ===\")\n",
        "print(classification_report(y_test, y_pred_bert_rnn, target_names=class_names))\n"
      ],
      "metadata": {
        "trusted": true,
        "execution": {
          "iopub.status.busy": "2025-07-21T22:37:14.049603Z",
          "iopub.execute_input": "2025-07-21T22:37:14.049832Z",
          "iopub.status.idle": "2025-07-21T22:37:18.564228Z",
          "shell.execute_reply.started": "2025-07-21T22:37:14.049812Z",
          "shell.execute_reply": "2025-07-21T22:37:18.563427Z"
        },
        "id": "fL5Pk81AY-Fj"
      },
      "outputs": [],
      "execution_count": null
    },
    {
      "cell_type": "markdown",
      "source": [
        "## Storing model results -- PyTorch Models"
      ],
      "metadata": {
        "id": "1EF0b6jPY-Fj"
      }
    },
    {
      "cell_type": "code",
      "source": [
        "class_names = [\n",
        "    'Age CB', 'Anxiety', 'Bipolar', 'Ethnicity CB', 'Gender CB',\n",
        "    'Not Suicide', 'Personality Disorder', 'Religion CB', 'Stress', 'Suicide'\n",
        "]"
      ],
      "metadata": {
        "trusted": true,
        "execution": {
          "iopub.status.busy": "2025-08-24T10:29:07.025125Z",
          "iopub.execute_input": "2025-08-24T10:29:07.025457Z",
          "iopub.status.idle": "2025-08-24T10:29:07.029934Z",
          "shell.execute_reply.started": "2025-08-24T10:29:07.025433Z",
          "shell.execute_reply": "2025-08-24T10:29:07.028779Z"
        },
        "id": "F7WlR8bMY-Fj"
      },
      "outputs": [],
      "execution_count": null
    },
    {
      "cell_type": "code",
      "source": [
        "def store_model_results2(name, y_true, y_pred, class_names, results_dict):\n",
        "    # Create a list of numerical labels, e.g., [0, 1, 2, ..., 9]\n",
        "    numerical_labels = list(range(len(class_names)))\n",
        "\n",
        "    # For the report, use numerical labels for matching and ordering,\n",
        "    # but the string names for the final dictionary keys.\n",
        "    report = classification_report(y_true, y_pred, output_dict=True,\n",
        "                                   labels=numerical_labels,\n",
        "                                   target_names=class_names,\n",
        "                                   zero_division=0)\n",
        "\n",
        "    # For the confusion matrix, use the correct numerical labels.\n",
        "    conf_matrix = confusion_matrix(y_true, y_pred, labels=numerical_labels)\n",
        "\n",
        "    results_dict[name] = {\n",
        "        'accuracy': accuracy_score(y_true, y_pred),\n",
        "        'macro_f1': report['macro avg']['f1-score'],\n",
        "        'weighted_f1': report['weighted avg']['f1-score'],\n",
        "        'precision': report['macro avg']['precision'],\n",
        "        'recall': report['macro avg']['recall'],\n",
        "        'class_f1': [report[c]['f1-score'] for c in class_names],\n",
        "        'class_recall': [report[c]['recall'] for c in class_names],\n",
        "        'class_precision': [report[c]['precision'] for c in class_names],\n",
        "        'confusion': conf_matrix\n",
        "    }"
      ],
      "metadata": {
        "trusted": true,
        "execution": {
          "iopub.status.busy": "2025-08-24T10:29:09.427092Z",
          "iopub.execute_input": "2025-08-24T10:29:09.427460Z",
          "iopub.status.idle": "2025-08-24T10:29:09.434097Z",
          "shell.execute_reply.started": "2025-08-24T10:29:09.427430Z",
          "shell.execute_reply": "2025-08-24T10:29:09.432877Z"
        },
        "id": "jhVJltHfY-Fj"
      },
      "outputs": [],
      "execution_count": null
    },
    {
      "cell_type": "code",
      "source": [
        "# Store results\n",
        "store_model_results2(\"BERT_RNN\", y_test, y_pred_bert_rnn, class_names, model_results)\n",
        "\n",
        "# Save the model\n",
        "torch.save(rnn_model.state_dict(), \"bert_rnn_model.pt\")\n",
        "\n",
        "# # FOR MODEL REUSE LATER\n",
        "# # Recreate the model architecture\n",
        "# rnn_model = SimpleRNN(X_train_bert.shape[1], hidden_dim, output_dim).to(device)\n",
        "\n",
        "# # Load saved weights\n",
        "# rnn_model.load_state_dict(torch.load(\"bert_rnn_model.pt\"))\n",
        "# rnn_model.eval()  # Set to evaluation mode\n"
      ],
      "metadata": {
        "trusted": true,
        "execution": {
          "iopub.status.busy": "2025-07-21T22:37:18.585893Z",
          "iopub.execute_input": "2025-07-21T22:37:18.586092Z",
          "iopub.status.idle": "2025-07-21T22:37:18.622085Z",
          "shell.execute_reply.started": "2025-07-21T22:37:18.586074Z",
          "shell.execute_reply": "2025-07-21T22:37:18.621476Z"
        },
        "id": "wE8PH-N9Y-Fj"
      },
      "outputs": [],
      "execution_count": null
    },
    {
      "cell_type": "markdown",
      "source": [
        "# BERT Embeddings + DNN\n",
        "\n"
      ],
      "metadata": {
        "id": "IjuD5m0dY-Fj"
      }
    },
    {
      "cell_type": "code",
      "source": [
        "class BERTFeedforward(nn.Module):\n",
        "    def __init__(self, input_dim, hidden_dim, output_dim):\n",
        "        super(BERTFeedforward, self).__init__()\n",
        "        self.net = nn.Sequential(\n",
        "            nn.Linear(input_dim, hidden_dim),\n",
        "            nn.ReLU(),\n",
        "            nn.Dropout(0.3),\n",
        "            nn.Linear(hidden_dim, output_dim)\n",
        "        )\n",
        "\n",
        "    def forward(self, x):\n",
        "        return self.net(x)\n",
        "\n",
        "# Setup\n",
        "device = torch.device(\"cuda\" if torch.cuda.is_available() else \"cpu\")\n",
        "input_dim = X_train_bert.shape[1]\n",
        "hidden_dim = 256\n",
        "output_dim = len(class_names)\n",
        "\n",
        "model_ffn = BERTFeedforward(input_dim, hidden_dim, output_dim).to(device)\n",
        "criterion = nn.CrossEntropyLoss()\n",
        "optimizer = torch.optim.Adam(model_ffn.parameters(), lr=0.001)\n",
        "\n",
        "# DataLoader\n",
        "train_ds = TensorDataset(torch.FloatTensor(X_train_bert), torch.LongTensor(y_train))\n",
        "train_dl = DataLoader(train_ds, batch_size=64, shuffle=True)\n",
        "\n",
        "# Train\n",
        "for epoch in range(5):\n",
        "    model_ffn.train()\n",
        "    for xb, yb in train_dl:\n",
        "        xb, yb = xb.to(device), yb.to(device)\n",
        "        optimizer.zero_grad()\n",
        "        loss = criterion(model_ffn(xb), yb)\n",
        "        loss.backward()\n",
        "        optimizer.step()\n",
        "\n",
        "# Eval\n",
        "model_ffn.eval()\n",
        "with torch.no_grad():\n",
        "    logits = model_ffn(torch.FloatTensor(X_test_bert).to(device))\n",
        "    y_pred_ffn = torch.argmax(logits, dim=1).cpu().numpy()\n",
        "\n",
        "# Print report\n",
        "from sklearn.metrics import classification_report\n",
        "print(\"\\n=== BERT Embeddings + Feedforward NN (DNN) Classification Report ===\")\n",
        "print(classification_report(y_test, y_pred_ffn, target_names=class_names))\n",
        "\n"
      ],
      "metadata": {
        "trusted": true,
        "execution": {
          "iopub.status.busy": "2025-07-21T22:37:18.622834Z",
          "iopub.execute_input": "2025-07-21T22:37:18.623072Z",
          "iopub.status.idle": "2025-07-21T22:37:22.133682Z",
          "shell.execute_reply.started": "2025-07-21T22:37:18.623041Z",
          "shell.execute_reply": "2025-07-21T22:37:22.132771Z"
        },
        "id": "-nn5YRGHY-Fj"
      },
      "outputs": [],
      "execution_count": null
    },
    {
      "cell_type": "code",
      "source": [
        "# Store results\n",
        "store_model_results2(\"BERT_DNN\", y_test, y_pred_ffn, class_names, model_results)\n",
        "\n",
        "# Saving the model\n",
        "torch.save(model_ffn.state_dict(), \"bert_dnn_model.pt\")\n",
        "\n",
        "# # FOR MODEL REUSE\n",
        "\n",
        "# # Recreate the architecture\n",
        "# model_ffn = BERTFeedforward(input_dim, hidden_dim, output_dim).to(device)\n",
        "\n",
        "# # Load weights\n",
        "# model_ffn.load_state_dict(torch.load(\"bert_dnn_model.pt\"))\n",
        "# model_ffn.eval()"
      ],
      "metadata": {
        "trusted": true,
        "execution": {
          "iopub.status.busy": "2025-07-21T22:37:22.137239Z",
          "iopub.execute_input": "2025-07-21T22:37:22.137505Z",
          "iopub.status.idle": "2025-07-21T22:37:22.159698Z",
          "shell.execute_reply.started": "2025-07-21T22:37:22.137482Z",
          "shell.execute_reply": "2025-07-21T22:37:22.159010Z"
        },
        "id": "CnCnjdqFY-Fj"
      },
      "outputs": [],
      "execution_count": null
    },
    {
      "cell_type": "markdown",
      "source": [
        "# Fine-tuned BERT"
      ],
      "metadata": {
        "id": "7oNPfM0pY-Fj"
      }
    },
    {
      "cell_type": "code",
      "source": [
        "from transformers import BertTokenizer, BertForSequenceClassification, AdamW\n",
        "from torch.utils.data import Dataset, DataLoader\n",
        "from sklearn.model_selection import train_test_split\n",
        "\n",
        "# Dataset class for HuggingFace BERT\n",
        "class BERTDataset(Dataset):\n",
        "    def __init__(self, texts, labels, tokenizer, max_len=128):\n",
        "        self.texts = texts\n",
        "        self.labels = labels\n",
        "        self.tokenizer = tokenizer\n",
        "        self.max_len = max_len\n",
        "\n",
        "    def __len__(self):\n",
        "        return len(self.texts)\n",
        "\n",
        "    def __getitem__(self, idx):\n",
        "        inputs = self.tokenizer(self.texts[idx], padding='max_length', truncation=True,\n",
        "                                max_length=self.max_len, return_tensors=\"pt\")\n",
        "        return {\n",
        "            'input_ids': inputs['input_ids'].squeeze(0),\n",
        "            'attention_mask': inputs['attention_mask'].squeeze(0),\n",
        "            'labels': torch.tensor(self.labels[idx], dtype=torch.long)\n",
        "        }\n",
        "\n",
        "# Data split\n",
        "texts = merged_df[\"text\"].astype(str).tolist()\n",
        "labels = merged_df[\"encoded_status\"].values.tolist()\n",
        "X_train_text, X_test_text, y_train_text, y_test_text = train_test_split(texts, labels, test_size=0.2, random_state=42)\n",
        "\n",
        "# Tokenizer and model\n",
        "tokenizer = BertTokenizer.from_pretrained('bert-base-uncased')\n",
        "bert_model = BertForSequenceClassification.from_pretrained('bert-base-uncased', num_labels=len(class_names)).to(device)\n",
        "\n",
        "# Dataset + Dataloader\n",
        "train_ds = BERTDataset(X_train_text, y_train_text, tokenizer)\n",
        "test_ds = BERTDataset(X_test_text, y_test_text, tokenizer)\n",
        "train_dl = DataLoader(train_ds, batch_size=16, shuffle=True)\n",
        "test_dl = DataLoader(test_ds, batch_size=16)\n",
        "\n",
        "# Optimizer\n",
        "optimizer = AdamW(bert_model.parameters(), lr=2e-5)\n",
        "\n",
        "# Training loop (3 epochs)\n",
        "bert_model.train()\n",
        "for epoch in range(6):\n",
        "    for batch in train_dl:\n",
        "        optimizer.zero_grad()\n",
        "        outputs = bert_model(\n",
        "            input_ids=batch['input_ids'].to(device),\n",
        "            attention_mask=batch['attention_mask'].to(device),\n",
        "            labels=batch['labels'].to(device)\n",
        "        )\n",
        "        loss = outputs.loss\n",
        "        loss.backward()\n",
        "        optimizer.step()\n",
        "    print(f\"Epoch {epoch+1} completed. Loss: {loss.item():.4f}\")\n",
        "\n",
        "# Evaluation\n",
        "bert_model.eval()\n",
        "preds, true = [], []\n",
        "with torch.no_grad():\n",
        "    for batch in test_dl:\n",
        "        outputs = bert_model(\n",
        "            input_ids=batch['input_ids'].to(device),\n",
        "            attention_mask=batch['attention_mask'].to(device)\n",
        "        )\n",
        "        logits = outputs.logits\n",
        "        preds.extend(logits.argmax(dim=1).cpu().numpy())\n",
        "        true.extend(batch['labels'].cpu().numpy())\n",
        "\n",
        "# Print report\n",
        "from sklearn.metrics import classification_report\n",
        "print(\"\\n=== Fine-Tuned BERT Classification Report ===\")\n",
        "print(classification_report(true, preds, target_names=class_names))"
      ],
      "metadata": {
        "trusted": true,
        "execution": {
          "iopub.status.busy": "2025-08-24T10:29:22.502235Z",
          "iopub.execute_input": "2025-08-24T10:29:22.502571Z",
          "iopub.status.idle": "2025-08-24T11:02:40.254856Z",
          "shell.execute_reply.started": "2025-08-24T10:29:22.502545Z",
          "shell.execute_reply": "2025-08-24T11:02:40.253478Z"
        },
        "id": "I1oeZZ0nY-Fj"
      },
      "outputs": [],
      "execution_count": null
    },
    {
      "cell_type": "code",
      "source": [
        "from sklearn.metrics import classification_report, confusion_matrix, accuracy_score\n"
      ],
      "metadata": {
        "trusted": true,
        "execution": {
          "iopub.status.busy": "2025-08-24T11:04:17.143491Z",
          "iopub.execute_input": "2025-08-24T11:04:17.143848Z",
          "iopub.status.idle": "2025-08-24T11:04:17.147853Z",
          "shell.execute_reply.started": "2025-08-24T11:04:17.143818Z",
          "shell.execute_reply": "2025-08-24T11:04:17.146841Z"
        },
        "id": "IPVUmUy-Y-Fj"
      },
      "outputs": [],
      "execution_count": null
    },
    {
      "cell_type": "code",
      "source": [
        "model_results = {}\n",
        "# Store results\n",
        "store_model_results2(\"BERT_Finetuned\", true, preds, class_names, model_results)\n",
        "\n",
        "# SAVING THE MODEL\n",
        "\n",
        "# Save model and tokenizer\n",
        "bert_model.save_pretrained(\"bert_finetuned_model\")\n",
        "tokenizer.save_pretrained(\"bert_finetuned_model\")\n",
        "\n",
        "\n",
        "\n"
      ],
      "metadata": {
        "trusted": true,
        "execution": {
          "iopub.status.busy": "2025-08-24T11:04:20.304178Z",
          "iopub.execute_input": "2025-08-24T11:04:20.304504Z",
          "iopub.status.idle": "2025-08-24T11:04:21.763684Z",
          "shell.execute_reply.started": "2025-08-24T11:04:20.304478Z",
          "shell.execute_reply": "2025-08-24T11:04:21.762773Z"
        },
        "id": "TBikxpTLY-Fj"
      },
      "outputs": [],
      "execution_count": null
    },
    {
      "cell_type": "code",
      "source": [
        "# # FOR MODEL REUSE\n",
        "\n",
        "# from transformers import BertTokenizer, BertForSequenceClassification\n",
        "\n",
        "# # Load model and tokenizer\n",
        "# tokenizer = BertTokenizer.from_pretrained(\"bert_finetuned_model\")\n",
        "# finetuned_bert_model = BertForSequenceClassification.from_pretrained(\"bert_finetuned_model\").to(device)\n",
        "\n",
        "\n",
        "# # Example inference\n",
        "# inputs = tokenizer(\"some input text\", return_tensors=\"pt\", padding=True, truncation=True, max_length=128)\n",
        "# inputs = {k: v.to(device) for k, v in inputs.items()}\n",
        "# outputs = bert_model(**inputs)\n",
        "# predicted_class = outputs.logits.argmax(dim=1).item()"
      ],
      "metadata": {
        "trusted": true,
        "execution": {
          "iopub.status.busy": "2025-08-24T12:24:42.083841Z",
          "iopub.execute_input": "2025-08-24T12:24:42.084224Z",
          "iopub.status.idle": "2025-08-24T12:24:42.250910Z",
          "shell.execute_reply.started": "2025-08-24T12:24:42.084189Z",
          "shell.execute_reply": "2025-08-24T12:24:42.249811Z"
        },
        "id": "25rhPOMOY-Fk"
      },
      "outputs": [],
      "execution_count": null
    },
    {
      "cell_type": "markdown",
      "source": [
        "## Epoch Control (Early Stopping Implementation)"
      ],
      "metadata": {
        "id": "DJKijtl2Y-Fk"
      }
    },
    {
      "cell_type": "code",
      "source": [
        "# import torch\n",
        "# from transformers import BertTokenizer, BertForSequenceClassification, AdamW\n",
        "# from torch.utils.data import Dataset, DataLoader\n",
        "# from sklearn.model_selection import train_test_split\n",
        "# from sklearn.metrics import classification_report\n",
        "# import numpy as np\n",
        "\n",
        "# # Dataset class for HuggingFace BERT (no changes needed)\n",
        "# class BERTDataset(Dataset):\n",
        "#     def __init__(self, texts, labels, tokenizer, max_len=128):\n",
        "#         self.texts = texts\n",
        "#         self.labels = labels\n",
        "#         self.tokenizer = tokenizer\n",
        "#         self.max_len = max_len\n",
        "\n",
        "#     def __len__(self):\n",
        "#         return len(self.texts)\n",
        "\n",
        "#     def __getitem__(self, idx):\n",
        "#         inputs = self.tokenizer(self.texts[idx], padding='max_length', truncation=True,\n",
        "#                                 max_length=self.max_len, return_tensors=\"pt\")\n",
        "#         return {\n",
        "#             'input_ids': inputs['input_ids'].squeeze(0),\n",
        "#             'attention_mask': inputs['attention_mask'].squeeze(0),\n",
        "#             'labels': torch.tensor(self.labels[idx], dtype=torch.long)\n",
        "#         }\n",
        "\n",
        "# # --- 1. Data Split (with a new validation set) ---\n",
        "# texts = merged_df[\"text\"].astype(str).tolist()\n",
        "# labels = merged_df[\"encoded_status\"].values.tolist()\n",
        "\n",
        "# # First, split into training+validation and test sets\n",
        "# X_train_val_text, X_test_text, y_train_val, y_test_text = train_test_split(texts, labels, test_size=0.2, random_state=42)\n",
        "\n",
        "# # Next, split the training+validation set into training and validation sets\n",
        "# X_train_text, X_val_text, y_train, y_val = train_test_split(X_train_val_text, y_train_val, test_size=0.1, random_state=42) # 10% of train data for validation\n",
        "\n",
        "\n",
        "# # --- 2. Tokenizer and Model ---\n",
        "# tokenizer = BertTokenizer.from_pretrained('bert-base-uncased')\n",
        "# bert_model = BertForSequenceClassification.from_pretrained('bert-base-uncased', num_labels=len(class_names)).to(device)\n",
        "\n",
        "\n",
        "# # --- 3. Dataset + DataLoader (with a new validation loader) ---\n",
        "# train_ds = BERTDataset(X_train_text, y_train, tokenizer)\n",
        "# val_ds = BERTDataset(X_val_text, y_val, tokenizer) # New validation dataset\n",
        "# test_ds = BERTDataset(X_test_text, y_test_text, tokenizer)\n",
        "\n",
        "# train_dl = DataLoader(train_ds, batch_size=16, shuffle=True)\n",
        "# val_dl = DataLoader(val_ds, batch_size=16) # New validation dataloader\n",
        "# test_dl = DataLoader(test_ds, batch_size=16)\n",
        "\n",
        "\n",
        "# # --- 4. Optimizer and Early Stopping Setup ---\n",
        "# optimizer = AdamW(bert_model.parameters(), lr=2e-5)\n",
        "\n",
        "# # Early Stopping parameters\n",
        "# patience = 2 # Number of epochs to wait for improvement before stopping\n",
        "# patience_counter = 0\n",
        "# best_val_loss = float('inf') # Initialize with a very high value\n",
        "# best_model_path = 'best_model_state.bin' # Path to save the best model\n",
        "\n",
        "\n",
        "# # --- 5. Modified Training Loop with Validation ---\n",
        "# epochs = 6 # Set max number of epochs\n",
        "# for epoch in range(epochs):\n",
        "#     # Training phase\n",
        "#     bert_model.train()\n",
        "#     total_train_loss = 0\n",
        "#     for batch in train_dl:\n",
        "#         optimizer.zero_grad()\n",
        "#         outputs = bert_model(\n",
        "#             input_ids=batch['input_ids'].to(device),\n",
        "#             attention_mask=batch['attention_mask'].to(device),\n",
        "#             labels=batch['labels'].to(device)\n",
        "#         )\n",
        "#         loss = outputs.loss\n",
        "#         total_train_loss += loss.item()\n",
        "#         loss.backward()\n",
        "#         optimizer.step()\n",
        "\n",
        "#     avg_train_loss = total_train_loss / len(train_dl)\n",
        "\n",
        "#     # Validation phase\n",
        "#     bert_model.eval()\n",
        "#     total_val_loss = 0\n",
        "#     with torch.no_grad():\n",
        "#         for batch in val_dl:\n",
        "#             outputs = bert_model(\n",
        "#                 input_ids=batch['input_ids'].to(device),\n",
        "#                 attention_mask=batch['attention_mask'].to(device),\n",
        "#                 labels=batch['labels'].to(device)\n",
        "#             )\n",
        "#             loss = outputs.loss\n",
        "#             total_val_loss += loss.item()\n",
        "\n",
        "#     avg_val_loss = total_val_loss / len(val_dl)\n",
        "#     print(f\"Epoch {epoch+1}/{epochs} | Train Loss: {avg_train_loss:.4f} | Val Loss: {avg_val_loss:.4f}\")\n",
        "\n",
        "#     # Early Stopping Check\n",
        "#     if avg_val_loss < best_val_loss:\n",
        "#         best_val_loss = avg_val_loss\n",
        "#         torch.save(bert_model.state_dict(), best_model_path) # Save the best model\n",
        "#         patience_counter = 0 # Reset patience\n",
        "#         print(f\"Validation loss improved. Saving model to {best_model_path}\")\n",
        "#     else:\n",
        "#         patience_counter += 1\n",
        "#         print(f\"Validation loss did not improve. Patience: {patience_counter}/{patience}\")\n",
        "\n",
        "#     if patience_counter >= patience:\n",
        "#         print(\"Early stopping triggered.\")\n",
        "#         break # Exit the training loop\n",
        "\n",
        "# # --- 6. Final Evaluation on the Test Set ---\n",
        "# # Load the best model state before final evaluation\n",
        "# print(f\"\\nLoading best model from {best_model_path} for final evaluation.\")\n",
        "# bert_model.load_state_dict(torch.load(best_model_path))\n",
        "\n",
        "# bert_model.eval()\n",
        "# preds, true = [], []\n",
        "# with torch.no_grad():\n",
        "#     for batch in test_dl:\n",
        "#         outputs = bert_model(\n",
        "#             input_ids=batch['input_ids'].to(device),\n",
        "#             attention_mask=batch['attention_mask'].to(device)\n",
        "#         )\n",
        "#         logits = outputs.logits\n",
        "#         preds.extend(logits.argmax(dim=1).cpu().numpy())\n",
        "#         true.extend(batch['labels'].cpu().numpy())\n",
        "\n",
        "# # Print report\n",
        "# print(\"\\n=== Fine-Tuned BERT Classification Report (Best Model) ===\")\n",
        "# print(classification_report(true, preds, target_names=class_names))"
      ],
      "metadata": {
        "trusted": true,
        "execution": {
          "iopub.status.busy": "2025-07-21T23:10:10.611459Z",
          "iopub.execute_input": "2025-07-21T23:10:10.611722Z",
          "iopub.status.idle": "2025-07-21T23:36:18.136435Z",
          "shell.execute_reply.started": "2025-07-21T23:10:10.611699Z",
          "shell.execute_reply": "2025-07-21T23:36:18.135618Z"
        },
        "id": "ywFH3Y50Y-Fk"
      },
      "outputs": [],
      "execution_count": null
    },
    {
      "cell_type": "markdown",
      "source": [
        "## Saving all the model results stats to a csv file"
      ],
      "metadata": {
        "id": "LkGCdYC4Y-Fk"
      }
    },
    {
      "cell_type": "code",
      "source": [
        "results10v1 = pd.DataFrame(model_results)\n",
        "results10v1.to_csv(\"results_may.csv\")"
      ],
      "metadata": {
        "trusted": true,
        "execution": {
          "iopub.status.busy": "2025-07-21T23:36:18.137387Z",
          "iopub.execute_input": "2025-07-21T23:36:18.137743Z",
          "iopub.status.idle": "2025-07-21T23:36:18.146104Z",
          "shell.execute_reply.started": "2025-07-21T23:36:18.137708Z",
          "shell.execute_reply": "2025-07-21T23:36:18.145302Z"
        },
        "id": "6xnLHJLiY-Fk"
      },
      "outputs": [],
      "execution_count": null
    },
    {
      "cell_type": "markdown",
      "source": [
        "# Model Comparism and Evaluation"
      ],
      "metadata": {
        "id": "l4sla2u-Y-Fk"
      }
    },
    {
      "cell_type": "code",
      "source": [
        "model_names = ['TFIDF_LogReg', 'TFIDF_SVM_GridCV', 'BERT_LogReg', 'BERT_RNN', 'BERT_DNN', 'BERT_Finetuned']\n",
        "class_names = ['Age CB', 'Anxiety', 'Bipolar', 'Ethnic CB', 'Gender CB', 'Not Suicide','Personality Disorder', 'Religion CB', 'Stress', 'Suicide']\n",
        "\n",
        "overall_data = []\n",
        "for name in model_names:\n",
        "    overall_data.append({\n",
        "        'Model': name,\n",
        "        'Accuracy': model_results[name]['accuracy'],\n",
        "        'Macro F1': model_results[name]['macro_f1'],\n",
        "        'Weighted F1': model_results[name]['weighted_f1'],\n",
        "        'Precision': model_results[name]['precision'],\n",
        "        'Recall': model_results[name]['recall']\n",
        "    })\n",
        "\n",
        "# Create and style the DataFrame\n",
        "overall_df = pd.DataFrame(overall_data).set_index('Model')\n",
        "styled_overall = overall_df.style.background_gradient(cmap='Blues').format('{:.2f}').set_caption(\"Overall Model Performance Comparison\")\n",
        "display(styled_overall)\n",
        "\n",
        "\n",
        "# Extracting the per-class F1, Precision and Recall scores\n",
        "class_f1_data = {name: model_results[name]['class_f1'] for name in model_names}\n",
        "class_precision_data = {name: model_results[name]['precision'] for name in model_names}\n",
        "class_recall_data = {name: model_results[name]['recall'] for name in model_names}\n",
        "\n",
        "\n",
        "# Create and style the DataFrame\n",
        "per_class_f1_df = pd.DataFrame(class_f1_data, index=class_names).T # Transpose to have models as rows\n",
        "styled_per_class_f1 = per_class_f1_df.style.background_gradient(cmap='Greens').format('{:.2f}').set_caption(\"Per-Class F1-Score Comparison\")\n",
        "display(styled_per_class_f1)\n",
        "\n",
        "per_class_precision_df = pd.DataFrame(class_precision_data, index=class_names).T # Transpose to have models as rows\n",
        "styled_per_class_precision = per_class_precision_df.style.background_gradient(cmap='Greens').format('{:.2f}').set_caption(\"Per-Class Precision Comparison\")\n",
        "display(styled_per_class_precision)\n",
        "\n",
        "per_class_recall_df = pd.DataFrame(class_recall_data, index=class_names).T # Transpose to have models as rows\n",
        "styled_per_class_recall = per_class_recall_df.style.background_gradient(cmap='Greens').format('{:.2f}').set_caption(\"Per-Class Recall Comparison\")\n",
        "display(styled_per_class_recall)"
      ],
      "metadata": {
        "trusted": true,
        "execution": {
          "iopub.status.busy": "2025-07-21T23:36:18.146961Z",
          "iopub.execute_input": "2025-07-21T23:36:18.147263Z",
          "iopub.status.idle": "2025-07-21T23:36:18.222698Z",
          "shell.execute_reply.started": "2025-07-21T23:36:18.147230Z",
          "shell.execute_reply": "2025-07-21T23:36:18.222015Z"
        },
        "id": "cv_jvaCEY-Fk"
      },
      "outputs": [],
      "execution_count": null
    },
    {
      "cell_type": "markdown",
      "source": [
        "## Plotting the Results - Alternative Visualization"
      ],
      "metadata": {
        "id": "cSylOjpkY-Fk"
      }
    },
    {
      "cell_type": "code",
      "source": [
        "import matplotlib.pyplot as plt\n",
        "import seaborn as sns\n",
        "import numpy as np\n",
        "\n",
        "# model_names = ['TFIDF_LogReg', 'TFIDF_SVM', 'BERT_LogReg', 'BERT_RNN', 'BERT_DNN', 'BERT_Finetuned', 'SBERT_SOSNet']\n",
        "\n",
        "# Define colors\n",
        "colors = {\n",
        "    'BERT_Finetuned': 'blue',\n",
        "    'TFIDF_LogReg': 'orange',\n",
        "    'TFIDF_SVM_GridCV': 'green',\n",
        "    'BERT_LogReg': 'purple',\n",
        "    'BERT_RNN': 'red',\n",
        "    'BERT_DNN': 'pink'\n",
        "}\n",
        "\n",
        "# === PLOT 1: Macro F1 Comparison Across Models ===\n",
        "plt.figure(figsize=(15, 6))\n",
        "macro_f1_scores = [model_results[m]['macro_f1'] for m in model_names]\n",
        "\n",
        "for i, model_name in enumerate(model_names):\n",
        "    plt.bar(model_name, macro_f1_scores[i], color=colors[model_name], label=f\"{model_name}: {macro_f1_scores[i]:.2f}\")\n",
        "\n",
        "plt.ylabel(\"Macro AVG F1-Score\")\n",
        "plt.title(\"Macro Average F1-Score Comparison Across Models\")\n",
        "plt.xticks(rotation=45, ha='right')\n",
        "plt.legend(title=\"Macro AVG F1\", loc='center left', bbox_to_anchor=(1.0, 0.5))\n",
        "plt.tight_layout()\n",
        "plt.grid()\n",
        "plt.show()\n",
        "\n",
        "\n",
        "\n",
        "# === PLOT 2: Accuracy Comparison ===\n",
        "plt.figure(figsize=(15, 6))\n",
        "accuracy_scores = [model_results[m]['accuracy'] for m in model_names]\n",
        "\n",
        "for i, model_name in enumerate(model_names):\n",
        "    plt.bar(model_name, accuracy_scores[i], color=colors[model_name], label=f\"{model_name}: {accuracy_scores[i]:.2f}\")\n",
        "\n",
        "plt.ylabel(\"Accuracy\")\n",
        "plt.title(\"Accuracy Comparison Across Models\")\n",
        "plt.xticks(rotation=45, ha='right')\n",
        "plt.legend(title=\"Accuracy\", loc='center left', bbox_to_anchor=(1.0, 0.5))\n",
        "plt.tight_layout()\n",
        "plt.grid()\n",
        "plt.show()\n",
        "\n",
        "\n",
        "plt.figure(figsize=(15, 6))\n",
        "x = np.arange(len(class_names)) * 1.2  # <-- Add spacing between groups\n",
        "width = 0.12  # <-- Slightly reduce bar width\n",
        "\n",
        "for i, model_name in enumerate(model_names):\n",
        "    plt.bar(x + i * width, model_results[model_name]['class_f1'], width=width,\n",
        "            label=model_name, color=colors[model_name])\n",
        "\n",
        "plt.xticks(x + width * (len(model_names)-1) / 2, class_names, rotation=45, ha='right')\n",
        "plt.ylabel(\"F1-Score\")\n",
        "plt.title(\"F1-Score Comparison Across Models and Classes\")\n",
        "plt.grid(axis='y')\n",
        "plt.legend(loc='center left', bbox_to_anchor=(1, 0.5))\n",
        "plt.tight_layout()\n",
        "plt.show()\n",
        "\n",
        "\n",
        "# === Recall plot version ===\n",
        "plt.figure(figsize=(15, 6))\n",
        "x = np.arange(len(class_names)) * 1.2  # Same spacing\n",
        "width = 0.12\n",
        "\n",
        "for i, model_name in enumerate(model_names):\n",
        "    plt.bar(x + i * width, model_results[model_name]['recall'], width=width,\n",
        "            label=model_name, color=colors[model_name])\n",
        "\n",
        "plt.xticks(x + width * (len(model_names)-1) / 2, class_names, rotation=45, ha='right')\n",
        "plt.ylabel(\"Recall\")\n",
        "plt.title(\"Recall Comparison Across Models and Classes\")\n",
        "plt.grid(axis='y')\n",
        "plt.legend(loc='center left', bbox_to_anchor=(1, 0.5))\n",
        "plt.tight_layout()\n",
        "plt.show()\n",
        "\n",
        "\n",
        "# === PLOT 4: Confusion Matrices for Each Model ===\n",
        "for model_name in model_names:\n",
        "    plt.figure(figsize=(8, 6))\n",
        "    sns.heatmap(model_results[model_name]['confusion'], annot=True, fmt=\"d\", cmap=\"Blues\",\n",
        "                xticklabels=class_names, yticklabels=class_names)\n",
        "    plt.title(f\"Confusion Matrix - {model_name}\")\n",
        "    plt.xlabel(\"Predicted\")\n",
        "    plt.ylabel(\"True\")\n",
        "    plt.xticks(rotation=60)\n",
        "    plt.tight_layout()\n",
        "    plt.show()\n"
      ],
      "metadata": {
        "trusted": true,
        "execution": {
          "iopub.status.busy": "2025-07-21T23:36:18.223398Z",
          "iopub.execute_input": "2025-07-21T23:36:18.223646Z",
          "iopub.status.idle": "2025-07-21T23:36:20.912901Z",
          "shell.execute_reply.started": "2025-07-21T23:36:18.223625Z",
          "shell.execute_reply": "2025-07-21T23:36:20.912035Z"
        },
        "id": "QeIAuhTQY-Fk"
      },
      "outputs": [],
      "execution_count": null
    },
    {
      "cell_type": "markdown",
      "source": [
        "# Explainability - SHAP\n",
        "\n",
        "### Using BERT-Finetuned model\n",
        "\n",
        "Given the Finetuned BERT model is the best performing model, we used SHAP and LLAMA 3 70b using Langchain to understand the decision making for the model."
      ],
      "metadata": {
        "id": "zPH3RWQSY-Fk"
      }
    },
    {
      "cell_type": "code",
      "source": [
        "!pip install langchain-groq -q\n",
        "# === Initialize Groq for LLM ===\n",
        "# Make sure to set your GROQ_API_KEY environment variable\n",
        "from kaggle_secrets import UserSecretsClient\n",
        "user_secrets = UserSecretsClient()\n",
        "api_key = user_secrets.get_secret(\"GROQ_API_KEY\")"
      ],
      "metadata": {
        "trusted": true,
        "execution": {
          "iopub.status.busy": "2025-08-24T11:08:59.710173Z",
          "iopub.execute_input": "2025-08-24T11:08:59.710580Z",
          "iopub.status.idle": "2025-08-24T11:09:04.059856Z",
          "shell.execute_reply.started": "2025-08-24T11:08:59.710548Z",
          "shell.execute_reply": "2025-08-24T11:09:04.058583Z"
        },
        "id": "4nGO8MLEY-Fk"
      },
      "outputs": [],
      "execution_count": null
    },
    {
      "cell_type": "markdown",
      "source": [
        "## Explainabilty - Hybrid SHAP + LLM Explainer"
      ],
      "metadata": {
        "id": "SPtyr_ZCY-Fl"
      }
    },
    {
      "cell_type": "code",
      "source": [
        "import shap\n",
        "import torch\n",
        "import numpy as np\n",
        "import pandas as pd\n",
        "import random\n",
        "from transformers import pipeline, BertTokenizer, BertForSequenceClassification\n",
        "from IPython.display import display, HTML\n",
        "!pip install langchain-groq -q\n",
        "from langchain_groq import ChatGroq\n",
        "from langchain.prompts import PromptTemplate\n",
        "from langchain.schema import HumanMessage\n",
        "import os\n",
        "\n",
        "# === 1. Initialization and Setup ===\n",
        "\n",
        "# --- Initialize SHAP for Notebook Display ---\n",
        "shap.initjs()\n",
        "\n",
        "llm = ChatGroq(\n",
        "    model=\"llama3-70b-8192\",\n",
        "    temperature=0.2,\n",
        "    max_tokens=1500,\n",
        "    groq_api_key=api_key\n",
        ")\n",
        "\n",
        "hybrid_explanation_prompt = PromptTemplate(\n",
        "    input_variables=[\"text\", \"predicted_label\", \"shap_words\"],\n",
        "    template=\"\"\"\n",
        "**Task:** Explain why a BERT model classified a text as '{predicted_label}'.\n",
        "\n",
        "**Text:** \"{text}\"\n",
        "**Key Predictive Words (from SHAP):** {shap_words}\n",
        "\n",
        "**Instructions:**\n",
        "Write a single, concise paragraph that provides a direct and analytical explanation.\n",
        "- **Start directly** with the justification (e.g., \"The model's classification is justified by...\").\n",
        "- **Integrate** the 'Key Predictive Words' into your analysis, explaining how they function within the context of the full text.\n",
        "- **Focus** on the combination of explicit language and emotional tone.\n",
        "- **Do not** use phrases like \"The BERT model classified...\" or \"The Key Words identified...\".\n",
        "- **Maintain** a neutral, academic tone. Avoid clinical diagnoses.\n",
        "\"\"\"\n",
        ")\n",
        "\n",
        "# --- HYBRID FUNCTION: Generates Explanation from Text + SHAP ---\n",
        "def get_hybrid_llm_explanation(text, predicted_label, shap_value, top_n=7):\n",
        "    \"\"\"\n",
        "    Generates a context-aware LLM explanation by combining the original text\n",
        "    with the most influential words from a SHAP analysis.\n",
        "    \"\"\"\n",
        "    try:\n",
        "        class_index = model.config.label2id[predicted_label]\n",
        "        class_shap_values = shap_value[:, class_index]\n",
        "\n",
        "        words = class_shap_values.data\n",
        "        values = class_shap_values.values\n",
        "\n",
        "        top_indices = np.argsort(values)[-top_n:]\n",
        "        top_words = [words[i] for i in top_indices if values[i] > 0]\n",
        "\n",
        "        if not top_words:\n",
        "            return \"No significant positive words were found by SHAP to explain this prediction.\"\n",
        "\n",
        "        shap_words_str = \", \".join(reversed(top_words))\n",
        "\n",
        "        prompt = hybrid_explanation_prompt.format(\n",
        "            text=text,\n",
        "            predicted_label=predicted_label,\n",
        "            shap_words=shap_words_str\n",
        "        )\n",
        "\n",
        "        response = llm.invoke([HumanMessage(content=prompt)])\n",
        "        return response.content.strip()\n",
        "\n",
        "    except Exception as e:\n",
        "        return f\"Error generating hybrid LLM explanation: {str(e)}\"\n",
        "\n",
        "# --- Function to display formatted explanation ---\n",
        "def display_llm_explanation(explanation):\n",
        "    \"\"\"Displays the LLM explanation with nice formatting.\"\"\"\n",
        "    html_content = f\"\"\"\n",
        "    <div style=\"border: 2px solid #4CAF50; border-radius: 10px; padding: 15px; margin: 10px 0; background-color: #f9f9f9;\">\n",
        "        <h3 style=\"color: #4CAF50; margin-top: 0;\">🤖 LLM Explainability Analysis</h3>\n",
        "        <div style=\"line-height: 1.6; white-space: pre-wrap; font-family: Arial, sans-serif;\">\n",
        "{explanation}\n",
        "        </div>\n",
        "    </div>\n",
        "    \"\"\"\n",
        "    display(HTML(html_content))\n",
        "\n",
        "# === 2. Data and Model Loading ===\n",
        "label_map = {\n",
        "    \"suicide\": \"Suicidal\", \"non_suicide\": \"Non-suicidal\", \"anxiety\": \"Anxiety\",\n",
        "    \"bipolar\": \"Bipolar Disorder\", \"stress\": \"Stress\", \"personality_disorder\": \"Personality Disorder\",\n",
        "    \"religion_cb\": \"Religious CB\", \"gender_cb\": \"Gender-based CB\",\n",
        "    \"ethnicity_cb\": \"Ethnicity-based CB\", \"age_cb\": \"Age-based CB\"\n",
        "}\n",
        "\n",
        "try:\n",
        "    df_for_explain = merged_df.copy()\n",
        "    model = bert_model\n",
        "except NameError:\n",
        "    print(\"WARNING: 'merged_df' and 'bert_model' not found. Creating dummy data and model for demonstration.\")\n",
        "    dummy_data = {\n",
        "        'text': [\n",
        "            \"essay about living with a mental illness deborah danner was killed by police in new york city she was a woman living with schizophrenia she was intell...\",\n",
        "            \"i can't take it anymore, i just want to end it all. goodbye.\",\n",
        "            \"the stress from my boss is unbearable.\"\n",
        "        ],\n",
        "        'status': ['bipolar', 'suicide', 'stress'] # Note: 'bipolar' label is for demonstration\n",
        "    }\n",
        "    merged_df = pd.DataFrame(dummy_data)\n",
        "    df_for_explain = merged_df.copy()\n",
        "    model = BertForSequenceClassification.from_pretrained(\"bert-base-uncased\", num_labels=len(label_map))\n",
        "\n",
        "df_for_explain[\"pretty_label\"] = df_for_explain[\"status\"].map(label_map)\n",
        "class_names = sorted(df_for_explain[\"status\"].unique().tolist())\n",
        "id2label = {i: label_map.get(label, label) for i, label in enumerate(class_names)}\n",
        "label2id = {v: k for k, v in id2label.items()}\n",
        "\n",
        "device = 0 if torch.cuda.is_available() else -1\n",
        "tokenizer = BertTokenizer.from_pretrained(\"bert-base-uncased\")\n",
        "model.eval()\n",
        "model.config.id2label = id2label\n",
        "model.config.label2id = label2id\n",
        "\n",
        "pipe = pipeline(\n",
        "    \"text-classification\", model=model, tokenizer=tokenizer, top_k=None, device=device\n",
        ")\n",
        "explainer = shap.Explainer(pipe)\n",
        "\n",
        "# === 3. Main Execution Loop ===\n",
        "num_samples = 5\n",
        "sampled_df = df_for_explain.sample(min(num_samples, len(df_for_explain)), random_state=42).reset_index(drop=True)\n",
        "texts = sampled_df[\"text\"].tolist()\n",
        "true_labels = sampled_df[\"pretty_label\"].tolist()\n",
        "predictions = pipe(texts)\n",
        "\n",
        "print(\"=\" * 80)\n",
        "print(\"HYBRID EXPLAINABILITY ANALYSIS (TEXT + SHAP-GUIDED)\")\n",
        "print(\"=\" * 80)\n",
        "\n",
        "for i, text in enumerate(texts):\n",
        "    pred_probs = predictions[i]\n",
        "    top_pred = max(pred_probs, key=lambda x: x[\"score\"])\n",
        "    predicted_label = top_pred[\"label\"]\n",
        "    confidence = top_pred[\"score\"]\n",
        "\n",
        "    print(f\"\\n📄 **TEXT {i+1}**: \\\"{text[:150]}{'...' if len(text) > 150 else ''}\\\"\")\n",
        "    print(f\"🎯 Actual Label: {true_labels[i]}\")\n",
        "    print(f\"🤖 Predicted: {predicted_label}  |  Confidence: {confidence:.3f}\")\n",
        "    print(\"-\" * 60)\n",
        "\n",
        "    print(\"🔍 SHAP Token-level Explanation:\")\n",
        "    shap_value_list = explainer([text])\n",
        "    shap_value = shap_value_list[0]\n",
        "\n",
        "    shap_html = shap.plots.text(shap_value, display=False)\n",
        "    display(HTML(shap_html))\n",
        "\n",
        "    print(\"\\n🧠 Getting Hybrid LLM Explanation (from Text + SHAP data)...\")\n",
        "    # --- CALLS THE NEW HYBRID FUNCTION ---\n",
        "    llm_explanation = get_hybrid_llm_explanation(\n",
        "        text=text,\n",
        "        predicted_label=predicted_label,\n",
        "        shap_value=shap_value\n",
        "    )\n",
        "    display_llm_explanation(llm_explanation)\n",
        "\n",
        "    print(\"\\n\" + \"=\"*80)"
      ],
      "metadata": {
        "trusted": true,
        "execution": {
          "iopub.status.busy": "2025-08-24T12:23:29.110831Z",
          "iopub.execute_input": "2025-08-24T12:23:29.111295Z",
          "iopub.status.idle": "2025-08-24T12:23:36.537794Z",
          "shell.execute_reply.started": "2025-08-24T12:23:29.111255Z",
          "shell.execute_reply": "2025-08-24T12:23:36.536666Z"
        },
        "id": "Vlb0VzyqY-Fl"
      },
      "outputs": [],
      "execution_count": null
    }
  ]
}